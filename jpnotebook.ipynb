{
 "cells": [
  {
   "cell_type": "code",
   "execution_count": 44,
   "id": "1fc691be0fb33ade",
   "metadata": {
    "collapsed": false,
    "ExecuteTime": {
     "end_time": "2024-06-30T11:22:34.496082600Z",
     "start_time": "2024-06-30T11:22:34.483265400Z"
    }
   },
   "outputs": [
    {
     "name": "stdout",
     "output_type": "stream",
     "text": [
      "archive\\annotations\\Cars0.xml\n",
      "archive\\annotations\\Cars1.xml\n",
      "archive\\annotations\\Cars10.xml\n",
      "archive\\annotations\\Cars100.xml\n",
      "archive\\annotations\\Cars101.xml\n",
      "archive\\annotations\\Cars102.xml\n",
      "archive\\annotations\\Cars103.xml\n",
      "archive\\annotations\\Cars104.xml\n",
      "archive\\annotations\\Cars105.xml\n",
      "archive\\annotations\\Cars106.xml\n",
      "archive\\annotations\\Cars107.xml\n",
      "archive\\annotations\\Cars108.xml\n",
      "archive\\annotations\\Cars109.xml\n",
      "archive\\annotations\\Cars11.xml\n",
      "archive\\annotations\\Cars110.xml\n",
      "archive\\annotations\\Cars111.xml\n",
      "archive\\annotations\\Cars112.xml\n",
      "archive\\annotations\\Cars113.xml\n",
      "archive\\annotations\\Cars114.xml\n",
      "archive\\annotations\\Cars115.xml\n",
      "archive\\annotations\\Cars116.xml\n",
      "archive\\annotations\\Cars117.xml\n",
      "archive\\annotations\\Cars118.xml\n",
      "archive\\annotations\\Cars119.xml\n",
      "archive\\annotations\\Cars12.xml\n",
      "archive\\annotations\\Cars120.xml\n",
      "archive\\annotations\\Cars121.xml\n",
      "archive\\annotations\\Cars122.xml\n",
      "archive\\annotations\\Cars123.xml\n",
      "archive\\annotations\\Cars124.xml\n",
      "archive\\annotations\\Cars125.xml\n",
      "archive\\annotations\\Cars126.xml\n",
      "archive\\annotations\\Cars127.xml\n",
      "archive\\annotations\\Cars128.xml\n",
      "archive\\annotations\\Cars129.xml\n",
      "archive\\annotations\\Cars13.xml\n",
      "archive\\annotations\\Cars130.xml\n",
      "archive\\annotations\\Cars131.xml\n",
      "archive\\annotations\\Cars132.xml\n",
      "archive\\annotations\\Cars133.xml\n",
      "archive\\annotations\\Cars134.xml\n",
      "archive\\annotations\\Cars135.xml\n",
      "archive\\annotations\\Cars136.xml\n",
      "archive\\annotations\\Cars137.xml\n",
      "archive\\annotations\\Cars138.xml\n",
      "archive\\annotations\\Cars139.xml\n",
      "archive\\annotations\\Cars14.xml\n",
      "archive\\annotations\\Cars140.xml\n",
      "archive\\annotations\\Cars141.xml\n",
      "archive\\annotations\\Cars142.xml\n",
      "archive\\annotations\\Cars143.xml\n",
      "archive\\annotations\\Cars144.xml\n",
      "archive\\annotations\\Cars145.xml\n",
      "archive\\annotations\\Cars146.xml\n",
      "archive\\annotations\\Cars147.xml\n",
      "archive\\annotations\\Cars148.xml\n",
      "archive\\annotations\\Cars149.xml\n",
      "archive\\annotations\\Cars15.xml\n",
      "archive\\annotations\\Cars150.xml\n",
      "archive\\annotations\\Cars151.xml\n",
      "archive\\annotations\\Cars152.xml\n",
      "archive\\annotations\\Cars153.xml\n",
      "archive\\annotations\\Cars154.xml\n",
      "archive\\annotations\\Cars155.xml\n",
      "archive\\annotations\\Cars156.xml\n",
      "archive\\annotations\\Cars157.xml\n",
      "archive\\annotations\\Cars158.xml\n",
      "archive\\annotations\\Cars159.xml\n",
      "archive\\annotations\\Cars16.xml\n",
      "archive\\annotations\\Cars160.xml\n",
      "archive\\annotations\\Cars161.xml\n",
      "archive\\annotations\\Cars162.xml\n",
      "archive\\annotations\\Cars163.xml\n",
      "archive\\annotations\\Cars164.xml\n",
      "archive\\annotations\\Cars165.xml\n",
      "archive\\annotations\\Cars166.xml\n",
      "archive\\annotations\\Cars167.xml\n",
      "archive\\annotations\\Cars168.xml\n",
      "archive\\annotations\\Cars169.xml\n",
      "archive\\annotations\\Cars17.xml\n",
      "archive\\annotations\\Cars170.xml\n",
      "archive\\annotations\\Cars171.xml\n",
      "archive\\annotations\\Cars172.xml\n",
      "archive\\annotations\\Cars173.xml\n",
      "archive\\annotations\\Cars174.xml\n",
      "archive\\annotations\\Cars175.xml\n",
      "archive\\annotations\\Cars176.xml\n",
      "archive\\annotations\\Cars177.xml\n",
      "archive\\annotations\\Cars178.xml\n",
      "archive\\annotations\\Cars179.xml\n",
      "archive\\annotations\\Cars18.xml\n",
      "archive\\annotations\\Cars180.xml\n",
      "archive\\annotations\\Cars181.xml\n",
      "archive\\annotations\\Cars182.xml\n",
      "archive\\annotations\\Cars183.xml\n",
      "archive\\annotations\\Cars184.xml\n",
      "archive\\annotations\\Cars185.xml\n",
      "archive\\annotations\\Cars186.xml\n",
      "archive\\annotations\\Cars187.xml\n",
      "archive\\annotations\\Cars188.xml\n",
      "archive\\annotations\\Cars189.xml\n",
      "archive\\annotations\\Cars19.xml\n",
      "archive\\annotations\\Cars190.xml\n",
      "archive\\annotations\\Cars191.xml\n",
      "archive\\annotations\\Cars192.xml\n",
      "archive\\annotations\\Cars193.xml\n",
      "archive\\annotations\\Cars194.xml\n",
      "archive\\annotations\\Cars195.xml\n",
      "archive\\annotations\\Cars196.xml\n",
      "archive\\annotations\\Cars197.xml\n",
      "archive\\annotations\\Cars198.xml\n",
      "archive\\annotations\\Cars199.xml\n",
      "archive\\annotations\\Cars2.xml\n",
      "archive\\annotations\\Cars20.xml\n",
      "archive\\annotations\\Cars200.xml\n",
      "archive\\annotations\\Cars201.xml\n",
      "archive\\annotations\\Cars202.xml\n",
      "archive\\annotations\\Cars203.xml\n",
      "archive\\annotations\\Cars204.xml\n",
      "archive\\annotations\\Cars205.xml\n",
      "archive\\annotations\\Cars206.xml\n",
      "archive\\annotations\\Cars207.xml\n",
      "archive\\annotations\\Cars208.xml\n",
      "archive\\annotations\\Cars209.xml\n",
      "archive\\annotations\\Cars21.xml\n",
      "archive\\annotations\\Cars210.xml\n",
      "archive\\annotations\\Cars211.xml\n",
      "archive\\annotations\\Cars212.xml\n",
      "archive\\annotations\\Cars213.xml\n",
      "archive\\annotations\\Cars214.xml\n",
      "archive\\annotations\\Cars215.xml\n",
      "archive\\annotations\\Cars216.xml\n",
      "archive\\annotations\\Cars217.xml\n",
      "archive\\annotations\\Cars218.xml\n",
      "archive\\annotations\\Cars219.xml\n",
      "archive\\annotations\\Cars22.xml\n",
      "archive\\annotations\\Cars220.xml\n",
      "archive\\annotations\\Cars221.xml\n",
      "archive\\annotations\\Cars222.xml\n",
      "archive\\annotations\\Cars223.xml\n",
      "archive\\annotations\\Cars224.xml\n",
      "archive\\annotations\\Cars225.xml\n",
      "archive\\annotations\\Cars226.xml\n",
      "archive\\annotations\\Cars227.xml\n",
      "archive\\annotations\\Cars228.xml\n",
      "archive\\annotations\\Cars229.xml\n",
      "archive\\annotations\\Cars23.xml\n",
      "archive\\annotations\\Cars230.xml\n",
      "archive\\annotations\\Cars231.xml\n",
      "archive\\annotations\\Cars232.xml\n",
      "archive\\annotations\\Cars233.xml\n",
      "archive\\annotations\\Cars234.xml\n",
      "archive\\annotations\\Cars235.xml\n",
      "archive\\annotations\\Cars236.xml\n",
      "archive\\annotations\\Cars237.xml\n",
      "archive\\annotations\\Cars238.xml\n",
      "archive\\annotations\\Cars239.xml\n",
      "archive\\annotations\\Cars24.xml\n",
      "archive\\annotations\\Cars240.xml\n",
      "archive\\annotations\\Cars241.xml\n",
      "archive\\annotations\\Cars242.xml\n",
      "archive\\annotations\\Cars243.xml\n",
      "archive\\annotations\\Cars244.xml\n",
      "archive\\annotations\\Cars245.xml\n",
      "archive\\annotations\\Cars246.xml\n",
      "archive\\annotations\\Cars247.xml\n",
      "archive\\annotations\\Cars248.xml\n",
      "archive\\annotations\\Cars249.xml\n",
      "archive\\annotations\\Cars25.xml\n",
      "archive\\annotations\\Cars250.xml\n",
      "archive\\annotations\\Cars251.xml\n",
      "archive\\annotations\\Cars252.xml\n",
      "archive\\annotations\\Cars253.xml\n",
      "archive\\annotations\\Cars254.xml\n",
      "archive\\annotations\\Cars255.xml\n",
      "archive\\annotations\\Cars256.xml\n",
      "archive\\annotations\\Cars257.xml\n",
      "archive\\annotations\\Cars258.xml\n",
      "archive\\annotations\\Cars259.xml\n",
      "archive\\annotations\\Cars26.xml\n",
      "archive\\annotations\\Cars260.xml\n",
      "archive\\annotations\\Cars261.xml\n",
      "archive\\annotations\\Cars262.xml\n",
      "archive\\annotations\\Cars263.xml\n",
      "archive\\annotations\\Cars264.xml\n",
      "archive\\annotations\\Cars265.xml\n",
      "archive\\annotations\\Cars266.xml\n",
      "archive\\annotations\\Cars267.xml\n",
      "archive\\annotations\\Cars268.xml\n",
      "archive\\annotations\\Cars269.xml\n",
      "archive\\annotations\\Cars27.xml\n",
      "archive\\annotations\\Cars270.xml\n",
      "archive\\annotations\\Cars271.xml\n",
      "archive\\annotations\\Cars272.xml\n",
      "archive\\annotations\\Cars273.xml\n",
      "archive\\annotations\\Cars274.xml\n",
      "archive\\annotations\\Cars275.xml\n",
      "archive\\annotations\\Cars276.xml\n",
      "archive\\annotations\\Cars277.xml\n",
      "archive\\annotations\\Cars278.xml\n",
      "archive\\annotations\\Cars279.xml\n",
      "archive\\annotations\\Cars28.xml\n",
      "archive\\annotations\\Cars280.xml\n",
      "archive\\annotations\\Cars281.xml\n",
      "archive\\annotations\\Cars282.xml\n",
      "archive\\annotations\\Cars283.xml\n",
      "archive\\annotations\\Cars284.xml\n",
      "archive\\annotations\\Cars285.xml\n",
      "archive\\annotations\\Cars286.xml\n",
      "archive\\annotations\\Cars287.xml\n",
      "archive\\annotations\\Cars288.xml\n",
      "archive\\annotations\\Cars289.xml\n",
      "archive\\annotations\\Cars29.xml\n",
      "archive\\annotations\\Cars290.xml\n",
      "archive\\annotations\\Cars291.xml\n",
      "archive\\annotations\\Cars292.xml\n",
      "archive\\annotations\\Cars293.xml\n",
      "archive\\annotations\\Cars294.xml\n",
      "archive\\annotations\\Cars295.xml\n",
      "archive\\annotations\\Cars296.xml\n",
      "archive\\annotations\\Cars297.xml\n",
      "archive\\annotations\\Cars298.xml\n",
      "archive\\annotations\\Cars299.xml\n",
      "archive\\annotations\\Cars3.xml\n",
      "archive\\annotations\\Cars30.xml\n",
      "archive\\annotations\\Cars300.xml\n",
      "archive\\annotations\\Cars301.xml\n",
      "archive\\annotations\\Cars302.xml\n",
      "archive\\annotations\\Cars303.xml\n",
      "archive\\annotations\\Cars304.xml\n",
      "archive\\annotations\\Cars305.xml\n",
      "archive\\annotations\\Cars306.xml\n",
      "archive\\annotations\\Cars307.xml\n",
      "archive\\annotations\\Cars308.xml\n",
      "archive\\annotations\\Cars309.xml\n",
      "archive\\annotations\\Cars31.xml\n",
      "archive\\annotations\\Cars310.xml\n",
      "archive\\annotations\\Cars311.xml\n",
      "archive\\annotations\\Cars312.xml\n",
      "archive\\annotations\\Cars313.xml\n",
      "archive\\annotations\\Cars314.xml\n",
      "archive\\annotations\\Cars315.xml\n",
      "archive\\annotations\\Cars316.xml\n",
      "archive\\annotations\\Cars317.xml\n",
      "archive\\annotations\\Cars318.xml\n",
      "archive\\annotations\\Cars319.xml\n",
      "archive\\annotations\\Cars32.xml\n",
      "archive\\annotations\\Cars320.xml\n",
      "archive\\annotations\\Cars321.xml\n",
      "archive\\annotations\\Cars322.xml\n",
      "archive\\annotations\\Cars323.xml\n",
      "archive\\annotations\\Cars324.xml\n",
      "archive\\annotations\\Cars325.xml\n",
      "archive\\annotations\\Cars326.xml\n",
      "archive\\annotations\\Cars327.xml\n",
      "archive\\annotations\\Cars328.xml\n",
      "archive\\annotations\\Cars329.xml\n",
      "archive\\annotations\\Cars33.xml\n",
      "archive\\annotations\\Cars330.xml\n",
      "archive\\annotations\\Cars331.xml\n",
      "archive\\annotations\\Cars332.xml\n",
      "archive\\annotations\\Cars333.xml\n",
      "archive\\annotations\\Cars334.xml\n",
      "archive\\annotations\\Cars335.xml\n",
      "archive\\annotations\\Cars336.xml\n",
      "archive\\annotations\\Cars337.xml\n",
      "archive\\annotations\\Cars338.xml\n",
      "archive\\annotations\\Cars339.xml\n",
      "archive\\annotations\\Cars34.xml\n",
      "archive\\annotations\\Cars340.xml\n",
      "archive\\annotations\\Cars341.xml\n",
      "archive\\annotations\\Cars342.xml\n",
      "archive\\annotations\\Cars343.xml\n",
      "archive\\annotations\\Cars344.xml\n",
      "archive\\annotations\\Cars345.xml\n",
      "archive\\annotations\\Cars346.xml\n",
      "archive\\annotations\\Cars347.xml\n",
      "archive\\annotations\\Cars348.xml\n",
      "archive\\annotations\\Cars349.xml\n",
      "archive\\annotations\\Cars35.xml\n",
      "archive\\annotations\\Cars350.xml\n",
      "archive\\annotations\\Cars351.xml\n",
      "archive\\annotations\\Cars352.xml\n",
      "archive\\annotations\\Cars353.xml\n",
      "archive\\annotations\\Cars354.xml\n",
      "archive\\annotations\\Cars355.xml\n",
      "archive\\annotations\\Cars356.xml\n",
      "archive\\annotations\\Cars357.xml\n",
      "archive\\annotations\\Cars358.xml\n",
      "archive\\annotations\\Cars359.xml\n",
      "archive\\annotations\\Cars36.xml\n",
      "archive\\annotations\\Cars360.xml\n",
      "archive\\annotations\\Cars361.xml\n",
      "archive\\annotations\\Cars362.xml\n",
      "archive\\annotations\\Cars363.xml\n",
      "archive\\annotations\\Cars364.xml\n",
      "archive\\annotations\\Cars365.xml\n",
      "archive\\annotations\\Cars366.xml\n",
      "archive\\annotations\\Cars367.xml\n",
      "archive\\annotations\\Cars368.xml\n",
      "archive\\annotations\\Cars369.xml\n",
      "archive\\annotations\\Cars37.xml\n",
      "archive\\annotations\\Cars370.xml\n",
      "archive\\annotations\\Cars371.xml\n",
      "archive\\annotations\\Cars372.xml\n",
      "archive\\annotations\\Cars373.xml\n",
      "archive\\annotations\\Cars374.xml\n",
      "archive\\annotations\\Cars375.xml\n",
      "archive\\annotations\\Cars376.xml\n",
      "archive\\annotations\\Cars377.xml\n",
      "archive\\annotations\\Cars378.xml\n",
      "archive\\annotations\\Cars379.xml\n",
      "archive\\annotations\\Cars38.xml\n",
      "archive\\annotations\\Cars380.xml\n",
      "archive\\annotations\\Cars381.xml\n",
      "archive\\annotations\\Cars382.xml\n",
      "archive\\annotations\\Cars383.xml\n",
      "archive\\annotations\\Cars384.xml\n",
      "archive\\annotations\\Cars385.xml\n",
      "archive\\annotations\\Cars386.xml\n",
      "archive\\annotations\\Cars387.xml\n",
      "archive\\annotations\\Cars388.xml\n",
      "archive\\annotations\\Cars389.xml\n",
      "archive\\annotations\\Cars39.xml\n",
      "archive\\annotations\\Cars390.xml\n",
      "archive\\annotations\\Cars391.xml\n",
      "archive\\annotations\\Cars392.xml\n",
      "archive\\annotations\\Cars393.xml\n",
      "archive\\annotations\\Cars394.xml\n",
      "archive\\annotations\\Cars395.xml\n",
      "archive\\annotations\\Cars396.xml\n",
      "archive\\annotations\\Cars397.xml\n",
      "archive\\annotations\\Cars398.xml\n",
      "archive\\annotations\\Cars399.xml\n",
      "archive\\annotations\\Cars4.xml\n",
      "archive\\annotations\\Cars40.xml\n",
      "archive\\annotations\\Cars400.xml\n",
      "archive\\annotations\\Cars401.xml\n",
      "archive\\annotations\\Cars402.xml\n",
      "archive\\annotations\\Cars403.xml\n",
      "archive\\annotations\\Cars404.xml\n",
      "archive\\annotations\\Cars405.xml\n",
      "archive\\annotations\\Cars406.xml\n",
      "archive\\annotations\\Cars407.xml\n",
      "archive\\annotations\\Cars408.xml\n",
      "archive\\annotations\\Cars409.xml\n",
      "archive\\annotations\\Cars41.xml\n",
      "archive\\annotations\\Cars410.xml\n",
      "archive\\annotations\\Cars411.xml\n",
      "archive\\annotations\\Cars412.xml\n",
      "archive\\annotations\\Cars413.xml\n",
      "archive\\annotations\\Cars414.xml\n",
      "archive\\annotations\\Cars415.xml\n",
      "archive\\annotations\\Cars416.xml\n",
      "archive\\annotations\\Cars417.xml\n",
      "archive\\annotations\\Cars418.xml\n",
      "archive\\annotations\\Cars419.xml\n",
      "archive\\annotations\\Cars42.xml\n",
      "archive\\annotations\\Cars420.xml\n",
      "archive\\annotations\\Cars421.xml\n",
      "archive\\annotations\\Cars422.xml\n",
      "archive\\annotations\\Cars423.xml\n",
      "archive\\annotations\\Cars424.xml\n",
      "archive\\annotations\\Cars425.xml\n",
      "archive\\annotations\\Cars426.xml\n",
      "archive\\annotations\\Cars427.xml\n",
      "archive\\annotations\\Cars428.xml\n",
      "archive\\annotations\\Cars429.xml\n",
      "archive\\annotations\\Cars43.xml\n",
      "archive\\annotations\\Cars430.xml\n",
      "archive\\annotations\\Cars431.xml\n",
      "archive\\annotations\\Cars432.xml\n",
      "archive\\annotations\\Cars44.xml\n",
      "archive\\annotations\\Cars45.xml\n",
      "archive\\annotations\\Cars46.xml\n",
      "archive\\annotations\\Cars47.xml\n",
      "archive\\annotations\\Cars48.xml\n",
      "archive\\annotations\\Cars49.xml\n",
      "archive\\annotations\\Cars5.xml\n",
      "archive\\annotations\\Cars50.xml\n",
      "archive\\annotations\\Cars51.xml\n",
      "archive\\annotations\\Cars52.xml\n",
      "archive\\annotations\\Cars53.xml\n",
      "archive\\annotations\\Cars54.xml\n",
      "archive\\annotations\\Cars55.xml\n",
      "archive\\annotations\\Cars56.xml\n",
      "archive\\annotations\\Cars57.xml\n",
      "archive\\annotations\\Cars58.xml\n",
      "archive\\annotations\\Cars59.xml\n",
      "archive\\annotations\\Cars6.xml\n",
      "archive\\annotations\\Cars60.xml\n",
      "archive\\annotations\\Cars61.xml\n",
      "archive\\annotations\\Cars62.xml\n",
      "archive\\annotations\\Cars63.xml\n",
      "archive\\annotations\\Cars64.xml\n",
      "archive\\annotations\\Cars65.xml\n",
      "archive\\annotations\\Cars66.xml\n",
      "archive\\annotations\\Cars67.xml\n",
      "archive\\annotations\\Cars68.xml\n",
      "archive\\annotations\\Cars69.xml\n",
      "archive\\annotations\\Cars7.xml\n",
      "archive\\annotations\\Cars70.xml\n",
      "archive\\annotations\\Cars71.xml\n",
      "archive\\annotations\\Cars72.xml\n",
      "archive\\annotations\\Cars73.xml\n",
      "archive\\annotations\\Cars74.xml\n",
      "archive\\annotations\\Cars75.xml\n",
      "archive\\annotations\\Cars76.xml\n",
      "archive\\annotations\\Cars77.xml\n",
      "archive\\annotations\\Cars78.xml\n",
      "archive\\annotations\\Cars79.xml\n",
      "archive\\annotations\\Cars8.xml\n",
      "archive\\annotations\\Cars80.xml\n",
      "archive\\annotations\\Cars81.xml\n",
      "archive\\annotations\\Cars82.xml\n",
      "archive\\annotations\\Cars83.xml\n",
      "archive\\annotations\\Cars84.xml\n",
      "archive\\annotations\\Cars85.xml\n",
      "archive\\annotations\\Cars86.xml\n",
      "archive\\annotations\\Cars87.xml\n",
      "archive\\annotations\\Cars88.xml\n",
      "archive\\annotations\\Cars89.xml\n",
      "archive\\annotations\\Cars9.xml\n",
      "archive\\annotations\\Cars90.xml\n",
      "archive\\annotations\\Cars91.xml\n",
      "archive\\annotations\\Cars92.xml\n",
      "archive\\annotations\\Cars93.xml\n",
      "archive\\annotations\\Cars94.xml\n",
      "archive\\annotations\\Cars95.xml\n",
      "archive\\annotations\\Cars96.xml\n",
      "archive\\annotations\\Cars97.xml\n",
      "archive\\annotations\\Cars98.xml\n",
      "archive\\annotations\\Cars99.xml\n",
      "archive\\images\\Cars0.png\n",
      "archive\\images\\Cars1.png\n",
      "archive\\images\\Cars10.png\n",
      "archive\\images\\Cars100.png\n",
      "archive\\images\\Cars101.png\n",
      "archive\\images\\Cars102.png\n",
      "archive\\images\\Cars103.png\n",
      "archive\\images\\Cars104.png\n",
      "archive\\images\\Cars105.png\n",
      "archive\\images\\Cars106.png\n",
      "archive\\images\\Cars107.png\n",
      "archive\\images\\Cars108.png\n",
      "archive\\images\\Cars109.png\n",
      "archive\\images\\Cars11.png\n",
      "archive\\images\\Cars110.png\n",
      "archive\\images\\Cars111.png\n",
      "archive\\images\\Cars112.png\n",
      "archive\\images\\Cars113.png\n",
      "archive\\images\\Cars114.png\n",
      "archive\\images\\Cars115.png\n",
      "archive\\images\\Cars116.png\n",
      "archive\\images\\Cars117.png\n",
      "archive\\images\\Cars118.png\n",
      "archive\\images\\Cars119.png\n",
      "archive\\images\\Cars12.png\n",
      "archive\\images\\Cars120.png\n",
      "archive\\images\\Cars121.png\n",
      "archive\\images\\Cars122.png\n",
      "archive\\images\\Cars123.png\n",
      "archive\\images\\Cars124.png\n",
      "archive\\images\\Cars125.png\n",
      "archive\\images\\Cars126.png\n",
      "archive\\images\\Cars127.png\n",
      "archive\\images\\Cars128.png\n",
      "archive\\images\\Cars129.png\n",
      "archive\\images\\Cars13.png\n",
      "archive\\images\\Cars130.png\n",
      "archive\\images\\Cars131.png\n",
      "archive\\images\\Cars132.png\n",
      "archive\\images\\Cars133.png\n",
      "archive\\images\\Cars134.png\n",
      "archive\\images\\Cars135.png\n",
      "archive\\images\\Cars136.png\n",
      "archive\\images\\Cars137.png\n",
      "archive\\images\\Cars138.png\n",
      "archive\\images\\Cars139.png\n",
      "archive\\images\\Cars14.png\n",
      "archive\\images\\Cars140.png\n",
      "archive\\images\\Cars141.png\n",
      "archive\\images\\Cars142.png\n",
      "archive\\images\\Cars143.png\n",
      "archive\\images\\Cars144.png\n",
      "archive\\images\\Cars145.png\n",
      "archive\\images\\Cars146.png\n",
      "archive\\images\\Cars147.png\n",
      "archive\\images\\Cars148.png\n",
      "archive\\images\\Cars149.png\n",
      "archive\\images\\Cars15.png\n",
      "archive\\images\\Cars150.png\n",
      "archive\\images\\Cars151.png\n",
      "archive\\images\\Cars152.png\n",
      "archive\\images\\Cars153.png\n",
      "archive\\images\\Cars154.png\n",
      "archive\\images\\Cars155.png\n",
      "archive\\images\\Cars156.png\n",
      "archive\\images\\Cars157.png\n",
      "archive\\images\\Cars158.png\n",
      "archive\\images\\Cars159.png\n",
      "archive\\images\\Cars16.png\n",
      "archive\\images\\Cars160.png\n",
      "archive\\images\\Cars161.png\n",
      "archive\\images\\Cars162.png\n",
      "archive\\images\\Cars163.png\n",
      "archive\\images\\Cars164.png\n",
      "archive\\images\\Cars165.png\n",
      "archive\\images\\Cars166.png\n",
      "archive\\images\\Cars167.png\n",
      "archive\\images\\Cars168.png\n",
      "archive\\images\\Cars169.png\n",
      "archive\\images\\Cars17.png\n",
      "archive\\images\\Cars170.png\n",
      "archive\\images\\Cars171.png\n",
      "archive\\images\\Cars172.png\n",
      "archive\\images\\Cars173.png\n",
      "archive\\images\\Cars174.png\n",
      "archive\\images\\Cars175.png\n",
      "archive\\images\\Cars176.png\n",
      "archive\\images\\Cars177.png\n",
      "archive\\images\\Cars178.png\n",
      "archive\\images\\Cars179.png\n",
      "archive\\images\\Cars18.png\n",
      "archive\\images\\Cars180.png\n",
      "archive\\images\\Cars181.png\n",
      "archive\\images\\Cars182.png\n",
      "archive\\images\\Cars183.png\n",
      "archive\\images\\Cars184.png\n",
      "archive\\images\\Cars185.png\n",
      "archive\\images\\Cars186.png\n",
      "archive\\images\\Cars187.png\n",
      "archive\\images\\Cars188.png\n",
      "archive\\images\\Cars189.png\n",
      "archive\\images\\Cars19.png\n",
      "archive\\images\\Cars190.png\n",
      "archive\\images\\Cars191.png\n",
      "archive\\images\\Cars192.png\n",
      "archive\\images\\Cars193.png\n",
      "archive\\images\\Cars194.png\n",
      "archive\\images\\Cars195.png\n",
      "archive\\images\\Cars196.png\n",
      "archive\\images\\Cars197.png\n",
      "archive\\images\\Cars198.png\n",
      "archive\\images\\Cars199.png\n",
      "archive\\images\\Cars2.png\n",
      "archive\\images\\Cars20.png\n",
      "archive\\images\\Cars200.png\n",
      "archive\\images\\Cars201.png\n",
      "archive\\images\\Cars202.png\n",
      "archive\\images\\Cars203.png\n",
      "archive\\images\\Cars204.png\n",
      "archive\\images\\Cars205.png\n",
      "archive\\images\\Cars206.png\n",
      "archive\\images\\Cars207.png\n",
      "archive\\images\\Cars208.png\n",
      "archive\\images\\Cars209.png\n",
      "archive\\images\\Cars21.png\n",
      "archive\\images\\Cars210.png\n",
      "archive\\images\\Cars211.png\n",
      "archive\\images\\Cars212.png\n",
      "archive\\images\\Cars213.png\n",
      "archive\\images\\Cars214.png\n",
      "archive\\images\\Cars215.png\n",
      "archive\\images\\Cars216.png\n",
      "archive\\images\\Cars217.png\n",
      "archive\\images\\Cars218.png\n",
      "archive\\images\\Cars219.png\n",
      "archive\\images\\Cars22.png\n",
      "archive\\images\\Cars220.png\n",
      "archive\\images\\Cars221.png\n",
      "archive\\images\\Cars222.png\n",
      "archive\\images\\Cars223.png\n",
      "archive\\images\\Cars224.png\n",
      "archive\\images\\Cars225.png\n",
      "archive\\images\\Cars226.png\n",
      "archive\\images\\Cars227.png\n",
      "archive\\images\\Cars228.png\n",
      "archive\\images\\Cars229.png\n",
      "archive\\images\\Cars23.png\n",
      "archive\\images\\Cars230.png\n",
      "archive\\images\\Cars231.png\n",
      "archive\\images\\Cars232.png\n",
      "archive\\images\\Cars233.png\n",
      "archive\\images\\Cars234.png\n",
      "archive\\images\\Cars235.png\n",
      "archive\\images\\Cars236.png\n",
      "archive\\images\\Cars237.png\n",
      "archive\\images\\Cars238.png\n",
      "archive\\images\\Cars239.png\n",
      "archive\\images\\Cars24.png\n",
      "archive\\images\\Cars240.png\n",
      "archive\\images\\Cars241.png\n",
      "archive\\images\\Cars242.png\n",
      "archive\\images\\Cars243.png\n",
      "archive\\images\\Cars244.png\n",
      "archive\\images\\Cars245.png\n",
      "archive\\images\\Cars246.png\n",
      "archive\\images\\Cars247.png\n",
      "archive\\images\\Cars248.png\n",
      "archive\\images\\Cars249.png\n",
      "archive\\images\\Cars25.png\n",
      "archive\\images\\Cars250.png\n",
      "archive\\images\\Cars251.png\n",
      "archive\\images\\Cars252.png\n",
      "archive\\images\\Cars253.png\n",
      "archive\\images\\Cars254.png\n",
      "archive\\images\\Cars255.png\n",
      "archive\\images\\Cars256.png\n",
      "archive\\images\\Cars257.png\n",
      "archive\\images\\Cars258.png\n",
      "archive\\images\\Cars259.png\n",
      "archive\\images\\Cars26.png\n",
      "archive\\images\\Cars260.png\n",
      "archive\\images\\Cars261.png\n",
      "archive\\images\\Cars262.png\n",
      "archive\\images\\Cars263.png\n",
      "archive\\images\\Cars264.png\n",
      "archive\\images\\Cars265.png\n",
      "archive\\images\\Cars266.png\n",
      "archive\\images\\Cars267.png\n",
      "archive\\images\\Cars268.png\n",
      "archive\\images\\Cars269.png\n",
      "archive\\images\\Cars27.png\n",
      "archive\\images\\Cars270.png\n",
      "archive\\images\\Cars271.png\n",
      "archive\\images\\Cars272.png\n",
      "archive\\images\\Cars273.png\n",
      "archive\\images\\Cars274.png\n",
      "archive\\images\\Cars275.png\n",
      "archive\\images\\Cars276.png\n",
      "archive\\images\\Cars277.png\n",
      "archive\\images\\Cars278.png\n",
      "archive\\images\\Cars279.png\n",
      "archive\\images\\Cars28.png\n",
      "archive\\images\\Cars280.png\n",
      "archive\\images\\Cars281.png\n",
      "archive\\images\\Cars282.png\n",
      "archive\\images\\Cars283.png\n",
      "archive\\images\\Cars284.png\n",
      "archive\\images\\Cars285.png\n",
      "archive\\images\\Cars286.png\n",
      "archive\\images\\Cars287.png\n",
      "archive\\images\\Cars288.png\n",
      "archive\\images\\Cars289.png\n",
      "archive\\images\\Cars29.png\n",
      "archive\\images\\Cars290.png\n",
      "archive\\images\\Cars291.png\n",
      "archive\\images\\Cars292.png\n",
      "archive\\images\\Cars293.png\n",
      "archive\\images\\Cars294.png\n",
      "archive\\images\\Cars295.png\n",
      "archive\\images\\Cars296.png\n",
      "archive\\images\\Cars297.png\n",
      "archive\\images\\Cars298.png\n",
      "archive\\images\\Cars299.png\n",
      "archive\\images\\Cars3.png\n",
      "archive\\images\\Cars30.png\n",
      "archive\\images\\Cars300.png\n",
      "archive\\images\\Cars301.png\n",
      "archive\\images\\Cars302.png\n",
      "archive\\images\\Cars303.png\n",
      "archive\\images\\Cars304.png\n",
      "archive\\images\\Cars305.png\n",
      "archive\\images\\Cars306.png\n",
      "archive\\images\\Cars307.png\n",
      "archive\\images\\Cars308.png\n",
      "archive\\images\\Cars309.png\n",
      "archive\\images\\Cars31.png\n",
      "archive\\images\\Cars310.png\n",
      "archive\\images\\Cars311.png\n",
      "archive\\images\\Cars312.png\n",
      "archive\\images\\Cars313.png\n",
      "archive\\images\\Cars314.png\n",
      "archive\\images\\Cars315.png\n",
      "archive\\images\\Cars316.png\n",
      "archive\\images\\Cars317.png\n",
      "archive\\images\\Cars318.png\n",
      "archive\\images\\Cars319.png\n",
      "archive\\images\\Cars32.png\n",
      "archive\\images\\Cars320.png\n",
      "archive\\images\\Cars321.png\n",
      "archive\\images\\Cars322.png\n",
      "archive\\images\\Cars323.png\n",
      "archive\\images\\Cars324.png\n",
      "archive\\images\\Cars325.png\n",
      "archive\\images\\Cars326.png\n",
      "archive\\images\\Cars327.png\n",
      "archive\\images\\Cars328.png\n",
      "archive\\images\\Cars329.png\n",
      "archive\\images\\Cars33.png\n",
      "archive\\images\\Cars330.png\n",
      "archive\\images\\Cars331.png\n",
      "archive\\images\\Cars332.png\n",
      "archive\\images\\Cars333.png\n",
      "archive\\images\\Cars334.png\n",
      "archive\\images\\Cars335.png\n",
      "archive\\images\\Cars336.png\n",
      "archive\\images\\Cars337.png\n",
      "archive\\images\\Cars338.png\n",
      "archive\\images\\Cars339.png\n",
      "archive\\images\\Cars34.png\n",
      "archive\\images\\Cars340.png\n",
      "archive\\images\\Cars341.png\n",
      "archive\\images\\Cars342.png\n",
      "archive\\images\\Cars343.png\n",
      "archive\\images\\Cars344.png\n",
      "archive\\images\\Cars345.png\n",
      "archive\\images\\Cars346.png\n",
      "archive\\images\\Cars347.png\n",
      "archive\\images\\Cars348.png\n",
      "archive\\images\\Cars349.png\n",
      "archive\\images\\Cars35.png\n",
      "archive\\images\\Cars350.png\n",
      "archive\\images\\Cars351.png\n",
      "archive\\images\\Cars352.png\n",
      "archive\\images\\Cars353.png\n",
      "archive\\images\\Cars354.png\n",
      "archive\\images\\Cars355.png\n",
      "archive\\images\\Cars356.png\n",
      "archive\\images\\Cars357.png\n",
      "archive\\images\\Cars358.png\n",
      "archive\\images\\Cars359.png\n",
      "archive\\images\\Cars36.png\n",
      "archive\\images\\Cars360.png\n",
      "archive\\images\\Cars361.png\n",
      "archive\\images\\Cars362.png\n",
      "archive\\images\\Cars363.png\n",
      "archive\\images\\Cars364.png\n",
      "archive\\images\\Cars365.png\n",
      "archive\\images\\Cars366.png\n",
      "archive\\images\\Cars367.png\n",
      "archive\\images\\Cars368.png\n",
      "archive\\images\\Cars369.png\n",
      "archive\\images\\Cars37.png\n",
      "archive\\images\\Cars370.png\n",
      "archive\\images\\Cars371.png\n",
      "archive\\images\\Cars372.png\n",
      "archive\\images\\Cars373.png\n",
      "archive\\images\\Cars374.png\n",
      "archive\\images\\Cars375.png\n",
      "archive\\images\\Cars376.png\n",
      "archive\\images\\Cars377.png\n",
      "archive\\images\\Cars378.png\n",
      "archive\\images\\Cars379.png\n",
      "archive\\images\\Cars38.png\n",
      "archive\\images\\Cars380.png\n",
      "archive\\images\\Cars381.png\n",
      "archive\\images\\Cars382.png\n",
      "archive\\images\\Cars383.png\n",
      "archive\\images\\Cars384.png\n",
      "archive\\images\\Cars385.png\n",
      "archive\\images\\Cars386.png\n",
      "archive\\images\\Cars387.png\n",
      "archive\\images\\Cars388.png\n",
      "archive\\images\\Cars389.png\n",
      "archive\\images\\Cars39.png\n",
      "archive\\images\\Cars390.png\n",
      "archive\\images\\Cars391.png\n",
      "archive\\images\\Cars392.png\n",
      "archive\\images\\Cars393.png\n",
      "archive\\images\\Cars394.png\n",
      "archive\\images\\Cars395.png\n",
      "archive\\images\\Cars396.png\n",
      "archive\\images\\Cars397.png\n",
      "archive\\images\\Cars398.png\n",
      "archive\\images\\Cars399.png\n",
      "archive\\images\\Cars4.png\n",
      "archive\\images\\Cars40.png\n",
      "archive\\images\\Cars400.png\n",
      "archive\\images\\Cars401.png\n",
      "archive\\images\\Cars402.png\n",
      "archive\\images\\Cars403.png\n",
      "archive\\images\\Cars404.png\n",
      "archive\\images\\Cars405.png\n",
      "archive\\images\\Cars406.png\n",
      "archive\\images\\Cars407.png\n",
      "archive\\images\\Cars408.png\n",
      "archive\\images\\Cars409.png\n",
      "archive\\images\\Cars41.png\n",
      "archive\\images\\Cars410.png\n",
      "archive\\images\\Cars411.png\n",
      "archive\\images\\Cars412.png\n",
      "archive\\images\\Cars413.png\n",
      "archive\\images\\Cars414.png\n",
      "archive\\images\\Cars415.png\n",
      "archive\\images\\Cars416.png\n",
      "archive\\images\\Cars417.png\n",
      "archive\\images\\Cars418.png\n",
      "archive\\images\\Cars419.png\n",
      "archive\\images\\Cars42.png\n",
      "archive\\images\\Cars420.png\n",
      "archive\\images\\Cars421.png\n",
      "archive\\images\\Cars422.png\n",
      "archive\\images\\Cars423.png\n",
      "archive\\images\\Cars424.png\n",
      "archive\\images\\Cars425.png\n",
      "archive\\images\\Cars426.png\n",
      "archive\\images\\Cars427.png\n",
      "archive\\images\\Cars428.png\n",
      "archive\\images\\Cars429.png\n",
      "archive\\images\\Cars43.png\n",
      "archive\\images\\Cars430.png\n",
      "archive\\images\\Cars431.png\n",
      "archive\\images\\Cars432.png\n",
      "archive\\images\\Cars44.png\n",
      "archive\\images\\Cars45.png\n",
      "archive\\images\\Cars46.png\n",
      "archive\\images\\Cars47.png\n",
      "archive\\images\\Cars48.png\n",
      "archive\\images\\Cars49.png\n",
      "archive\\images\\Cars5.png\n",
      "archive\\images\\Cars50.png\n",
      "archive\\images\\Cars51.png\n",
      "archive\\images\\Cars52.png\n",
      "archive\\images\\Cars53.png\n",
      "archive\\images\\Cars54.png\n",
      "archive\\images\\Cars55.png\n",
      "archive\\images\\Cars56.png\n",
      "archive\\images\\Cars57.png\n",
      "archive\\images\\Cars58.png\n",
      "archive\\images\\Cars59.png\n",
      "archive\\images\\Cars6.png\n",
      "archive\\images\\Cars60.png\n",
      "archive\\images\\Cars61.png\n",
      "archive\\images\\Cars62.png\n",
      "archive\\images\\Cars63.png\n",
      "archive\\images\\Cars64.png\n",
      "archive\\images\\Cars65.png\n",
      "archive\\images\\Cars66.png\n",
      "archive\\images\\Cars67.png\n",
      "archive\\images\\Cars68.png\n",
      "archive\\images\\Cars69.png\n",
      "archive\\images\\Cars7.png\n",
      "archive\\images\\Cars70.png\n",
      "archive\\images\\Cars71.png\n",
      "archive\\images\\Cars72.png\n",
      "archive\\images\\Cars73.png\n",
      "archive\\images\\Cars74.png\n",
      "archive\\images\\Cars75.png\n",
      "archive\\images\\Cars76.png\n",
      "archive\\images\\Cars77.png\n",
      "archive\\images\\Cars78.png\n",
      "archive\\images\\Cars79.png\n",
      "archive\\images\\Cars8.png\n",
      "archive\\images\\Cars80.png\n",
      "archive\\images\\Cars81.png\n",
      "archive\\images\\Cars82.png\n",
      "archive\\images\\Cars83.png\n",
      "archive\\images\\Cars84.png\n",
      "archive\\images\\Cars85.png\n",
      "archive\\images\\Cars86.png\n",
      "archive\\images\\Cars87.png\n",
      "archive\\images\\Cars88.png\n",
      "archive\\images\\Cars89.png\n",
      "archive\\images\\Cars9.png\n",
      "archive\\images\\Cars90.png\n",
      "archive\\images\\Cars91.png\n",
      "archive\\images\\Cars92.png\n",
      "archive\\images\\Cars93.png\n",
      "archive\\images\\Cars94.png\n",
      "archive\\images\\Cars95.png\n",
      "archive\\images\\Cars96.png\n",
      "archive\\images\\Cars97.png\n",
      "archive\\images\\Cars98.png\n",
      "archive\\images\\Cars99.png\n"
     ]
    }
   ],
   "source": [
    "import os\n",
    "for dirname, _, filenames in os.walk('archive'):\n",
    "    for filename in filenames:\n",
    "        print(os.path.join(dirname, filename))"
   ]
  },
  {
   "cell_type": "code",
   "execution_count": 15,
   "id": "d9443116-50dc-4ab1-88c1-8750cdd09259",
   "metadata": {
    "ExecuteTime": {
     "end_time": "2024-06-30T20:49:10.730832500Z",
     "start_time": "2024-06-30T20:49:09.128337700Z"
    }
   },
   "outputs": [],
   "source": [
    "import os\n",
    "import cv2\n",
    "import shutil\n",
    "import numpy as np\n",
    "import pandas as pd\n",
    "from glob import glob\n",
    "import matplotlib.pyplot as plt\n",
    "import xml.etree.ElementTree as xet\n",
    "from sklearn.model_selection import train_test_split"
   ]
  },
  {
   "cell_type": "code",
   "execution_count": 16,
   "id": "3b05428f02627246",
   "metadata": {
    "collapsed": false,
    "ExecuteTime": {
     "end_time": "2024-06-30T20:49:12.166719900Z",
     "start_time": "2024-06-30T20:49:12.159988500Z"
    }
   },
   "outputs": [],
   "source": [
    "dataset_path = 'archive'\n",
    "\n",
    "import re\n",
    "\n",
    "def the_number_in_the_string(filename):\n",
    "    \n",
    "    match = re.search(r'(\\d+)', filename)\n",
    "\n",
    "    if match:\n",
    "        return int(match.group(0))\n",
    "    else:\n",
    "        return 0\n",
    "\n"
   ]
  },
  {
   "cell_type": "code",
   "execution_count": 17,
   "id": "53269e1bd78d7b11",
   "metadata": {
    "collapsed": false,
    "ExecuteTime": {
     "end_time": "2024-06-30T20:49:22.513841600Z",
     "start_time": "2024-06-30T20:49:17.997673600Z"
    }
   },
   "outputs": [
    {
     "data": {
      "text/plain": "                   img_path  xmin  xmax  ymin  ymax  img_w  img_h\n0  archive\\images\\Cars0.png   226   419   125   173    500    268\n1  archive\\images\\Cars1.png   134   262   128   160    400    248\n2  archive\\images\\Cars2.png   229   270   176   193    400    400",
      "text/html": "<div>\n<style scoped>\n    .dataframe tbody tr th:only-of-type {\n        vertical-align: middle;\n    }\n\n    .dataframe tbody tr th {\n        vertical-align: top;\n    }\n\n    .dataframe thead th {\n        text-align: right;\n    }\n</style>\n<table border=\"1\" class=\"dataframe\">\n  <thead>\n    <tr style=\"text-align: right;\">\n      <th></th>\n      <th>img_path</th>\n      <th>xmin</th>\n      <th>xmax</th>\n      <th>ymin</th>\n      <th>ymax</th>\n      <th>img_w</th>\n      <th>img_h</th>\n    </tr>\n  </thead>\n  <tbody>\n    <tr>\n      <th>0</th>\n      <td>archive\\images\\Cars0.png</td>\n      <td>226</td>\n      <td>419</td>\n      <td>125</td>\n      <td>173</td>\n      <td>500</td>\n      <td>268</td>\n    </tr>\n    <tr>\n      <th>1</th>\n      <td>archive\\images\\Cars1.png</td>\n      <td>134</td>\n      <td>262</td>\n      <td>128</td>\n      <td>160</td>\n      <td>400</td>\n      <td>248</td>\n    </tr>\n    <tr>\n      <th>2</th>\n      <td>archive\\images\\Cars2.png</td>\n      <td>229</td>\n      <td>270</td>\n      <td>176</td>\n      <td>193</td>\n      <td>400</td>\n      <td>400</td>\n    </tr>\n  </tbody>\n</table>\n</div>"
     },
     "execution_count": 17,
     "metadata": {},
     "output_type": "execute_result"
    }
   ],
   "source": [
    "labels_dict = dict(\n",
    "    img_path=[],\n",
    "    xmin=[],\n",
    "    xmax=[],\n",
    "    ymin=[],\n",
    "    ymax=[],\n",
    "    img_w=[],\n",
    "    img_h=[]\n",
    ")\n",
    "\n",
    "xml_files = glob(f'{dataset_path}/annotations/*.xml')\n",
    "\n",
    "for filename in sorted(xml_files, key=the_number_in_the_string):\n",
    "    info = xet.parse(filename)\n",
    "    root = info.getroot()\n",
    "\n",
    "    member_object = root.find('object')\n",
    "    labels_info = member_object.find('bndbox')\n",
    "    xmin = int(labels_info.find('xmin').text)\n",
    "    xmax = int(labels_info.find('xmax').text)\n",
    "    ymin = int(labels_info.find('ymin').text)\n",
    "    ymax = int(labels_info.find('ymax').text)\n",
    "\n",
    "    img_name = root.find('filename').text\n",
    "    img_path = os.path.join(dataset_path, 'images', img_name)\n",
    "\n",
    "    labels_dict['img_path'].append(img_path)\n",
    "    labels_dict['xmin'].append(xmin)\n",
    "    labels_dict['xmax'].append(xmax)\n",
    "    labels_dict['ymin'].append(ymin)\n",
    "    labels_dict['ymax'].append(ymax)\n",
    "\n",
    "    height, width, _ = cv2.imread(img_path).shape\n",
    "    labels_dict['img_w'].append(width)\n",
    "    labels_dict['img_h'].append(height)\n",
    "\n",
    "alldata = pd.DataFrame(labels_dict)\n",
    "alldata.head(3)"
   ]
  },
  {
   "cell_type": "code",
   "execution_count": 18,
   "id": "ddc56ded04b01ead",
   "metadata": {
    "collapsed": false,
    "ExecuteTime": {
     "end_time": "2024-06-30T20:49:23.515378500Z",
     "start_time": "2024-06-30T20:49:23.499246200Z"
    }
   },
   "outputs": [
    {
     "name": "stdout",
     "output_type": "stream",
     "text": [
      "\n",
      "      len(train) = 345\n",
      "      len(val) = 44\n",
      "      len(test) = 44\n"
     ]
    }
   ],
   "source": [
    "from sklearn.model_selection import train_test_split\n",
    "\n",
    "\n",
    "train, test = train_test_split(alldata, test_size = 0.1, random_state=42)\n",
    "train, val = train_test_split(train, train_size = 8/9, random_state=42)\n",
    "\n",
    "print(f'''\n",
    "      len(train) = {len(train)}\n",
    "      len(val) = {len(val)}\n",
    "      len(test) = {len(test)}\n",
    "''')"
   ]
  },
  {
   "cell_type": "code",
   "execution_count": 19,
   "id": "74c5b4cdd356ca15",
   "metadata": {
    "collapsed": false,
    "ExecuteTime": {
     "end_time": "2024-06-30T20:49:25.018814100Z",
     "start_time": "2024-06-30T20:49:25.015486400Z"
    }
   },
   "outputs": [
    {
     "data": {
      "text/plain": "(433, 7)"
     },
     "execution_count": 19,
     "metadata": {},
     "output_type": "execute_result"
    }
   ],
   "source": [
    "alldata.shape"
   ]
  },
  {
   "cell_type": "code",
   "execution_count": 20,
   "id": "eff5f2f29027df97",
   "metadata": {
    "collapsed": false,
    "ExecuteTime": {
     "end_time": "2024-06-30T20:49:28.403068900Z",
     "start_time": "2024-06-30T20:49:28.399554300Z"
    }
   },
   "outputs": [],
   "source": [
    "def make_split_folder_in_yolo_format(split_name, split_df):\n",
    "\n",
    "    labels_path = os.path.join('datasets', 'cars_license_plate_new', split_name, 'labels')\n",
    "    images_path = os.path.join('datasets', 'cars_license_plate_new', split_name, 'images')\n",
    "\n",
    "    os.makedirs(labels_path)\n",
    "    os.makedirs(images_path)\n",
    "\n",
    "    for _, row in split_df.iterrows():\n",
    "        img_name, img_extension = os.path.splitext(os.path.basename(row['img_path']))\n",
    "\n",
    "        x_center = (row['xmin'] + row['xmax']) / 2 / row['img_w']\n",
    "        y_center = (row['ymin'] + row['ymax']) / 2 / row['img_h']\n",
    "        width = (row['xmax'] - row['xmin']) / row['img_w']\n",
    "        height = (row['ymax'] - row['ymin']) / row['img_h']\n",
    "\n",
    "        label_path = os.path.join(labels_path, f'{img_name}.txt')\n",
    "        with open(label_path, 'w') as file:\n",
    "            file.write(f\"0 {x_center:.4f} {y_center:.4f} {width:.4f} {height:.4f}\\n\")\n",
    "\n",
    "        shutil.copy(row['img_path'], os.path.join(images_path, img_name + img_extension))\n",
    "\n",
    "    print(f\"Created '{images_path}' and '{labels_path}'\")"
   ]
  },
  {
   "cell_type": "code",
   "outputs": [
    {
     "data": {
      "text/plain": "<Figure size 640x480 with 1 Axes>",
      "image/png": "[encoded data removed]"
     },
     "metadata": {},
     "output_type": "display_data"
    }
   ],
   "source": [
    "import os\n",
    "import cv2\n",
    "import matplotlib.pyplot as plt\n",
    "\n",
    "image_dir = 'datasets/cars_license_plate_new/train/images'\n",
    "label_dir = 'datasets/cars_license_plate_new/train/labels'\n",
    "\n",
    "image_files = sorted(os.listdir(image_dir))\n",
    "first_image_file = image_files[1]\n",
    "\n",
    "image_path = os.path.join(image_dir, first_image_file)\n",
    "label_path = os.path.join(label_dir, os.path.splitext(first_image_file)[0] + '.txt')\n",
    "\n",
    "image = cv2.imread(image_path)\n",
    "image = cv2.cvtColor(image, cv2.COLOR_BGR2RGB)\n",
    "\n",
    "with open(label_path, 'r') as f:\n",
    "    lines = f.readlines()\n",
    "\n",
    "for line in lines:\n",
    "    class_id, x_center, y_center, width, height = map(float, line.strip().split())\n",
    "    img_height, img_width, _ = image.shape\n",
    "\n",
    "    x_center *= img_width\n",
    "    y_center *= img_height\n",
    "    width *= img_width\n",
    "    height *= img_height\n",
    "\n",
    "    x1 = int(x_center - width / 2)\n",
    "    y1 = int(y_center - height / 2)\n",
    "    x2 = int(x_center + width / 2)\n",
    "    y2 = int(y_center + height / 2)\n",
    "\n",
    "    cv2.rectangle(image, (x1, y1), (x2, y2), (0, 255, 0), 2)\n",
    "\n",
    "plt.imshow(image)\n",
    "plt.axis('off')\n",
    "plt.show()"
   ],
   "metadata": {
    "collapsed": false,
    "ExecuteTime": {
     "end_time": "2024-06-30T20:49:40.248725100Z",
     "start_time": "2024-06-30T20:49:40.108921800Z"
    }
   },
   "id": "217b58335b48b611",
   "execution_count": 21
  },
  {
   "cell_type": "code",
   "outputs": [],
   "source": [
    "datasets_yaml = '''\n",
    "path: cars_license_plate_new\n",
    "\n",
    "train: train/images\n",
    "val: val/images\n",
    "test: test/images\n",
    "\n",
    "# number of classes\n",
    "nc: 1\n",
    "\n",
    "# class names\n",
    "names: ['license_plate']\n",
    "'''\n",
    "\n",
    "with open('datasets.yaml', 'w') as file:\n",
    "    file.write(datasets_yaml)"
   ],
   "metadata": {
    "collapsed": false,
    "ExecuteTime": {
     "end_time": "2024-06-30T20:49:42.925117700Z",
     "start_time": "2024-06-30T20:49:42.913928900Z"
    }
   },
   "id": "bad0acb78e230722",
   "execution_count": 22
  },
  {
   "cell_type": "code",
   "outputs": [],
   "source": [
    "from ultralytics import YOLO\n",
    "model = YOLO('yolov9s.pt')"
   ],
   "metadata": {
    "collapsed": false,
    "ExecuteTime": {
     "end_time": "2024-06-30T20:49:43.649796400Z",
     "start_time": "2024-06-30T20:49:43.419993Z"
    }
   },
   "id": "405c4c07400734f",
   "execution_count": 23
  },
  {
   "cell_type": "code",
   "outputs": [
    {
     "name": "stdout",
     "output_type": "stream",
     "text": [
      "Ultralytics YOLOv8.2.48  Python-3.12.4 torch-2.3.1+cpu CPU (Intel Core(TM) i7-8700K 3.70GHz)\n",
      "\u001B[34m\u001B[1mengine\\trainer: \u001B[0mtask=detect, mode=train, model=yolov9s.pt, data=datasets.yaml, epochs=100, time=None, patience=100, batch=16, imgsz=320, save=True, save_period=-1, cache=True, device=None, workers=8, project=None, name=train3, exist_ok=False, pretrained=True, optimizer=auto, verbose=True, seed=0, deterministic=True, single_cls=False, rect=False, cos_lr=False, close_mosaic=10, resume=False, amp=True, fraction=1.0, profile=False, freeze=None, multi_scale=False, overlap_mask=True, mask_ratio=4, dropout=0.0, val=True, split=val, save_json=False, save_hybrid=False, conf=None, iou=0.7, max_det=300, half=False, dnn=False, plots=True, source=None, vid_stride=1, stream_buffer=False, visualize=False, augment=False, agnostic_nms=False, classes=None, retina_masks=False, embed=None, show=False, save_frames=False, save_txt=False, save_conf=False, save_crop=False, show_labels=True, show_conf=True, show_boxes=True, line_width=None, format=torchscript, keras=False, optimize=False, int8=False, dynamic=False, simplify=False, opset=None, workspace=4, nms=False, lr0=0.01, lrf=0.01, momentum=0.937, weight_decay=0.0005, warmup_epochs=3.0, warmup_momentum=0.8, warmup_bias_lr=0.1, box=7.5, cls=0.5, dfl=1.5, pose=12.0, kobj=1.0, label_smoothing=0.0, nbs=64, hsv_h=0.015, hsv_s=0.7, hsv_v=0.4, degrees=0.0, translate=0.1, scale=0.5, shear=0.0, perspective=0.0, flipud=0.0, fliplr=0.5, bgr=0.0, mosaic=1.0, mixup=0.0, copy_paste=0.0, auto_augment=randaugment, erasing=0.4, crop_fraction=1.0, cfg=None, tracker=botsort.yaml, save_dir=runs\\detect\\train3\n",
      "Overriding model.yaml nc=80 with nc=1\n",
      "\n",
      "                   from  n    params  module                                       arguments                     \n",
      "  0                  -1  1       928  ultralytics.nn.modules.conv.Conv             [3, 32, 3, 2]                 \n",
      "  1                  -1  1     18560  ultralytics.nn.modules.conv.Conv             [32, 64, 3, 2]                \n",
      "  2                  -1  1     31104  ultralytics.nn.modules.block.ELAN1           [64, 64, 64, 32]              \n",
      "  3                  -1  1     73984  ultralytics.nn.modules.block.AConv           [64, 128]                     \n",
      "  4                  -1  1    258432  ultralytics.nn.modules.block.RepNCSPELAN4    [128, 128, 128, 64, 3]        \n",
      "  5                  -1  1    221568  ultralytics.nn.modules.block.AConv           [128, 192]                    \n",
      "  6                  -1  1    579648  ultralytics.nn.modules.block.RepNCSPELAN4    [192, 192, 192, 96, 3]        \n",
      "  7                  -1  1    442880  ultralytics.nn.modules.block.AConv           [192, 256]                    \n",
      "  8                  -1  1   1028864  ultralytics.nn.modules.block.RepNCSPELAN4    [256, 256, 256, 128, 3]       \n",
      "  9                  -1  1    164608  ultralytics.nn.modules.block.SPPELAN         [256, 256, 128]               \n",
      " 10                  -1  1         0  torch.nn.modules.upsampling.Upsample         [None, 2, 'nearest']          \n",
      " 11             [-1, 6]  1         0  ultralytics.nn.modules.conv.Concat           [1]                           \n",
      " 12                  -1  1    628800  ultralytics.nn.modules.block.RepNCSPELAN4    [448, 192, 192, 96, 3]        \n",
      " 13                  -1  1         0  torch.nn.modules.upsampling.Upsample         [None, 2, 'nearest']          \n",
      " 14             [-1, 4]  1         0  ultralytics.nn.modules.conv.Concat           [1]                           \n",
      " 15                  -1  1    283008  ultralytics.nn.modules.block.RepNCSPELAN4    [320, 128, 128, 64, 3]        \n",
      " 16                  -1  1    110784  ultralytics.nn.modules.block.AConv           [128, 96]                     \n",
      " 17            [-1, 12]  1         0  ultralytics.nn.modules.conv.Concat           [1]                           \n",
      " 18                  -1  1    598080  ultralytics.nn.modules.block.RepNCSPELAN4    [288, 192, 192, 96, 3]        \n",
      " 19                  -1  1    221440  ultralytics.nn.modules.block.AConv           [192, 128]                    \n",
      " 20             [-1, 9]  1         0  ultralytics.nn.modules.conv.Concat           [1]                           \n",
      " 21                  -1  1   1061632  ultralytics.nn.modules.block.RepNCSPELAN4    [384, 256, 256, 128, 3]       \n",
      " 22        [15, 18, 21]  1   1563475  ultralytics.nn.modules.head.Detect           [1, [128, 192, 256]]          \n",
      "YOLOv9s summary: 917 layers, 7287795 parameters, 7287779 gradients, 27.4 GFLOPs\n",
      "Transferred 1333/1339 items from pretrained weights\n",
      "Freezing layer 'model.22.dfl.conv.weight'\n"
     ]
    },
    {
     "name": "stderr",
     "output_type": "stream",
     "text": [
      "\u001B[34m\u001B[1mtrain: \u001B[0mScanning C:\\Users\\nikod\\PycharmProjects\\carPlateDetector\\datasets\\cars_license_plate_new\\train\\labels.cache... 345 images, 0 backgrounds, 0 corrupt: 100%|██████████| 345/345 [00:00<?, ?it/s]\n",
      "\u001B[34m\u001B[1mtrain: \u001B[0mCaching images (0.1GB RAM): 100%|██████████| 345/345 [00:00<00:00, 831.17it/s]\n",
      "\u001B[34m\u001B[1mval: \u001B[0mScanning C:\\Users\\nikod\\PycharmProjects\\carPlateDetector\\datasets\\cars_license_plate_new\\val\\labels.cache... 44 images, 0 backgrounds, 0 corrupt: 100%|██████████| 44/44 [00:00<?, ?it/s]\n",
      "\u001B[34m\u001B[1mval: \u001B[0mCaching images (0.0GB RAM): 100%|██████████| 44/44 [00:00<00:00, 759.32it/s]\n"
     ]
    },
    {
     "name": "stdout",
     "output_type": "stream",
     "text": [
      "Plotting labels to runs\\detect\\train3\\labels.jpg... \n",
      "\u001B[34m\u001B[1moptimizer:\u001B[0m 'optimizer=auto' found, ignoring 'lr0=0.01' and 'momentum=0.937' and determining best 'optimizer', 'lr0' and 'momentum' automatically... \n",
      "\u001B[34m\u001B[1moptimizer:\u001B[0m AdamW(lr=0.002, momentum=0.9) with parameter groups 221 weight(decay=0.0), 228 weight(decay=0.0005), 227 bias(decay=0.0)\n",
      "Image sizes 320 train, 320 val\n",
      "Using 0 dataloader workers\n",
      "Logging results to \u001B[1mruns\\detect\\train3\u001B[0m\n",
      "Starting training for 100 epochs...\n",
      "\n",
      "      Epoch    GPU_mem   box_loss   cls_loss   dfl_loss  Instances       Size\n"
     ]
    },
    {
     "name": "stderr",
     "output_type": "stream",
     "text": [
      "      1/100         0G      1.657      2.055       1.33         17        320: 100%|██████████| 22/22 [02:45<00:00,  7.51s/it]\n",
      "                 Class     Images  Instances      Box(P          R      mAP50  mAP50-95): 100%|██████████| 2/2 [00:06<00:00,  3.34s/it]"
     ]
    },
    {
     "name": "stdout",
     "output_type": "stream",
     "text": [
      "                   all         44         44      0.599      0.682      0.508      0.228\n"
     ]
    },
    {
     "name": "stderr",
     "output_type": "stream",
     "text": [
      "\n"
     ]
    },
    {
     "name": "stdout",
     "output_type": "stream",
     "text": [
      "\n",
      "      Epoch    GPU_mem   box_loss   cls_loss   dfl_loss  Instances       Size\n"
     ]
    },
    {
     "name": "stderr",
     "output_type": "stream",
     "text": [
      "      2/100         0G      1.388      1.186      1.198         17        320: 100%|██████████| 22/22 [02:45<00:00,  7.51s/it]\n",
      "                 Class     Images  Instances      Box(P          R      mAP50  mAP50-95): 100%|██████████| 2/2 [00:06<00:00,  3.13s/it]"
     ]
    },
    {
     "name": "stdout",
     "output_type": "stream",
     "text": [
      "                   all         44         44      0.266      0.682      0.234      0.108\n"
     ]
    },
    {
     "name": "stderr",
     "output_type": "stream",
     "text": [
      "\n"
     ]
    },
    {
     "name": "stdout",
     "output_type": "stream",
     "text": [
      "\n",
      "      Epoch    GPU_mem   box_loss   cls_loss   dfl_loss  Instances       Size\n"
     ]
    },
    {
     "name": "stderr",
     "output_type": "stream",
     "text": [
      "      3/100         0G      1.525      1.105       1.27         13        320: 100%|██████████| 22/22 [02:36<00:00,  7.12s/it]\n",
      "                 Class     Images  Instances      Box(P          R      mAP50  mAP50-95): 100%|██████████| 2/2 [00:06<00:00,  3.13s/it]"
     ]
    },
    {
     "name": "stdout",
     "output_type": "stream",
     "text": [
      "                   all         44         44      0.713      0.622      0.641      0.295\n"
     ]
    },
    {
     "name": "stderr",
     "output_type": "stream",
     "text": [
      "\n"
     ]
    },
    {
     "name": "stdout",
     "output_type": "stream",
     "text": [
      "\n",
      "      Epoch    GPU_mem   box_loss   cls_loss   dfl_loss  Instances       Size\n"
     ]
    },
    {
     "name": "stderr",
     "output_type": "stream",
     "text": [
      "      4/100         0G      1.578       1.02      1.321         19        320: 100%|██████████| 22/22 [02:36<00:00,  7.11s/it]\n",
      "                 Class     Images  Instances      Box(P          R      mAP50  mAP50-95): 100%|██████████| 2/2 [00:06<00:00,  3.24s/it]"
     ]
    },
    {
     "name": "stdout",
     "output_type": "stream",
     "text": [
      "                   all         44         44      0.451      0.682      0.412      0.168\n"
     ]
    },
    {
     "name": "stderr",
     "output_type": "stream",
     "text": [
      "\n"
     ]
    },
    {
     "name": "stdout",
     "output_type": "stream",
     "text": [
      "\n",
      "      Epoch    GPU_mem   box_loss   cls_loss   dfl_loss  Instances       Size\n"
     ]
    },
    {
     "name": "stderr",
     "output_type": "stream",
     "text": [
      "      5/100         0G      1.583      1.044      1.316         14        320: 100%|██████████| 22/22 [02:35<00:00,  7.05s/it]\n",
      "                 Class     Images  Instances      Box(P          R      mAP50  mAP50-95): 100%|██████████| 2/2 [00:06<00:00,  3.11s/it]"
     ]
    },
    {
     "name": "stdout",
     "output_type": "stream",
     "text": [
      "                   all         44         44      0.715       0.75      0.741      0.357\n"
     ]
    },
    {
     "name": "stderr",
     "output_type": "stream",
     "text": [
      "\n"
     ]
    },
    {
     "name": "stdout",
     "output_type": "stream",
     "text": [
      "\n",
      "      Epoch    GPU_mem   box_loss   cls_loss   dfl_loss  Instances       Size\n"
     ]
    },
    {
     "name": "stderr",
     "output_type": "stream",
     "text": [
      "      6/100         0G      1.548      1.054       1.31         20        320: 100%|██████████| 22/22 [02:40<00:00,  7.30s/it]\n",
      "                 Class     Images  Instances      Box(P          R      mAP50  mAP50-95): 100%|██████████| 2/2 [00:06<00:00,  3.11s/it]"
     ]
    },
    {
     "name": "stdout",
     "output_type": "stream",
     "text": [
      "                   all         44         44      0.644      0.822       0.79      0.315\n"
     ]
    },
    {
     "name": "stderr",
     "output_type": "stream",
     "text": [
      "\n"
     ]
    },
    {
     "name": "stdout",
     "output_type": "stream",
     "text": [
      "\n",
      "      Epoch    GPU_mem   box_loss   cls_loss   dfl_loss  Instances       Size\n"
     ]
    },
    {
     "name": "stderr",
     "output_type": "stream",
     "text": [
      "      7/100         0G      1.573      1.008      1.346         13        320: 100%|██████████| 22/22 [02:36<00:00,  7.10s/it]\n",
      "                 Class     Images  Instances      Box(P          R      mAP50  mAP50-95): 100%|██████████| 2/2 [00:06<00:00,  3.12s/it]"
     ]
    },
    {
     "name": "stdout",
     "output_type": "stream",
     "text": [
      "                   all         44         44      0.697       0.75      0.709      0.335\n"
     ]
    },
    {
     "name": "stderr",
     "output_type": "stream",
     "text": [
      "\n"
     ]
    },
    {
     "name": "stdout",
     "output_type": "stream",
     "text": [
      "\n",
      "      Epoch    GPU_mem   box_loss   cls_loss   dfl_loss  Instances       Size\n"
     ]
    },
    {
     "name": "stderr",
     "output_type": "stream",
     "text": [
      "      8/100         0G      1.481     0.9884      1.335         24        320: 100%|██████████| 22/22 [02:36<00:00,  7.10s/it]\n",
      "                 Class     Images  Instances      Box(P          R      mAP50  mAP50-95): 100%|██████████| 2/2 [00:06<00:00,  3.10s/it]"
     ]
    },
    {
     "name": "stdout",
     "output_type": "stream",
     "text": [
      "                   all         44         44      0.721      0.765      0.775      0.415\n"
     ]
    },
    {
     "name": "stderr",
     "output_type": "stream",
     "text": [
      "\n"
     ]
    },
    {
     "name": "stdout",
     "output_type": "stream",
     "text": [
      "\n",
      "      Epoch    GPU_mem   box_loss   cls_loss   dfl_loss  Instances       Size\n"
     ]
    },
    {
     "name": "stderr",
     "output_type": "stream",
     "text": [
      "      9/100         0G      1.405     0.8575      1.274         11        320: 100%|██████████| 22/22 [02:35<00:00,  7.08s/it]\n",
      "                 Class     Images  Instances      Box(P          R      mAP50  mAP50-95): 100%|██████████| 2/2 [00:06<00:00,  3.13s/it]"
     ]
    },
    {
     "name": "stdout",
     "output_type": "stream",
     "text": [
      "                   all         44         44       0.81      0.705      0.791      0.427\n"
     ]
    },
    {
     "name": "stderr",
     "output_type": "stream",
     "text": [
      "\n"
     ]
    },
    {
     "name": "stdout",
     "output_type": "stream",
     "text": [
      "\n",
      "      Epoch    GPU_mem   box_loss   cls_loss   dfl_loss  Instances       Size\n"
     ]
    },
    {
     "name": "stderr",
     "output_type": "stream",
     "text": [
      "     10/100         0G      1.418     0.8824      1.258         16        320: 100%|██████████| 22/22 [02:34<00:00,  7.03s/it]\n",
      "                 Class     Images  Instances      Box(P          R      mAP50  mAP50-95): 100%|██████████| 2/2 [00:06<00:00,  3.06s/it]"
     ]
    },
    {
     "name": "stdout",
     "output_type": "stream",
     "text": [
      "                   all         44         44      0.692      0.819       0.78      0.403\n"
     ]
    },
    {
     "name": "stderr",
     "output_type": "stream",
     "text": [
      "\n"
     ]
    },
    {
     "name": "stdout",
     "output_type": "stream",
     "text": [
      "\n",
      "      Epoch    GPU_mem   box_loss   cls_loss   dfl_loss  Instances       Size\n"
     ]
    },
    {
     "name": "stderr",
     "output_type": "stream",
     "text": [
      "     11/100         0G      1.398     0.8691      1.252         23        320: 100%|██████████| 22/22 [02:33<00:00,  6.99s/it]\n",
      "                 Class     Images  Instances      Box(P          R      mAP50  mAP50-95): 100%|██████████| 2/2 [00:06<00:00,  3.06s/it]"
     ]
    },
    {
     "name": "stdout",
     "output_type": "stream",
     "text": [
      "                   all         44         44      0.716      0.802      0.785      0.394\n"
     ]
    },
    {
     "name": "stderr",
     "output_type": "stream",
     "text": [
      "\n"
     ]
    },
    {
     "name": "stdout",
     "output_type": "stream",
     "text": [
      "\n",
      "      Epoch    GPU_mem   box_loss   cls_loss   dfl_loss  Instances       Size\n"
     ]
    },
    {
     "name": "stderr",
     "output_type": "stream",
     "text": [
      "     12/100         0G       1.39     0.8192      1.196         21        320: 100%|██████████| 22/22 [02:34<00:00,  7.01s/it]\n",
      "                 Class     Images  Instances      Box(P          R      mAP50  mAP50-95): 100%|██████████| 2/2 [00:06<00:00,  3.05s/it]"
     ]
    },
    {
     "name": "stdout",
     "output_type": "stream",
     "text": [
      "                   all         44         44       0.81      0.874      0.858       0.44\n"
     ]
    },
    {
     "name": "stderr",
     "output_type": "stream",
     "text": [
      "\n"
     ]
    },
    {
     "name": "stdout",
     "output_type": "stream",
     "text": [
      "\n",
      "      Epoch    GPU_mem   box_loss   cls_loss   dfl_loss  Instances       Size\n"
     ]
    },
    {
     "name": "stderr",
     "output_type": "stream",
     "text": [
      "     13/100         0G      1.322     0.8137      1.198         21        320: 100%|██████████| 22/22 [02:33<00:00,  6.97s/it]\n",
      "                 Class     Images  Instances      Box(P          R      mAP50  mAP50-95): 100%|██████████| 2/2 [00:06<00:00,  3.06s/it]"
     ]
    },
    {
     "name": "stdout",
     "output_type": "stream",
     "text": [
      "                   all         44         44       0.91      0.795       0.89      0.474\n"
     ]
    },
    {
     "name": "stderr",
     "output_type": "stream",
     "text": [
      "\n"
     ]
    },
    {
     "name": "stdout",
     "output_type": "stream",
     "text": [
      "\n",
      "      Epoch    GPU_mem   box_loss   cls_loss   dfl_loss  Instances       Size\n"
     ]
    },
    {
     "name": "stderr",
     "output_type": "stream",
     "text": [
      "     14/100         0G      1.339     0.8347      1.205         14        320: 100%|██████████| 22/22 [02:33<00:00,  6.99s/it]\n",
      "                 Class     Images  Instances      Box(P          R      mAP50  mAP50-95): 100%|██████████| 2/2 [00:06<00:00,  3.05s/it]"
     ]
    },
    {
     "name": "stdout",
     "output_type": "stream",
     "text": [
      "                   all         44         44      0.868      0.864      0.882      0.496\n"
     ]
    },
    {
     "name": "stderr",
     "output_type": "stream",
     "text": [
      "\n"
     ]
    },
    {
     "name": "stdout",
     "output_type": "stream",
     "text": [
      "\n",
      "      Epoch    GPU_mem   box_loss   cls_loss   dfl_loss  Instances       Size\n"
     ]
    },
    {
     "name": "stderr",
     "output_type": "stream",
     "text": [
      "     15/100         0G      1.342     0.8091      1.219         13        320: 100%|██████████| 22/22 [02:33<00:00,  6.98s/it]\n",
      "                 Class     Images  Instances      Box(P          R      mAP50  mAP50-95): 100%|██████████| 2/2 [00:06<00:00,  3.05s/it]"
     ]
    },
    {
     "name": "stdout",
     "output_type": "stream",
     "text": [
      "                   all         44         44      0.792       0.75      0.857      0.499\n"
     ]
    },
    {
     "name": "stderr",
     "output_type": "stream",
     "text": [
      "\n"
     ]
    },
    {
     "name": "stdout",
     "output_type": "stream",
     "text": [
      "\n",
      "      Epoch    GPU_mem   box_loss   cls_loss   dfl_loss  Instances       Size\n"
     ]
    },
    {
     "name": "stderr",
     "output_type": "stream",
     "text": [
      "     16/100         0G      1.348     0.8576      1.232         15        320: 100%|██████████| 22/22 [02:33<00:00,  6.99s/it]\n",
      "                 Class     Images  Instances      Box(P          R      mAP50  mAP50-95): 100%|██████████| 2/2 [00:06<00:00,  3.07s/it]"
     ]
    },
    {
     "name": "stdout",
     "output_type": "stream",
     "text": [
      "                   all         44         44      0.721      0.864      0.829      0.404\n"
     ]
    },
    {
     "name": "stderr",
     "output_type": "stream",
     "text": [
      "\n"
     ]
    },
    {
     "name": "stdout",
     "output_type": "stream",
     "text": [
      "\n",
      "      Epoch    GPU_mem   box_loss   cls_loss   dfl_loss  Instances       Size\n"
     ]
    },
    {
     "name": "stderr",
     "output_type": "stream",
     "text": [
      "     17/100         0G      1.321     0.7769      1.177         15        320: 100%|██████████| 22/22 [02:33<00:00,  6.97s/it]\n",
      "                 Class     Images  Instances      Box(P          R      mAP50  mAP50-95): 100%|██████████| 2/2 [00:06<00:00,  3.06s/it]"
     ]
    },
    {
     "name": "stdout",
     "output_type": "stream",
     "text": [
      "                   all         44         44      0.788      0.841      0.821      0.375\n"
     ]
    },
    {
     "name": "stderr",
     "output_type": "stream",
     "text": [
      "\n"
     ]
    },
    {
     "name": "stdout",
     "output_type": "stream",
     "text": [
      "\n",
      "      Epoch    GPU_mem   box_loss   cls_loss   dfl_loss  Instances       Size\n"
     ]
    },
    {
     "name": "stderr",
     "output_type": "stream",
     "text": [
      "     18/100         0G      1.333     0.7986      1.225         13        320: 100%|██████████| 22/22 [02:33<00:00,  7.00s/it]\n",
      "                 Class     Images  Instances      Box(P          R      mAP50  mAP50-95): 100%|██████████| 2/2 [00:06<00:00,  3.03s/it]"
     ]
    },
    {
     "name": "stdout",
     "output_type": "stream",
     "text": [
      "                   all         44         44      0.866      0.795      0.858      0.471\n"
     ]
    },
    {
     "name": "stderr",
     "output_type": "stream",
     "text": [
      "\n"
     ]
    },
    {
     "name": "stdout",
     "output_type": "stream",
     "text": [
      "\n",
      "      Epoch    GPU_mem   box_loss   cls_loss   dfl_loss  Instances       Size\n"
     ]
    },
    {
     "name": "stderr",
     "output_type": "stream",
     "text": [
      "     19/100         0G      1.304     0.7466      1.172         14        320: 100%|██████████| 22/22 [02:32<00:00,  6.94s/it]\n",
      "                 Class     Images  Instances      Box(P          R      mAP50  mAP50-95): 100%|██████████| 2/2 [00:06<00:00,  3.06s/it]"
     ]
    },
    {
     "name": "stdout",
     "output_type": "stream",
     "text": [
      "                   all         44         44      0.786      0.841      0.882      0.507\n"
     ]
    },
    {
     "name": "stderr",
     "output_type": "stream",
     "text": [
      "\n"
     ]
    },
    {
     "name": "stdout",
     "output_type": "stream",
     "text": [
      "\n",
      "      Epoch    GPU_mem   box_loss   cls_loss   dfl_loss  Instances       Size\n"
     ]
    },
    {
     "name": "stderr",
     "output_type": "stream",
     "text": [
      "     20/100         0G      1.306     0.7336      1.149         13        320: 100%|██████████| 22/22 [02:32<00:00,  6.95s/it]\n",
      "                 Class     Images  Instances      Box(P          R      mAP50  mAP50-95): 100%|██████████| 2/2 [00:06<00:00,  3.05s/it]"
     ]
    },
    {
     "name": "stdout",
     "output_type": "stream",
     "text": [
      "                   all         44         44      0.912      0.818      0.876      0.448\n"
     ]
    },
    {
     "name": "stderr",
     "output_type": "stream",
     "text": [
      "\n"
     ]
    },
    {
     "name": "stdout",
     "output_type": "stream",
     "text": [
      "\n",
      "      Epoch    GPU_mem   box_loss   cls_loss   dfl_loss  Instances       Size\n"
     ]
    },
    {
     "name": "stderr",
     "output_type": "stream",
     "text": [
      "     21/100         0G      1.289     0.7179      1.169         22        320: 100%|██████████| 22/22 [02:34<00:00,  7.03s/it]\n",
      "                 Class     Images  Instances      Box(P          R      mAP50  mAP50-95): 100%|██████████| 2/2 [00:06<00:00,  3.04s/it]"
     ]
    },
    {
     "name": "stdout",
     "output_type": "stream",
     "text": [
      "                   all         44         44      0.898      0.841      0.875      0.521\n"
     ]
    },
    {
     "name": "stderr",
     "output_type": "stream",
     "text": [
      "\n"
     ]
    },
    {
     "name": "stdout",
     "output_type": "stream",
     "text": [
      "\n",
      "      Epoch    GPU_mem   box_loss   cls_loss   dfl_loss  Instances       Size\n"
     ]
    },
    {
     "name": "stderr",
     "output_type": "stream",
     "text": [
      "     22/100         0G      1.248      0.739      1.184         13        320: 100%|██████████| 22/22 [02:33<00:00,  6.98s/it]\n",
      "                 Class     Images  Instances      Box(P          R      mAP50  mAP50-95): 100%|██████████| 2/2 [00:06<00:00,  3.04s/it]"
     ]
    },
    {
     "name": "stdout",
     "output_type": "stream",
     "text": [
      "                   all         44         44      0.755      0.932      0.878      0.486\n"
     ]
    },
    {
     "name": "stderr",
     "output_type": "stream",
     "text": [
      "\n"
     ]
    },
    {
     "name": "stdout",
     "output_type": "stream",
     "text": [
      "\n",
      "      Epoch    GPU_mem   box_loss   cls_loss   dfl_loss  Instances       Size\n"
     ]
    },
    {
     "name": "stderr",
     "output_type": "stream",
     "text": [
      "     23/100         0G      1.238     0.7192      1.146         24        320: 100%|██████████| 22/22 [02:32<00:00,  6.95s/it]\n",
      "                 Class     Images  Instances      Box(P          R      mAP50  mAP50-95): 100%|██████████| 2/2 [00:06<00:00,  3.06s/it]"
     ]
    },
    {
     "name": "stdout",
     "output_type": "stream",
     "text": [
      "                   all         44         44      0.837      0.864       0.92       0.49\n"
     ]
    },
    {
     "name": "stderr",
     "output_type": "stream",
     "text": [
      "\n"
     ]
    },
    {
     "name": "stdout",
     "output_type": "stream",
     "text": [
      "\n",
      "      Epoch    GPU_mem   box_loss   cls_loss   dfl_loss  Instances       Size\n"
     ]
    },
    {
     "name": "stderr",
     "output_type": "stream",
     "text": [
      "     24/100         0G      1.198     0.7132      1.136         19        320: 100%|██████████| 22/22 [02:33<00:00,  6.95s/it]\n",
      "                 Class     Images  Instances      Box(P          R      mAP50  mAP50-95): 100%|██████████| 2/2 [00:06<00:00,  3.02s/it]"
     ]
    },
    {
     "name": "stdout",
     "output_type": "stream",
     "text": [
      "                   all         44         44      0.925      0.795      0.865      0.481\n"
     ]
    },
    {
     "name": "stderr",
     "output_type": "stream",
     "text": [
      "\n"
     ]
    },
    {
     "name": "stdout",
     "output_type": "stream",
     "text": [
      "\n",
      "      Epoch    GPU_mem   box_loss   cls_loss   dfl_loss  Instances       Size\n"
     ]
    },
    {
     "name": "stderr",
     "output_type": "stream",
     "text": [
      "     25/100         0G      1.236     0.7029      1.155         19        320: 100%|██████████| 22/22 [02:36<00:00,  7.11s/it]\n",
      "                 Class     Images  Instances      Box(P          R      mAP50  mAP50-95): 100%|██████████| 2/2 [00:06<00:00,  3.09s/it]"
     ]
    },
    {
     "name": "stdout",
     "output_type": "stream",
     "text": [
      "                   all         44         44      0.803      0.833      0.837       0.47\n"
     ]
    },
    {
     "name": "stderr",
     "output_type": "stream",
     "text": [
      "\n"
     ]
    },
    {
     "name": "stdout",
     "output_type": "stream",
     "text": [
      "\n",
      "      Epoch    GPU_mem   box_loss   cls_loss   dfl_loss  Instances       Size\n"
     ]
    },
    {
     "name": "stderr",
     "output_type": "stream",
     "text": [
      "     26/100         0G      1.175      0.691      1.102         20        320: 100%|██████████| 22/22 [02:34<00:00,  7.03s/it]\n",
      "                 Class     Images  Instances      Box(P          R      mAP50  mAP50-95): 100%|██████████| 2/2 [00:06<00:00,  3.09s/it]"
     ]
    },
    {
     "name": "stdout",
     "output_type": "stream",
     "text": [
      "                   all         44         44      0.836      0.864      0.883       0.52\n"
     ]
    },
    {
     "name": "stderr",
     "output_type": "stream",
     "text": [
      "\n"
     ]
    },
    {
     "name": "stdout",
     "output_type": "stream",
     "text": [
      "\n",
      "      Epoch    GPU_mem   box_loss   cls_loss   dfl_loss  Instances       Size\n"
     ]
    },
    {
     "name": "stderr",
     "output_type": "stream",
     "text": [
      "     27/100         0G      1.131     0.6855       1.14         14        320: 100%|██████████| 22/22 [02:34<00:00,  7.02s/it]\n",
      "                 Class     Images  Instances      Box(P          R      mAP50  mAP50-95): 100%|██████████| 2/2 [00:06<00:00,  3.08s/it]"
     ]
    },
    {
     "name": "stdout",
     "output_type": "stream",
     "text": [
      "                   all         44         44       0.88      0.841       0.87      0.476\n"
     ]
    },
    {
     "name": "stderr",
     "output_type": "stream",
     "text": [
      "\n"
     ]
    },
    {
     "name": "stdout",
     "output_type": "stream",
     "text": [
      "\n",
      "      Epoch    GPU_mem   box_loss   cls_loss   dfl_loss  Instances       Size\n"
     ]
    },
    {
     "name": "stderr",
     "output_type": "stream",
     "text": [
      "     28/100         0G      1.151     0.6472      1.147         18        320: 100%|██████████| 22/22 [02:35<00:00,  7.05s/it]\n",
      "                 Class     Images  Instances      Box(P          R      mAP50  mAP50-95): 100%|██████████| 2/2 [00:06<00:00,  3.08s/it]"
     ]
    },
    {
     "name": "stdout",
     "output_type": "stream",
     "text": [
      "                   all         44         44      0.882      0.818      0.871        0.5\n"
     ]
    },
    {
     "name": "stderr",
     "output_type": "stream",
     "text": [
      "\n"
     ]
    },
    {
     "name": "stdout",
     "output_type": "stream",
     "text": [
      "\n",
      "      Epoch    GPU_mem   box_loss   cls_loss   dfl_loss  Instances       Size\n"
     ]
    },
    {
     "name": "stderr",
     "output_type": "stream",
     "text": [
      "     29/100         0G      1.206     0.6604      1.125         23        320: 100%|██████████| 22/22 [02:35<00:00,  7.05s/it]\n",
      "                 Class     Images  Instances      Box(P          R      mAP50  mAP50-95): 100%|██████████| 2/2 [00:06<00:00,  3.07s/it]"
     ]
    },
    {
     "name": "stdout",
     "output_type": "stream",
     "text": [
      "                   all         44         44      0.852      0.909      0.896      0.507\n"
     ]
    },
    {
     "name": "stderr",
     "output_type": "stream",
     "text": [
      "\n"
     ]
    },
    {
     "name": "stdout",
     "output_type": "stream",
     "text": [
      "\n",
      "      Epoch    GPU_mem   box_loss   cls_loss   dfl_loss  Instances       Size\n"
     ]
    },
    {
     "name": "stderr",
     "output_type": "stream",
     "text": [
      "     30/100         0G      1.164     0.6595      1.143         15        320: 100%|██████████| 22/22 [02:33<00:00,  7.00s/it]\n",
      "                 Class     Images  Instances      Box(P          R      mAP50  mAP50-95): 100%|██████████| 2/2 [00:06<00:00,  3.12s/it]"
     ]
    },
    {
     "name": "stdout",
     "output_type": "stream",
     "text": [
      "                   all         44         44      0.891      0.818       0.87      0.517\n"
     ]
    },
    {
     "name": "stderr",
     "output_type": "stream",
     "text": [
      "\n"
     ]
    },
    {
     "name": "stdout",
     "output_type": "stream",
     "text": [
      "\n",
      "      Epoch    GPU_mem   box_loss   cls_loss   dfl_loss  Instances       Size\n"
     ]
    },
    {
     "name": "stderr",
     "output_type": "stream",
     "text": [
      "     31/100         0G      1.156     0.6499      1.131         17        320: 100%|██████████| 22/22 [02:31<00:00,  6.91s/it]\n",
      "                 Class     Images  Instances      Box(P          R      mAP50  mAP50-95): 100%|██████████| 2/2 [00:06<00:00,  3.03s/it]"
     ]
    },
    {
     "name": "stdout",
     "output_type": "stream",
     "text": [
      "                   all         44         44      0.874      0.886      0.897      0.513\n"
     ]
    },
    {
     "name": "stderr",
     "output_type": "stream",
     "text": [
      "\n"
     ]
    },
    {
     "name": "stdout",
     "output_type": "stream",
     "text": [
      "\n",
      "      Epoch    GPU_mem   box_loss   cls_loss   dfl_loss  Instances       Size\n"
     ]
    },
    {
     "name": "stderr",
     "output_type": "stream",
     "text": [
      "     32/100         0G      1.156     0.6422       1.12         15        320: 100%|██████████| 22/22 [02:32<00:00,  6.93s/it]\n",
      "                 Class     Images  Instances      Box(P          R      mAP50  mAP50-95): 100%|██████████| 2/2 [00:06<00:00,  3.02s/it]"
     ]
    },
    {
     "name": "stdout",
     "output_type": "stream",
     "text": [
      "                   all         44         44      0.828      0.909      0.868      0.503\n"
     ]
    },
    {
     "name": "stderr",
     "output_type": "stream",
     "text": [
      "\n"
     ]
    },
    {
     "name": "stdout",
     "output_type": "stream",
     "text": [
      "\n",
      "      Epoch    GPU_mem   box_loss   cls_loss   dfl_loss  Instances       Size\n"
     ]
    },
    {
     "name": "stderr",
     "output_type": "stream",
     "text": [
      "     33/100         0G      1.063      0.617      1.083         19        320: 100%|██████████| 22/22 [02:32<00:00,  6.95s/it]\n",
      "                 Class     Images  Instances      Box(P          R      mAP50  mAP50-95): 100%|██████████| 2/2 [00:06<00:00,  3.03s/it]"
     ]
    },
    {
     "name": "stdout",
     "output_type": "stream",
     "text": [
      "                   all         44         44      0.799      0.886      0.883      0.495\n"
     ]
    },
    {
     "name": "stderr",
     "output_type": "stream",
     "text": [
      "\n"
     ]
    },
    {
     "name": "stdout",
     "output_type": "stream",
     "text": [
      "\n",
      "      Epoch    GPU_mem   box_loss   cls_loss   dfl_loss  Instances       Size\n"
     ]
    },
    {
     "name": "stderr",
     "output_type": "stream",
     "text": [
      "     34/100         0G      1.094     0.6278      1.115         19        320: 100%|██████████| 22/22 [02:33<00:00,  6.97s/it]\n",
      "                 Class     Images  Instances      Box(P          R      mAP50  mAP50-95): 100%|██████████| 2/2 [00:06<00:00,  3.03s/it]"
     ]
    },
    {
     "name": "stdout",
     "output_type": "stream",
     "text": [
      "                   all         44         44      0.872      0.773      0.882      0.498\n"
     ]
    },
    {
     "name": "stderr",
     "output_type": "stream",
     "text": [
      "\n"
     ]
    },
    {
     "name": "stdout",
     "output_type": "stream",
     "text": [
      "\n",
      "      Epoch    GPU_mem   box_loss   cls_loss   dfl_loss  Instances       Size\n"
     ]
    },
    {
     "name": "stderr",
     "output_type": "stream",
     "text": [
      "     35/100         0G      1.083      0.628      1.077         16        320: 100%|██████████| 22/22 [02:32<00:00,  6.91s/it]\n",
      "                 Class     Images  Instances      Box(P          R      mAP50  mAP50-95): 100%|██████████| 2/2 [00:06<00:00,  3.01s/it]"
     ]
    },
    {
     "name": "stdout",
     "output_type": "stream",
     "text": [
      "                   all         44         44      0.809      0.869       0.92      0.542\n"
     ]
    },
    {
     "name": "stderr",
     "output_type": "stream",
     "text": [
      "\n"
     ]
    },
    {
     "name": "stdout",
     "output_type": "stream",
     "text": [
      "\n",
      "      Epoch    GPU_mem   box_loss   cls_loss   dfl_loss  Instances       Size\n"
     ]
    },
    {
     "name": "stderr",
     "output_type": "stream",
     "text": [
      "     36/100         0G       1.07     0.6473      1.096         14        320: 100%|██████████| 22/22 [02:32<00:00,  6.94s/it]\n",
      "                 Class     Images  Instances      Box(P          R      mAP50  mAP50-95): 100%|██████████| 2/2 [00:06<00:00,  3.05s/it]"
     ]
    },
    {
     "name": "stdout",
     "output_type": "stream",
     "text": [
      "                   all         44         44      0.926       0.85      0.907      0.512\n"
     ]
    },
    {
     "name": "stderr",
     "output_type": "stream",
     "text": [
      "\n"
     ]
    },
    {
     "name": "stdout",
     "output_type": "stream",
     "text": [
      "\n",
      "      Epoch    GPU_mem   box_loss   cls_loss   dfl_loss  Instances       Size\n"
     ]
    },
    {
     "name": "stderr",
     "output_type": "stream",
     "text": [
      "     37/100         0G      1.107     0.6358      1.116         20        320: 100%|██████████| 22/22 [02:33<00:00,  6.97s/it]\n",
      "                 Class     Images  Instances      Box(P          R      mAP50  mAP50-95): 100%|██████████| 2/2 [00:06<00:00,  3.04s/it]"
     ]
    },
    {
     "name": "stdout",
     "output_type": "stream",
     "text": [
      "                   all         44         44       0.85      0.902      0.894      0.495\n"
     ]
    },
    {
     "name": "stderr",
     "output_type": "stream",
     "text": [
      "\n"
     ]
    },
    {
     "name": "stdout",
     "output_type": "stream",
     "text": [
      "\n",
      "      Epoch    GPU_mem   box_loss   cls_loss   dfl_loss  Instances       Size\n"
     ]
    },
    {
     "name": "stderr",
     "output_type": "stream",
     "text": [
      "     38/100         0G      1.065     0.6201      1.097         17        320: 100%|██████████| 22/22 [02:32<00:00,  6.95s/it]\n",
      "                 Class     Images  Instances      Box(P          R      mAP50  mAP50-95): 100%|██████████| 2/2 [00:06<00:00,  3.02s/it]"
     ]
    },
    {
     "name": "stdout",
     "output_type": "stream",
     "text": [
      "                   all         44         44      0.861      0.847      0.909      0.495\n"
     ]
    },
    {
     "name": "stderr",
     "output_type": "stream",
     "text": [
      "\n"
     ]
    },
    {
     "name": "stdout",
     "output_type": "stream",
     "text": [
      "\n",
      "      Epoch    GPU_mem   box_loss   cls_loss   dfl_loss  Instances       Size\n"
     ]
    },
    {
     "name": "stderr",
     "output_type": "stream",
     "text": [
      "     39/100         0G      1.071     0.5934      1.081         16        320: 100%|██████████| 22/22 [02:33<00:00,  6.96s/it]\n",
      "                 Class     Images  Instances      Box(P          R      mAP50  mAP50-95): 100%|██████████| 2/2 [00:06<00:00,  3.04s/it]"
     ]
    },
    {
     "name": "stdout",
     "output_type": "stream",
     "text": [
      "                   all         44         44      0.849      0.886      0.899      0.503\n"
     ]
    },
    {
     "name": "stderr",
     "output_type": "stream",
     "text": [
      "\n"
     ]
    },
    {
     "name": "stdout",
     "output_type": "stream",
     "text": [
      "\n",
      "      Epoch    GPU_mem   box_loss   cls_loss   dfl_loss  Instances       Size\n"
     ]
    },
    {
     "name": "stderr",
     "output_type": "stream",
     "text": [
      "     40/100         0G      1.028     0.5834      1.061         16        320: 100%|██████████| 22/22 [02:32<00:00,  6.94s/it]\n",
      "                 Class     Images  Instances      Box(P          R      mAP50  mAP50-95): 100%|██████████| 2/2 [00:06<00:00,  3.02s/it]"
     ]
    },
    {
     "name": "stdout",
     "output_type": "stream",
     "text": [
      "                   all         44         44      0.904      0.864      0.899      0.524\n"
     ]
    },
    {
     "name": "stderr",
     "output_type": "stream",
     "text": [
      "\n"
     ]
    },
    {
     "name": "stdout",
     "output_type": "stream",
     "text": [
      "\n",
      "      Epoch    GPU_mem   box_loss   cls_loss   dfl_loss  Instances       Size\n"
     ]
    },
    {
     "name": "stderr",
     "output_type": "stream",
     "text": [
      "     41/100         0G      1.034     0.5828      1.053         16        320: 100%|██████████| 22/22 [02:32<00:00,  6.94s/it]\n",
      "                 Class     Images  Instances      Box(P          R      mAP50  mAP50-95): 100%|██████████| 2/2 [00:06<00:00,  3.01s/it]"
     ]
    },
    {
     "name": "stdout",
     "output_type": "stream",
     "text": [
      "                   all         44         44      0.926      0.849      0.909      0.514\n"
     ]
    },
    {
     "name": "stderr",
     "output_type": "stream",
     "text": [
      "\n"
     ]
    },
    {
     "name": "stdout",
     "output_type": "stream",
     "text": [
      "\n",
      "      Epoch    GPU_mem   box_loss   cls_loss   dfl_loss  Instances       Size\n"
     ]
    },
    {
     "name": "stderr",
     "output_type": "stream",
     "text": [
      "     42/100         0G      1.001     0.5676      1.056         22        320: 100%|██████████| 22/22 [02:32<00:00,  6.93s/it]\n",
      "                 Class     Images  Instances      Box(P          R      mAP50  mAP50-95): 100%|██████████| 2/2 [00:06<00:00,  3.03s/it]"
     ]
    },
    {
     "name": "stdout",
     "output_type": "stream",
     "text": [
      "                   all         44         44      0.885      0.955      0.941      0.549\n"
     ]
    },
    {
     "name": "stderr",
     "output_type": "stream",
     "text": [
      "\n"
     ]
    },
    {
     "name": "stdout",
     "output_type": "stream",
     "text": [
      "\n",
      "      Epoch    GPU_mem   box_loss   cls_loss   dfl_loss  Instances       Size\n"
     ]
    },
    {
     "name": "stderr",
     "output_type": "stream",
     "text": [
      "     43/100         0G     0.9966     0.5766      1.072         16        320: 100%|██████████| 22/22 [02:32<00:00,  6.95s/it]\n",
      "                 Class     Images  Instances      Box(P          R      mAP50  mAP50-95): 100%|██████████| 2/2 [00:06<00:00,  3.03s/it]"
     ]
    },
    {
     "name": "stdout",
     "output_type": "stream",
     "text": [
      "                   all         44         44      0.883      0.862       0.88      0.495\n"
     ]
    },
    {
     "name": "stderr",
     "output_type": "stream",
     "text": [
      "\n"
     ]
    },
    {
     "name": "stdout",
     "output_type": "stream",
     "text": [
      "\n",
      "      Epoch    GPU_mem   box_loss   cls_loss   dfl_loss  Instances       Size\n"
     ]
    },
    {
     "name": "stderr",
     "output_type": "stream",
     "text": [
      "     44/100         0G      0.995     0.5383      1.057         14        320: 100%|██████████| 22/22 [02:32<00:00,  6.95s/it]\n",
      "                 Class     Images  Instances      Box(P          R      mAP50  mAP50-95): 100%|██████████| 2/2 [00:06<00:00,  3.02s/it]"
     ]
    },
    {
     "name": "stdout",
     "output_type": "stream",
     "text": [
      "                   all         44         44      0.812      0.882      0.856      0.522\n"
     ]
    },
    {
     "name": "stderr",
     "output_type": "stream",
     "text": [
      "\n"
     ]
    },
    {
     "name": "stdout",
     "output_type": "stream",
     "text": [
      "\n",
      "      Epoch    GPU_mem   box_loss   cls_loss   dfl_loss  Instances       Size\n"
     ]
    },
    {
     "name": "stderr",
     "output_type": "stream",
     "text": [
      "     45/100         0G      1.031     0.5531      1.039         14        320: 100%|██████████| 22/22 [02:32<00:00,  6.93s/it]\n",
      "                 Class     Images  Instances      Box(P          R      mAP50  mAP50-95): 100%|██████████| 2/2 [00:06<00:00,  3.03s/it]"
     ]
    },
    {
     "name": "stdout",
     "output_type": "stream",
     "text": [
      "                   all         44         44      0.881      0.909      0.913      0.519\n"
     ]
    },
    {
     "name": "stderr",
     "output_type": "stream",
     "text": [
      "\n"
     ]
    },
    {
     "name": "stdout",
     "output_type": "stream",
     "text": [
      "\n",
      "      Epoch    GPU_mem   box_loss   cls_loss   dfl_loss  Instances       Size\n"
     ]
    },
    {
     "name": "stderr",
     "output_type": "stream",
     "text": [
      "     46/100         0G     0.9562     0.5429      1.029         20        320: 100%|██████████| 22/22 [02:32<00:00,  6.92s/it]\n",
      "                 Class     Images  Instances      Box(P          R      mAP50  mAP50-95): 100%|██████████| 2/2 [00:06<00:00,  3.01s/it]"
     ]
    },
    {
     "name": "stdout",
     "output_type": "stream",
     "text": [
      "                   all         44         44      0.949      0.773       0.88      0.545\n"
     ]
    },
    {
     "name": "stderr",
     "output_type": "stream",
     "text": [
      "\n"
     ]
    },
    {
     "name": "stdout",
     "output_type": "stream",
     "text": [
      "\n",
      "      Epoch    GPU_mem   box_loss   cls_loss   dfl_loss  Instances       Size\n"
     ]
    },
    {
     "name": "stderr",
     "output_type": "stream",
     "text": [
      "     47/100         0G     0.9561     0.5455      1.037         14        320: 100%|██████████| 22/22 [02:32<00:00,  6.92s/it]\n",
      "                 Class     Images  Instances      Box(P          R      mAP50  mAP50-95): 100%|██████████| 2/2 [00:06<00:00,  3.04s/it]"
     ]
    },
    {
     "name": "stdout",
     "output_type": "stream",
     "text": [
      "                   all         44         44      0.882      0.848      0.885      0.512\n"
     ]
    },
    {
     "name": "stderr",
     "output_type": "stream",
     "text": [
      "\n"
     ]
    },
    {
     "name": "stdout",
     "output_type": "stream",
     "text": [
      "\n",
      "      Epoch    GPU_mem   box_loss   cls_loss   dfl_loss  Instances       Size\n"
     ]
    },
    {
     "name": "stderr",
     "output_type": "stream",
     "text": [
      "     48/100         0G          1     0.5486      1.042         17        320: 100%|██████████| 22/22 [02:31<00:00,  6.90s/it]\n",
      "                 Class     Images  Instances      Box(P          R      mAP50  mAP50-95): 100%|██████████| 2/2 [00:06<00:00,  3.01s/it]"
     ]
    },
    {
     "name": "stdout",
     "output_type": "stream",
     "text": [
      "                   all         44         44      0.845      0.869      0.883      0.507\n"
     ]
    },
    {
     "name": "stderr",
     "output_type": "stream",
     "text": [
      "\n"
     ]
    },
    {
     "name": "stdout",
     "output_type": "stream",
     "text": [
      "\n",
      "      Epoch    GPU_mem   box_loss   cls_loss   dfl_loss  Instances       Size\n"
     ]
    },
    {
     "name": "stderr",
     "output_type": "stream",
     "text": [
      "     49/100         0G     0.9381     0.5164      1.056         20        320: 100%|██████████| 22/22 [02:32<00:00,  6.93s/it]\n",
      "                 Class     Images  Instances      Box(P          R      mAP50  mAP50-95): 100%|██████████| 2/2 [00:06<00:00,  3.02s/it]"
     ]
    },
    {
     "name": "stdout",
     "output_type": "stream",
     "text": [
      "                   all         44         44      0.857      0.841      0.883      0.515\n"
     ]
    },
    {
     "name": "stderr",
     "output_type": "stream",
     "text": [
      "\n"
     ]
    },
    {
     "name": "stdout",
     "output_type": "stream",
     "text": [
      "\n",
      "      Epoch    GPU_mem   box_loss   cls_loss   dfl_loss  Instances       Size\n"
     ]
    },
    {
     "name": "stderr",
     "output_type": "stream",
     "text": [
      "     50/100         0G     0.9785     0.5565      1.051         17        320: 100%|██████████| 22/22 [02:32<00:00,  6.95s/it]\n",
      "                 Class     Images  Instances      Box(P          R      mAP50  mAP50-95): 100%|██████████| 2/2 [00:06<00:00,  3.10s/it]"
     ]
    },
    {
     "name": "stdout",
     "output_type": "stream",
     "text": [
      "                   all         44         44      0.884      0.863      0.896      0.513\n"
     ]
    },
    {
     "name": "stderr",
     "output_type": "stream",
     "text": [
      "\n"
     ]
    },
    {
     "name": "stdout",
     "output_type": "stream",
     "text": [
      "\n",
      "      Epoch    GPU_mem   box_loss   cls_loss   dfl_loss  Instances       Size\n"
     ]
    },
    {
     "name": "stderr",
     "output_type": "stream",
     "text": [
      "     51/100         0G     0.9699      0.528      1.032         16        320: 100%|██████████| 22/22 [02:32<00:00,  6.92s/it]\n",
      "                 Class     Images  Instances      Box(P          R      mAP50  mAP50-95): 100%|██████████| 2/2 [00:06<00:00,  3.03s/it]"
     ]
    },
    {
     "name": "stdout",
     "output_type": "stream",
     "text": [
      "                   all         44         44      0.905      0.862      0.911      0.546\n"
     ]
    },
    {
     "name": "stderr",
     "output_type": "stream",
     "text": [
      "\n"
     ]
    },
    {
     "name": "stdout",
     "output_type": "stream",
     "text": [
      "\n",
      "      Epoch    GPU_mem   box_loss   cls_loss   dfl_loss  Instances       Size\n"
     ]
    },
    {
     "name": "stderr",
     "output_type": "stream",
     "text": [
      "     52/100         0G     0.9315     0.5095      1.005         14        320: 100%|██████████| 22/22 [02:32<00:00,  6.92s/it]\n",
      "                 Class     Images  Instances      Box(P          R      mAP50  mAP50-95): 100%|██████████| 2/2 [00:06<00:00,  3.04s/it]"
     ]
    },
    {
     "name": "stdout",
     "output_type": "stream",
     "text": [
      "                   all         44         44      0.822      0.886      0.894      0.497\n"
     ]
    },
    {
     "name": "stderr",
     "output_type": "stream",
     "text": [
      "\n"
     ]
    },
    {
     "name": "stdout",
     "output_type": "stream",
     "text": [
      "\n",
      "      Epoch    GPU_mem   box_loss   cls_loss   dfl_loss  Instances       Size\n"
     ]
    },
    {
     "name": "stderr",
     "output_type": "stream",
     "text": [
      "     53/100         0G     0.8979     0.5078      0.988         13        320: 100%|██████████| 22/22 [02:32<00:00,  6.91s/it]\n",
      "                 Class     Images  Instances      Box(P          R      mAP50  mAP50-95): 100%|██████████| 2/2 [00:06<00:00,  3.04s/it]"
     ]
    },
    {
     "name": "stdout",
     "output_type": "stream",
     "text": [
      "                   all         44         44      0.825      0.886      0.906      0.545\n"
     ]
    },
    {
     "name": "stderr",
     "output_type": "stream",
     "text": [
      "\n"
     ]
    },
    {
     "name": "stdout",
     "output_type": "stream",
     "text": [
      "\n",
      "      Epoch    GPU_mem   box_loss   cls_loss   dfl_loss  Instances       Size\n"
     ]
    },
    {
     "name": "stderr",
     "output_type": "stream",
     "text": [
      "     54/100         0G     0.8879     0.4999      1.016         16        320: 100%|██████████| 22/22 [02:32<00:00,  6.94s/it]\n",
      "                 Class     Images  Instances      Box(P          R      mAP50  mAP50-95): 100%|██████████| 2/2 [00:06<00:00,  3.02s/it]"
     ]
    },
    {
     "name": "stdout",
     "output_type": "stream",
     "text": [
      "                   all         44         44      0.858      0.864      0.884      0.521\n"
     ]
    },
    {
     "name": "stderr",
     "output_type": "stream",
     "text": [
      "\n"
     ]
    },
    {
     "name": "stdout",
     "output_type": "stream",
     "text": [
      "\n",
      "      Epoch    GPU_mem   box_loss   cls_loss   dfl_loss  Instances       Size\n"
     ]
    },
    {
     "name": "stderr",
     "output_type": "stream",
     "text": [
      "     55/100         0G     0.9121     0.4967      1.015         15        320: 100%|██████████| 22/22 [02:32<00:00,  6.94s/it]\n",
      "                 Class     Images  Instances      Box(P          R      mAP50  mAP50-95): 100%|██████████| 2/2 [00:06<00:00,  3.04s/it]"
     ]
    },
    {
     "name": "stdout",
     "output_type": "stream",
     "text": [
      "                   all         44         44      0.895      0.818      0.901      0.532\n"
     ]
    },
    {
     "name": "stderr",
     "output_type": "stream",
     "text": [
      "\n"
     ]
    },
    {
     "name": "stdout",
     "output_type": "stream",
     "text": [
      "\n",
      "      Epoch    GPU_mem   box_loss   cls_loss   dfl_loss  Instances       Size\n"
     ]
    },
    {
     "name": "stderr",
     "output_type": "stream",
     "text": [
      "     56/100         0G     0.9352     0.5021      1.023         16        320: 100%|██████████| 22/22 [02:31<00:00,  6.90s/it]\n",
      "                 Class     Images  Instances      Box(P          R      mAP50  mAP50-95): 100%|██████████| 2/2 [00:06<00:00,  3.02s/it]"
     ]
    },
    {
     "name": "stdout",
     "output_type": "stream",
     "text": [
      "                   all         44         44      0.951      0.841      0.916       0.55\n"
     ]
    },
    {
     "name": "stderr",
     "output_type": "stream",
     "text": [
      "\n"
     ]
    },
    {
     "name": "stdout",
     "output_type": "stream",
     "text": [
      "\n",
      "      Epoch    GPU_mem   box_loss   cls_loss   dfl_loss  Instances       Size\n"
     ]
    },
    {
     "name": "stderr",
     "output_type": "stream",
     "text": [
      "     57/100         0G     0.9183     0.5127       1.02         21        320: 100%|██████████| 22/22 [02:31<00:00,  6.91s/it]\n",
      "                 Class     Images  Instances      Box(P          R      mAP50  mAP50-95): 100%|██████████| 2/2 [00:06<00:00,  3.03s/it]"
     ]
    },
    {
     "name": "stdout",
     "output_type": "stream",
     "text": [
      "                   all         44         44      0.828      0.877      0.905      0.535\n"
     ]
    },
    {
     "name": "stderr",
     "output_type": "stream",
     "text": [
      "\n"
     ]
    },
    {
     "name": "stdout",
     "output_type": "stream",
     "text": [
      "\n",
      "      Epoch    GPU_mem   box_loss   cls_loss   dfl_loss  Instances       Size\n"
     ]
    },
    {
     "name": "stderr",
     "output_type": "stream",
     "text": [
      "     58/100         0G     0.8757     0.4981     0.9873         19        320: 100%|██████████| 22/22 [02:32<00:00,  6.94s/it]\n",
      "                 Class     Images  Instances      Box(P          R      mAP50  mAP50-95): 100%|██████████| 2/2 [00:06<00:00,  3.03s/it]"
     ]
    },
    {
     "name": "stdout",
     "output_type": "stream",
     "text": [
      "                   all         44         44      0.803      0.926      0.889      0.507\n"
     ]
    },
    {
     "name": "stderr",
     "output_type": "stream",
     "text": [
      "\n"
     ]
    },
    {
     "name": "stdout",
     "output_type": "stream",
     "text": [
      "\n",
      "      Epoch    GPU_mem   box_loss   cls_loss   dfl_loss  Instances       Size\n"
     ]
    },
    {
     "name": "stderr",
     "output_type": "stream",
     "text": [
      "     59/100         0G     0.9061     0.5148     0.9994         16        320: 100%|██████████| 22/22 [02:32<00:00,  6.94s/it]\n",
      "                 Class     Images  Instances      Box(P          R      mAP50  mAP50-95): 100%|██████████| 2/2 [00:06<00:00,  3.03s/it]"
     ]
    },
    {
     "name": "stdout",
     "output_type": "stream",
     "text": [
      "                   all         44         44      0.821      0.864       0.88      0.524\n"
     ]
    },
    {
     "name": "stderr",
     "output_type": "stream",
     "text": [
      "\n"
     ]
    },
    {
     "name": "stdout",
     "output_type": "stream",
     "text": [
      "\n",
      "      Epoch    GPU_mem   box_loss   cls_loss   dfl_loss  Instances       Size\n"
     ]
    },
    {
     "name": "stderr",
     "output_type": "stream",
     "text": [
      "     60/100         0G     0.8771     0.4861      1.004          9        320: 100%|██████████| 22/22 [02:31<00:00,  6.91s/it]\n",
      "                 Class     Images  Instances      Box(P          R      mAP50  mAP50-95): 100%|██████████| 2/2 [00:06<00:00,  3.02s/it]"
     ]
    },
    {
     "name": "stdout",
     "output_type": "stream",
     "text": [
      "                   all         44         44      0.861      0.864      0.917      0.538\n"
     ]
    },
    {
     "name": "stderr",
     "output_type": "stream",
     "text": [
      "\n"
     ]
    },
    {
     "name": "stdout",
     "output_type": "stream",
     "text": [
      "\n",
      "      Epoch    GPU_mem   box_loss   cls_loss   dfl_loss  Instances       Size\n"
     ]
    },
    {
     "name": "stderr",
     "output_type": "stream",
     "text": [
      "     61/100         0G     0.8506     0.4747     0.9818         17        320: 100%|██████████| 22/22 [02:32<00:00,  6.92s/it]\n",
      "                 Class     Images  Instances      Box(P          R      mAP50  mAP50-95): 100%|██████████| 2/2 [00:06<00:00,  3.03s/it]"
     ]
    },
    {
     "name": "stdout",
     "output_type": "stream",
     "text": [
      "                   all         44         44      0.862      0.853      0.896       0.53\n"
     ]
    },
    {
     "name": "stderr",
     "output_type": "stream",
     "text": [
      "\n"
     ]
    },
    {
     "name": "stdout",
     "output_type": "stream",
     "text": [
      "\n",
      "      Epoch    GPU_mem   box_loss   cls_loss   dfl_loss  Instances       Size\n"
     ]
    },
    {
     "name": "stderr",
     "output_type": "stream",
     "text": [
      "     62/100         0G     0.8479     0.4751     0.9958         15        320: 100%|██████████| 22/22 [02:34<00:00,  7.02s/it]\n",
      "                 Class     Images  Instances      Box(P          R      mAP50  mAP50-95): 100%|██████████| 2/2 [00:06<00:00,  3.08s/it]"
     ]
    },
    {
     "name": "stdout",
     "output_type": "stream",
     "text": [
      "                   all         44         44      0.847      0.886      0.893      0.517\n"
     ]
    },
    {
     "name": "stderr",
     "output_type": "stream",
     "text": [
      "\n"
     ]
    },
    {
     "name": "stdout",
     "output_type": "stream",
     "text": [
      "\n",
      "      Epoch    GPU_mem   box_loss   cls_loss   dfl_loss  Instances       Size\n"
     ]
    },
    {
     "name": "stderr",
     "output_type": "stream",
     "text": [
      "     63/100         0G     0.8594     0.4778     0.9779         18        320: 100%|██████████| 22/22 [02:35<00:00,  7.07s/it]\n",
      "                 Class     Images  Instances      Box(P          R      mAP50  mAP50-95): 100%|██████████| 2/2 [00:04<00:00,  2.46s/it]"
     ]
    },
    {
     "name": "stdout",
     "output_type": "stream",
     "text": [
      "                   all         44         44      0.831      0.909      0.897      0.529\n"
     ]
    },
    {
     "name": "stderr",
     "output_type": "stream",
     "text": [
      "\n"
     ]
    },
    {
     "name": "stdout",
     "output_type": "stream",
     "text": [
      "\n",
      "      Epoch    GPU_mem   box_loss   cls_loss   dfl_loss  Instances       Size\n"
     ]
    },
    {
     "name": "stderr",
     "output_type": "stream",
     "text": [
      "     64/100         0G     0.8638     0.4776     0.9854         14        320: 100%|██████████| 22/22 [02:35<00:00,  7.05s/it]\n",
      "                 Class     Images  Instances      Box(P          R      mAP50  mAP50-95): 100%|██████████| 2/2 [00:06<00:00,  3.09s/it]"
     ]
    },
    {
     "name": "stdout",
     "output_type": "stream",
     "text": [
      "                   all         44         44       0.84      0.886      0.876      0.514\n"
     ]
    },
    {
     "name": "stderr",
     "output_type": "stream",
     "text": [
      "\n"
     ]
    },
    {
     "name": "stdout",
     "output_type": "stream",
     "text": [
      "\n",
      "      Epoch    GPU_mem   box_loss   cls_loss   dfl_loss  Instances       Size\n"
     ]
    },
    {
     "name": "stderr",
     "output_type": "stream",
     "text": [
      "     65/100         0G     0.8479     0.4641      1.011         15        320: 100%|██████████| 22/22 [02:35<00:00,  7.07s/it]\n",
      "                 Class     Images  Instances      Box(P          R      mAP50  mAP50-95): 100%|██████████| 2/2 [00:06<00:00,  3.10s/it]"
     ]
    },
    {
     "name": "stdout",
     "output_type": "stream",
     "text": [
      "                   all         44         44      0.768      0.932      0.892      0.519\n"
     ]
    },
    {
     "name": "stderr",
     "output_type": "stream",
     "text": [
      "\n"
     ]
    },
    {
     "name": "stdout",
     "output_type": "stream",
     "text": [
      "\n",
      "      Epoch    GPU_mem   box_loss   cls_loss   dfl_loss  Instances       Size\n"
     ]
    },
    {
     "name": "stderr",
     "output_type": "stream",
     "text": [
      "     66/100         0G     0.7953     0.4466     0.9909         16        320: 100%|██████████| 22/22 [02:34<00:00,  7.03s/it]\n",
      "                 Class     Images  Instances      Box(P          R      mAP50  mAP50-95): 100%|██████████| 2/2 [00:06<00:00,  3.09s/it]"
     ]
    },
    {
     "name": "stdout",
     "output_type": "stream",
     "text": [
      "                   all         44         44      0.822      0.839      0.878      0.515\n"
     ]
    },
    {
     "name": "stderr",
     "output_type": "stream",
     "text": [
      "\n"
     ]
    },
    {
     "name": "stdout",
     "output_type": "stream",
     "text": [
      "\n",
      "      Epoch    GPU_mem   box_loss   cls_loss   dfl_loss  Instances       Size\n"
     ]
    },
    {
     "name": "stderr",
     "output_type": "stream",
     "text": [
      "     67/100         0G     0.8108     0.4668     0.9832         13        320: 100%|██████████| 22/22 [02:34<00:00,  7.04s/it]\n",
      "                 Class     Images  Instances      Box(P          R      mAP50  mAP50-95): 100%|██████████| 2/2 [00:06<00:00,  3.07s/it]"
     ]
    },
    {
     "name": "stdout",
     "output_type": "stream",
     "text": [
      "                   all         44         44       0.86      0.836      0.887      0.527\n"
     ]
    },
    {
     "name": "stderr",
     "output_type": "stream",
     "text": [
      "\n"
     ]
    },
    {
     "name": "stdout",
     "output_type": "stream",
     "text": [
      "\n",
      "      Epoch    GPU_mem   box_loss   cls_loss   dfl_loss  Instances       Size\n"
     ]
    },
    {
     "name": "stderr",
     "output_type": "stream",
     "text": [
      "     68/100         0G     0.8184     0.4669     0.9868         16        320: 100%|██████████| 22/22 [02:34<00:00,  7.01s/it]\n",
      "                 Class     Images  Instances      Box(P          R      mAP50  mAP50-95): 100%|██████████| 2/2 [00:06<00:00,  3.06s/it]"
     ]
    },
    {
     "name": "stdout",
     "output_type": "stream",
     "text": [
      "                   all         44         44      0.798      0.909      0.866      0.523\n"
     ]
    },
    {
     "name": "stderr",
     "output_type": "stream",
     "text": [
      "\n"
     ]
    },
    {
     "name": "stdout",
     "output_type": "stream",
     "text": [
      "\n",
      "      Epoch    GPU_mem   box_loss   cls_loss   dfl_loss  Instances       Size\n"
     ]
    },
    {
     "name": "stderr",
     "output_type": "stream",
     "text": [
      "     69/100         0G     0.8349     0.4843      1.005         15        320: 100%|██████████| 22/22 [02:34<00:00,  7.01s/it]\n",
      "                 Class     Images  Instances      Box(P          R      mAP50  mAP50-95): 100%|██████████| 2/2 [00:06<00:00,  3.07s/it]"
     ]
    },
    {
     "name": "stdout",
     "output_type": "stream",
     "text": [
      "                   all         44         44      0.826      0.886      0.896      0.532\n"
     ]
    },
    {
     "name": "stderr",
     "output_type": "stream",
     "text": [
      "\n"
     ]
    },
    {
     "name": "stdout",
     "output_type": "stream",
     "text": [
      "\n",
      "      Epoch    GPU_mem   box_loss   cls_loss   dfl_loss  Instances       Size\n"
     ]
    },
    {
     "name": "stderr",
     "output_type": "stream",
     "text": [
      "     70/100         0G     0.8102     0.4628     0.9856         13        320: 100%|██████████| 22/22 [02:34<00:00,  7.05s/it]\n",
      "                 Class     Images  Instances      Box(P          R      mAP50  mAP50-95): 100%|██████████| 2/2 [00:06<00:00,  3.11s/it]"
     ]
    },
    {
     "name": "stdout",
     "output_type": "stream",
     "text": [
      "                   all         44         44      0.846      0.864      0.868       0.51\n"
     ]
    },
    {
     "name": "stderr",
     "output_type": "stream",
     "text": [
      "\n"
     ]
    },
    {
     "name": "stdout",
     "output_type": "stream",
     "text": [
      "\n",
      "      Epoch    GPU_mem   box_loss   cls_loss   dfl_loss  Instances       Size\n"
     ]
    },
    {
     "name": "stderr",
     "output_type": "stream",
     "text": [
      "     71/100         0G      0.791     0.4542     0.9782         16        320: 100%|██████████| 22/22 [02:34<00:00,  7.01s/it]\n",
      "                 Class     Images  Instances      Box(P          R      mAP50  mAP50-95): 100%|██████████| 2/2 [00:06<00:00,  3.03s/it]"
     ]
    },
    {
     "name": "stdout",
     "output_type": "stream",
     "text": [
      "                   all         44         44       0.85      0.909      0.899      0.541\n"
     ]
    },
    {
     "name": "stderr",
     "output_type": "stream",
     "text": [
      "\n"
     ]
    },
    {
     "name": "stdout",
     "output_type": "stream",
     "text": [
      "\n",
      "      Epoch    GPU_mem   box_loss   cls_loss   dfl_loss  Instances       Size\n"
     ]
    },
    {
     "name": "stderr",
     "output_type": "stream",
     "text": [
      "     72/100         0G     0.8198     0.4416     0.9871         13        320: 100%|██████████| 22/22 [02:31<00:00,  6.91s/it]\n",
      "                 Class     Images  Instances      Box(P          R      mAP50  mAP50-95): 100%|██████████| 2/2 [00:06<00:00,  3.03s/it]"
     ]
    },
    {
     "name": "stdout",
     "output_type": "stream",
     "text": [
      "                   all         44         44      0.799      0.904        0.9      0.522\n"
     ]
    },
    {
     "name": "stderr",
     "output_type": "stream",
     "text": [
      "\n"
     ]
    },
    {
     "name": "stdout",
     "output_type": "stream",
     "text": [
      "\n",
      "      Epoch    GPU_mem   box_loss   cls_loss   dfl_loss  Instances       Size\n"
     ]
    },
    {
     "name": "stderr",
     "output_type": "stream",
     "text": [
      "     73/100         0G     0.8103     0.4585      0.975         16        320: 100%|██████████| 22/22 [02:32<00:00,  6.95s/it]\n",
      "                 Class     Images  Instances      Box(P          R      mAP50  mAP50-95): 100%|██████████| 2/2 [00:06<00:00,  3.04s/it]"
     ]
    },
    {
     "name": "stdout",
     "output_type": "stream",
     "text": [
      "                   all         44         44      0.803      0.909      0.891      0.505\n"
     ]
    },
    {
     "name": "stderr",
     "output_type": "stream",
     "text": [
      "\n"
     ]
    },
    {
     "name": "stdout",
     "output_type": "stream",
     "text": [
      "\n",
      "      Epoch    GPU_mem   box_loss   cls_loss   dfl_loss  Instances       Size\n"
     ]
    },
    {
     "name": "stderr",
     "output_type": "stream",
     "text": [
      "     74/100         0G     0.7654     0.4407     0.9618         15        320: 100%|██████████| 22/22 [02:31<00:00,  6.91s/it]\n",
      "                 Class     Images  Instances      Box(P          R      mAP50  mAP50-95): 100%|██████████| 2/2 [00:06<00:00,  3.10s/it]"
     ]
    },
    {
     "name": "stdout",
     "output_type": "stream",
     "text": [
      "                   all         44         44      0.812      0.886       0.88      0.505\n"
     ]
    },
    {
     "name": "stderr",
     "output_type": "stream",
     "text": [
      "\n"
     ]
    },
    {
     "name": "stdout",
     "output_type": "stream",
     "text": [
      "\n",
      "      Epoch    GPU_mem   box_loss   cls_loss   dfl_loss  Instances       Size\n"
     ]
    },
    {
     "name": "stderr",
     "output_type": "stream",
     "text": [
      "     75/100         0G     0.7448       0.43     0.9479         18        320: 100%|██████████| 22/22 [02:32<00:00,  6.92s/it]\n",
      "                 Class     Images  Instances      Box(P          R      mAP50  mAP50-95): 100%|██████████| 2/2 [00:06<00:00,  3.23s/it]"
     ]
    },
    {
     "name": "stdout",
     "output_type": "stream",
     "text": [
      "                   all         44         44      0.828      0.878      0.903      0.497\n"
     ]
    },
    {
     "name": "stderr",
     "output_type": "stream",
     "text": [
      "\n"
     ]
    },
    {
     "name": "stdout",
     "output_type": "stream",
     "text": [
      "\n",
      "      Epoch    GPU_mem   box_loss   cls_loss   dfl_loss  Instances       Size\n"
     ]
    },
    {
     "name": "stderr",
     "output_type": "stream",
     "text": [
      "     76/100         0G     0.7412      0.424     0.9725         12        320: 100%|██████████| 22/22 [02:34<00:00,  7.00s/it]\n",
      "                 Class     Images  Instances      Box(P          R      mAP50  mAP50-95): 100%|██████████| 2/2 [00:06<00:00,  3.06s/it]"
     ]
    },
    {
     "name": "stdout",
     "output_type": "stream",
     "text": [
      "                   all         44         44      0.806      0.886      0.906      0.521\n"
     ]
    },
    {
     "name": "stderr",
     "output_type": "stream",
     "text": [
      "\n"
     ]
    },
    {
     "name": "stdout",
     "output_type": "stream",
     "text": [
      "\n",
      "      Epoch    GPU_mem   box_loss   cls_loss   dfl_loss  Instances       Size\n"
     ]
    },
    {
     "name": "stderr",
     "output_type": "stream",
     "text": [
      "     77/100         0G     0.7492     0.4303     0.9656         21        320: 100%|██████████| 22/22 [02:34<00:00,  7.04s/it]\n",
      "                 Class     Images  Instances      Box(P          R      mAP50  mAP50-95): 100%|██████████| 2/2 [00:06<00:00,  3.07s/it]"
     ]
    },
    {
     "name": "stdout",
     "output_type": "stream",
     "text": [
      "                   all         44         44      0.806      0.886      0.906      0.492\n"
     ]
    },
    {
     "name": "stderr",
     "output_type": "stream",
     "text": [
      "\n"
     ]
    },
    {
     "name": "stdout",
     "output_type": "stream",
     "text": [
      "\n",
      "      Epoch    GPU_mem   box_loss   cls_loss   dfl_loss  Instances       Size\n"
     ]
    },
    {
     "name": "stderr",
     "output_type": "stream",
     "text": [
      "     78/100         0G     0.7307     0.4051     0.9401         14        320: 100%|██████████| 22/22 [02:35<00:00,  7.05s/it]\n",
      "                 Class     Images  Instances      Box(P          R      mAP50  mAP50-95): 100%|██████████| 2/2 [00:06<00:00,  3.08s/it]"
     ]
    },
    {
     "name": "stdout",
     "output_type": "stream",
     "text": [
      "                   all         44         44      0.852      0.841      0.875       0.49\n"
     ]
    },
    {
     "name": "stderr",
     "output_type": "stream",
     "text": [
      "\n"
     ]
    },
    {
     "name": "stdout",
     "output_type": "stream",
     "text": [
      "\n",
      "      Epoch    GPU_mem   box_loss   cls_loss   dfl_loss  Instances       Size\n"
     ]
    },
    {
     "name": "stderr",
     "output_type": "stream",
     "text": [
      "     79/100         0G     0.7684      0.418      0.984         15        320: 100%|██████████| 22/22 [02:34<00:00,  7.04s/it]\n",
      "                 Class     Images  Instances      Box(P          R      mAP50  mAP50-95): 100%|██████████| 2/2 [00:06<00:00,  3.09s/it]"
     ]
    },
    {
     "name": "stdout",
     "output_type": "stream",
     "text": [
      "                   all         44         44      0.849      0.841      0.864      0.497\n"
     ]
    },
    {
     "name": "stderr",
     "output_type": "stream",
     "text": [
      "\n"
     ]
    },
    {
     "name": "stdout",
     "output_type": "stream",
     "text": [
      "\n",
      "      Epoch    GPU_mem   box_loss   cls_loss   dfl_loss  Instances       Size\n"
     ]
    },
    {
     "name": "stderr",
     "output_type": "stream",
     "text": [
      "     80/100         0G     0.7452     0.4025     0.9562         16        320: 100%|██████████| 22/22 [02:35<00:00,  7.07s/it]\n",
      "                 Class     Images  Instances      Box(P          R      mAP50  mAP50-95): 100%|██████████| 2/2 [00:06<00:00,  3.09s/it]"
     ]
    },
    {
     "name": "stdout",
     "output_type": "stream",
     "text": [
      "                   all         44         44      0.805      0.886      0.893      0.515\n"
     ]
    },
    {
     "name": "stderr",
     "output_type": "stream",
     "text": [
      "\n"
     ]
    },
    {
     "name": "stdout",
     "output_type": "stream",
     "text": [
      "\n",
      "      Epoch    GPU_mem   box_loss   cls_loss   dfl_loss  Instances       Size\n"
     ]
    },
    {
     "name": "stderr",
     "output_type": "stream",
     "text": [
      "     81/100         0G     0.7126     0.4033     0.9587         17        320: 100%|██████████| 22/22 [02:36<00:00,  7.10s/it]\n",
      "                 Class     Images  Instances      Box(P          R      mAP50  mAP50-95): 100%|██████████| 2/2 [00:06<00:00,  3.12s/it]"
     ]
    },
    {
     "name": "stdout",
     "output_type": "stream",
     "text": [
      "                   all         44         44      0.833      0.841      0.883      0.495\n"
     ]
    },
    {
     "name": "stderr",
     "output_type": "stream",
     "text": [
      "\n"
     ]
    },
    {
     "name": "stdout",
     "output_type": "stream",
     "text": [
      "\n",
      "      Epoch    GPU_mem   box_loss   cls_loss   dfl_loss  Instances       Size\n"
     ]
    },
    {
     "name": "stderr",
     "output_type": "stream",
     "text": [
      "     82/100         0G     0.7321     0.3999     0.9528         13        320: 100%|██████████| 22/22 [02:33<00:00,  7.00s/it]\n",
      "                 Class     Images  Instances      Box(P          R      mAP50  mAP50-95): 100%|██████████| 2/2 [00:06<00:00,  3.02s/it]"
     ]
    },
    {
     "name": "stdout",
     "output_type": "stream",
     "text": [
      "                   all         44         44       0.84      0.835      0.883      0.513\n"
     ]
    },
    {
     "name": "stderr",
     "output_type": "stream",
     "text": [
      "\n"
     ]
    },
    {
     "name": "stdout",
     "output_type": "stream",
     "text": [
      "\n",
      "      Epoch    GPU_mem   box_loss   cls_loss   dfl_loss  Instances       Size\n"
     ]
    },
    {
     "name": "stderr",
     "output_type": "stream",
     "text": [
      "     83/100         0G     0.7195     0.3987     0.9329         19        320: 100%|██████████| 22/22 [02:32<00:00,  6.93s/it]\n",
      "                 Class     Images  Instances      Box(P          R      mAP50  mAP50-95): 100%|██████████| 2/2 [00:06<00:00,  3.03s/it]"
     ]
    },
    {
     "name": "stdout",
     "output_type": "stream",
     "text": [
      "                   all         44         44       0.84      0.834       0.87      0.501\n"
     ]
    },
    {
     "name": "stderr",
     "output_type": "stream",
     "text": [
      "\n"
     ]
    },
    {
     "name": "stdout",
     "output_type": "stream",
     "text": [
      "\n",
      "      Epoch    GPU_mem   box_loss   cls_loss   dfl_loss  Instances       Size\n"
     ]
    },
    {
     "name": "stderr",
     "output_type": "stream",
     "text": [
      "     84/100         0G     0.7221     0.4032     0.9468         23        320: 100%|██████████| 22/22 [02:32<00:00,  6.93s/it]\n",
      "                 Class     Images  Instances      Box(P          R      mAP50  mAP50-95): 100%|██████████| 2/2 [00:06<00:00,  3.03s/it]"
     ]
    },
    {
     "name": "stdout",
     "output_type": "stream",
     "text": [
      "                   all         44         44      0.799      0.903      0.883      0.507\n"
     ]
    },
    {
     "name": "stderr",
     "output_type": "stream",
     "text": [
      "\n"
     ]
    },
    {
     "name": "stdout",
     "output_type": "stream",
     "text": [
      "\n",
      "      Epoch    GPU_mem   box_loss   cls_loss   dfl_loss  Instances       Size\n"
     ]
    },
    {
     "name": "stderr",
     "output_type": "stream",
     "text": [
      "     85/100         0G     0.7202     0.4074     0.9401         16        320: 100%|██████████| 22/22 [02:32<00:00,  6.91s/it]\n",
      "                 Class     Images  Instances      Box(P          R      mAP50  mAP50-95): 100%|██████████| 2/2 [00:06<00:00,  3.02s/it]"
     ]
    },
    {
     "name": "stdout",
     "output_type": "stream",
     "text": [
      "                   all         44         44      0.812      0.885      0.884       0.52\n"
     ]
    },
    {
     "name": "stderr",
     "output_type": "stream",
     "text": [
      "\n"
     ]
    },
    {
     "name": "stdout",
     "output_type": "stream",
     "text": [
      "\n",
      "      Epoch    GPU_mem   box_loss   cls_loss   dfl_loss  Instances       Size\n"
     ]
    },
    {
     "name": "stderr",
     "output_type": "stream",
     "text": [
      "     86/100         0G     0.7142     0.4015      0.953         18        320: 100%|██████████| 22/22 [02:32<00:00,  6.94s/it]\n",
      "                 Class     Images  Instances      Box(P          R      mAP50  mAP50-95): 100%|██████████| 2/2 [00:06<00:00,  3.03s/it]"
     ]
    },
    {
     "name": "stdout",
     "output_type": "stream",
     "text": [
      "                   all         44         44      0.856      0.809      0.869      0.505\n"
     ]
    },
    {
     "name": "stderr",
     "output_type": "stream",
     "text": [
      "\n"
     ]
    },
    {
     "name": "stdout",
     "output_type": "stream",
     "text": [
      "\n",
      "      Epoch    GPU_mem   box_loss   cls_loss   dfl_loss  Instances       Size\n"
     ]
    },
    {
     "name": "stderr",
     "output_type": "stream",
     "text": [
      "     87/100         0G     0.7015      0.399      0.978         17        320: 100%|██████████| 22/22 [02:32<00:00,  6.93s/it]\n",
      "                 Class     Images  Instances      Box(P          R      mAP50  mAP50-95): 100%|██████████| 2/2 [00:06<00:00,  3.04s/it]"
     ]
    },
    {
     "name": "stdout",
     "output_type": "stream",
     "text": [
      "                   all         44         44      0.881      0.838      0.882      0.495\n"
     ]
    },
    {
     "name": "stderr",
     "output_type": "stream",
     "text": [
      "\n"
     ]
    },
    {
     "name": "stdout",
     "output_type": "stream",
     "text": [
      "\n",
      "      Epoch    GPU_mem   box_loss   cls_loss   dfl_loss  Instances       Size\n"
     ]
    },
    {
     "name": "stderr",
     "output_type": "stream",
     "text": [
      "     88/100         0G     0.6724     0.3865     0.9614         13        320: 100%|██████████| 22/22 [02:32<00:00,  6.92s/it]\n",
      "                 Class     Images  Instances      Box(P          R      mAP50  mAP50-95): 100%|██████████| 2/2 [00:06<00:00,  3.03s/it]"
     ]
    },
    {
     "name": "stdout",
     "output_type": "stream",
     "text": [
      "                   all         44         44      0.854      0.841       0.87      0.492\n"
     ]
    },
    {
     "name": "stderr",
     "output_type": "stream",
     "text": [
      "\n"
     ]
    },
    {
     "name": "stdout",
     "output_type": "stream",
     "text": [
      "\n",
      "      Epoch    GPU_mem   box_loss   cls_loss   dfl_loss  Instances       Size\n"
     ]
    },
    {
     "name": "stderr",
     "output_type": "stream",
     "text": [
      "     89/100         0G      0.657     0.3783     0.9205         18        320: 100%|██████████| 22/22 [02:32<00:00,  6.92s/it]\n",
      "                 Class     Images  Instances      Box(P          R      mAP50  mAP50-95): 100%|██████████| 2/2 [00:06<00:00,  3.04s/it]"
     ]
    },
    {
     "name": "stdout",
     "output_type": "stream",
     "text": [
      "                   all         44         44      0.821      0.818      0.882       0.48\n"
     ]
    },
    {
     "name": "stderr",
     "output_type": "stream",
     "text": [
      "\n"
     ]
    },
    {
     "name": "stdout",
     "output_type": "stream",
     "text": [
      "\n",
      "      Epoch    GPU_mem   box_loss   cls_loss   dfl_loss  Instances       Size\n"
     ]
    },
    {
     "name": "stderr",
     "output_type": "stream",
     "text": [
      "     90/100         0G     0.6732     0.3709     0.9285         17        320: 100%|██████████| 22/22 [02:32<00:00,  6.93s/it]\n",
      "                 Class     Images  Instances      Box(P          R      mAP50  mAP50-95): 100%|██████████| 2/2 [00:06<00:00,  3.02s/it]"
     ]
    },
    {
     "name": "stdout",
     "output_type": "stream",
     "text": [
      "                   all         44         44      0.835      0.841      0.878      0.499\n"
     ]
    },
    {
     "name": "stderr",
     "output_type": "stream",
     "text": [
      "\n"
     ]
    },
    {
     "name": "stdout",
     "output_type": "stream",
     "text": [
      "Closing dataloader mosaic\n",
      "\n",
      "      Epoch    GPU_mem   box_loss   cls_loss   dfl_loss  Instances       Size\n"
     ]
    },
    {
     "name": "stderr",
     "output_type": "stream",
     "text": [
      "     91/100         0G     0.9757     0.4745      1.071          9        320: 100%|██████████| 22/22 [02:32<00:00,  6.94s/it]\n",
      "                 Class     Images  Instances      Box(P          R      mAP50  mAP50-95): 100%|██████████| 2/2 [00:06<00:00,  3.05s/it]"
     ]
    },
    {
     "name": "stdout",
     "output_type": "stream",
     "text": [
      "                   all         44         44      0.873      0.841      0.881      0.507\n"
     ]
    },
    {
     "name": "stderr",
     "output_type": "stream",
     "text": [
      "\n"
     ]
    },
    {
     "name": "stdout",
     "output_type": "stream",
     "text": [
      "\n",
      "      Epoch    GPU_mem   box_loss   cls_loss   dfl_loss  Instances       Size\n"
     ]
    },
    {
     "name": "stderr",
     "output_type": "stream",
     "text": [
      "     92/100         0G     0.9249     0.4507      1.091          9        320: 100%|██████████| 22/22 [02:32<00:00,  6.92s/it]\n",
      "                 Class     Images  Instances      Box(P          R      mAP50  mAP50-95): 100%|██████████| 2/2 [00:06<00:00,  3.02s/it]"
     ]
    },
    {
     "name": "stdout",
     "output_type": "stream",
     "text": [
      "                   all         44         44      0.901      0.841      0.903      0.499\n"
     ]
    },
    {
     "name": "stderr",
     "output_type": "stream",
     "text": [
      "\n"
     ]
    },
    {
     "name": "stdout",
     "output_type": "stream",
     "text": [
      "\n",
      "      Epoch    GPU_mem   box_loss   cls_loss   dfl_loss  Instances       Size\n"
     ]
    },
    {
     "name": "stderr",
     "output_type": "stream",
     "text": [
      "     93/100         0G     0.9458     0.4491      1.046          9        320: 100%|██████████| 22/22 [02:32<00:00,  6.93s/it]\n",
      "                 Class     Images  Instances      Box(P          R      mAP50  mAP50-95): 100%|██████████| 2/2 [00:06<00:00,  3.04s/it]"
     ]
    },
    {
     "name": "stdout",
     "output_type": "stream",
     "text": [
      "                   all         44         44      0.858      0.841      0.894      0.509\n"
     ]
    },
    {
     "name": "stderr",
     "output_type": "stream",
     "text": [
      "\n"
     ]
    },
    {
     "name": "stdout",
     "output_type": "stream",
     "text": [
      "\n",
      "      Epoch    GPU_mem   box_loss   cls_loss   dfl_loss  Instances       Size\n"
     ]
    },
    {
     "name": "stderr",
     "output_type": "stream",
     "text": [
      "     94/100         0G     0.9275     0.4381      1.043          9        320: 100%|██████████| 22/22 [02:31<00:00,  6.90s/it]\n",
      "                 Class     Images  Instances      Box(P          R      mAP50  mAP50-95): 100%|██████████| 2/2 [00:06<00:00,  3.03s/it]"
     ]
    },
    {
     "name": "stdout",
     "output_type": "stream",
     "text": [
      "                   all         44         44       0.85      0.841      0.875      0.499\n"
     ]
    },
    {
     "name": "stderr",
     "output_type": "stream",
     "text": [
      "\n"
     ]
    },
    {
     "name": "stdout",
     "output_type": "stream",
     "text": [
      "\n",
      "      Epoch    GPU_mem   box_loss   cls_loss   dfl_loss  Instances       Size\n"
     ]
    },
    {
     "name": "stderr",
     "output_type": "stream",
     "text": [
      "     95/100         0G     0.9252     0.4364      1.061          9        320: 100%|██████████| 22/22 [02:31<00:00,  6.89s/it]\n",
      "                 Class     Images  Instances      Box(P          R      mAP50  mAP50-95): 100%|██████████| 2/2 [00:06<00:00,  3.03s/it]"
     ]
    },
    {
     "name": "stdout",
     "output_type": "stream",
     "text": [
      "                   all         44         44      0.835      0.841      0.872      0.499\n"
     ]
    },
    {
     "name": "stderr",
     "output_type": "stream",
     "text": [
      "\n"
     ]
    },
    {
     "name": "stdout",
     "output_type": "stream",
     "text": [
      "\n",
      "      Epoch    GPU_mem   box_loss   cls_loss   dfl_loss  Instances       Size\n"
     ]
    },
    {
     "name": "stderr",
     "output_type": "stream",
     "text": [
      "     96/100         0G     0.9376     0.4329      1.036          9        320: 100%|██████████| 22/22 [02:31<00:00,  6.90s/it]\n",
      "                 Class     Images  Instances      Box(P          R      mAP50  mAP50-95): 100%|██████████| 2/2 [00:06<00:00,  3.03s/it]"
     ]
    },
    {
     "name": "stdout",
     "output_type": "stream",
     "text": [
      "                   all         44         44      0.839      0.841        0.9      0.512\n"
     ]
    },
    {
     "name": "stderr",
     "output_type": "stream",
     "text": [
      "\n"
     ]
    },
    {
     "name": "stdout",
     "output_type": "stream",
     "text": [
      "\n",
      "      Epoch    GPU_mem   box_loss   cls_loss   dfl_loss  Instances       Size\n"
     ]
    },
    {
     "name": "stderr",
     "output_type": "stream",
     "text": [
      "     97/100         0G      0.913     0.4242      1.033          9        320: 100%|██████████| 22/22 [02:31<00:00,  6.89s/it]\n",
      "                 Class     Images  Instances      Box(P          R      mAP50  mAP50-95): 100%|██████████| 2/2 [00:06<00:00,  3.05s/it]"
     ]
    },
    {
     "name": "stdout",
     "output_type": "stream",
     "text": [
      "                   all         44         44      0.876      0.801      0.903      0.513\n"
     ]
    },
    {
     "name": "stderr",
     "output_type": "stream",
     "text": [
      "\n"
     ]
    },
    {
     "name": "stdout",
     "output_type": "stream",
     "text": [
      "\n",
      "      Epoch    GPU_mem   box_loss   cls_loss   dfl_loss  Instances       Size\n"
     ]
    },
    {
     "name": "stderr",
     "output_type": "stream",
     "text": [
      "     98/100         0G     0.8862     0.4264       1.03          9        320: 100%|██████████| 22/22 [02:31<00:00,  6.90s/it]\n",
      "                 Class     Images  Instances      Box(P          R      mAP50  mAP50-95): 100%|██████████| 2/2 [00:06<00:00,  3.03s/it]"
     ]
    },
    {
     "name": "stdout",
     "output_type": "stream",
     "text": [
      "                   all         44         44      0.869      0.841        0.9      0.516\n"
     ]
    },
    {
     "name": "stderr",
     "output_type": "stream",
     "text": [
      "\n"
     ]
    },
    {
     "name": "stdout",
     "output_type": "stream",
     "text": [
      "\n",
      "      Epoch    GPU_mem   box_loss   cls_loss   dfl_loss  Instances       Size\n"
     ]
    },
    {
     "name": "stderr",
     "output_type": "stream",
     "text": [
      "     99/100         0G     0.8694     0.4094      1.034          9        320: 100%|██████████| 22/22 [02:31<00:00,  6.89s/it]\n",
      "                 Class     Images  Instances      Box(P          R      mAP50  mAP50-95): 100%|██████████| 2/2 [00:06<00:00,  3.03s/it]"
     ]
    },
    {
     "name": "stdout",
     "output_type": "stream",
     "text": [
      "                   all         44         44      0.869      0.841      0.882      0.517\n"
     ]
    },
    {
     "name": "stderr",
     "output_type": "stream",
     "text": [
      "\n"
     ]
    },
    {
     "name": "stdout",
     "output_type": "stream",
     "text": [
      "\n",
      "      Epoch    GPU_mem   box_loss   cls_loss   dfl_loss  Instances       Size\n"
     ]
    },
    {
     "name": "stderr",
     "output_type": "stream",
     "text": [
      "    100/100         0G     0.8968      0.426      1.016          9        320: 100%|██████████| 22/22 [02:32<00:00,  6.91s/it]\n",
      "                 Class     Images  Instances      Box(P          R      mAP50  mAP50-95): 100%|██████████| 2/2 [00:06<00:00,  3.11s/it]"
     ]
    },
    {
     "name": "stdout",
     "output_type": "stream",
     "text": [
      "                   all         44         44      0.869      0.841      0.901      0.521\n"
     ]
    },
    {
     "name": "stderr",
     "output_type": "stream",
     "text": [
      "\n"
     ]
    },
    {
     "name": "stdout",
     "output_type": "stream",
     "text": [
      "\n",
      "100 epochs completed in 4.461 hours.\n",
      "Optimizer stripped from runs\\detect\\train3\\weights\\last.pt, 15.2MB\n",
      "Optimizer stripped from runs\\detect\\train3\\weights\\best.pt, 15.2MB\n",
      "\n",
      "Validating runs\\detect\\train3\\weights\\best.pt...\n",
      "Ultralytics YOLOv8.2.48  Python-3.12.4 torch-2.3.1+cpu CPU (Intel Core(TM) i7-8700K 3.70GHz)\n",
      "YOLOv9s summary (fused): 486 layers, 7167475 parameters, 0 gradients, 26.7 GFLOPs\n"
     ]
    },
    {
     "name": "stderr",
     "output_type": "stream",
     "text": [
      "                 Class     Images  Instances      Box(P          R      mAP50  mAP50-95): 100%|██████████| 2/2 [00:05<00:00,  2.81s/it]\n"
     ]
    },
    {
     "name": "stdout",
     "output_type": "stream",
     "text": [
      "                   all         44         44      0.886      0.955      0.941      0.549\n",
      "Speed: 0.6ms preprocess, 125.3ms inference, 0.0ms loss, 0.2ms postprocess per image\n",
      "Results saved to \u001B[1mruns\\detect\\train3\u001B[0m\n"
     ]
    },
    {
     "data": {
      "text/plain": "ultralytics.utils.metrics.DetMetrics object with attributes:\n\nap_class_index: array([0])\nbox: ultralytics.utils.metrics.Metric object\nconfusion_matrix: <ultralytics.utils.metrics.ConfusionMatrix object at 0x0000023FB5FDADB0>\ncurves: ['Precision-Recall(B)', 'F1-Confidence(B)', 'Precision-Confidence(B)', 'Recall-Confidence(B)']\ncurves_results: [[array([          0,    0.001001,    0.002002,    0.003003,    0.004004,    0.005005,    0.006006,    0.007007,    0.008008,    0.009009,     0.01001,    0.011011,    0.012012,    0.013013,    0.014014,    0.015015,    0.016016,    0.017017,    0.018018,    0.019019,     0.02002,    0.021021,    0.022022,    0.023023,\n          0.024024,    0.025025,    0.026026,    0.027027,    0.028028,    0.029029,     0.03003,    0.031031,    0.032032,    0.033033,    0.034034,    0.035035,    0.036036,    0.037037,    0.038038,    0.039039,     0.04004,    0.041041,    0.042042,    0.043043,    0.044044,    0.045045,    0.046046,    0.047047,\n          0.048048,    0.049049,     0.05005,    0.051051,    0.052052,    0.053053,    0.054054,    0.055055,    0.056056,    0.057057,    0.058058,    0.059059,     0.06006,    0.061061,    0.062062,    0.063063,    0.064064,    0.065065,    0.066066,    0.067067,    0.068068,    0.069069,     0.07007,    0.071071,\n          0.072072,    0.073073,    0.074074,    0.075075,    0.076076,    0.077077,    0.078078,    0.079079,     0.08008,    0.081081,    0.082082,    0.083083,    0.084084,    0.085085,    0.086086,    0.087087,    0.088088,    0.089089,     0.09009,    0.091091,    0.092092,    0.093093,    0.094094,    0.095095,\n          0.096096,    0.097097,    0.098098,    0.099099,      0.1001,      0.1011,      0.1021,      0.1031,      0.1041,     0.10511,     0.10611,     0.10711,     0.10811,     0.10911,     0.11011,     0.11111,     0.11211,     0.11311,     0.11411,     0.11512,     0.11612,     0.11712,     0.11812,     0.11912,\n           0.12012,     0.12112,     0.12212,     0.12312,     0.12412,     0.12513,     0.12613,     0.12713,     0.12813,     0.12913,     0.13013,     0.13113,     0.13213,     0.13313,     0.13413,     0.13514,     0.13614,     0.13714,     0.13814,     0.13914,     0.14014,     0.14114,     0.14214,     0.14314,\n           0.14414,     0.14515,     0.14615,     0.14715,     0.14815,     0.14915,     0.15015,     0.15115,     0.15215,     0.15315,     0.15415,     0.15516,     0.15616,     0.15716,     0.15816,     0.15916,     0.16016,     0.16116,     0.16216,     0.16316,     0.16416,     0.16517,     0.16617,     0.16717,\n           0.16817,     0.16917,     0.17017,     0.17117,     0.17217,     0.17317,     0.17417,     0.17518,     0.17618,     0.17718,     0.17818,     0.17918,     0.18018,     0.18118,     0.18218,     0.18318,     0.18418,     0.18519,     0.18619,     0.18719,     0.18819,     0.18919,     0.19019,     0.19119,\n           0.19219,     0.19319,     0.19419,      0.1952,      0.1962,      0.1972,      0.1982,      0.1992,      0.2002,      0.2012,      0.2022,      0.2032,      0.2042,     0.20521,     0.20621,     0.20721,     0.20821,     0.20921,     0.21021,     0.21121,     0.21221,     0.21321,     0.21421,     0.21522,\n           0.21622,     0.21722,     0.21822,     0.21922,     0.22022,     0.22122,     0.22222,     0.22322,     0.22422,     0.22523,     0.22623,     0.22723,     0.22823,     0.22923,     0.23023,     0.23123,     0.23223,     0.23323,     0.23423,     0.23524,     0.23624,     0.23724,     0.23824,     0.23924,\n           0.24024,     0.24124,     0.24224,     0.24324,     0.24424,     0.24525,     0.24625,     0.24725,     0.24825,     0.24925,     0.25025,     0.25125,     0.25225,     0.25325,     0.25425,     0.25526,     0.25626,     0.25726,     0.25826,     0.25926,     0.26026,     0.26126,     0.26226,     0.26326,\n           0.26426,     0.26527,     0.26627,     0.26727,     0.26827,     0.26927,     0.27027,     0.27127,     0.27227,     0.27327,     0.27427,     0.27528,     0.27628,     0.27728,     0.27828,     0.27928,     0.28028,     0.28128,     0.28228,     0.28328,     0.28428,     0.28529,     0.28629,     0.28729,\n           0.28829,     0.28929,     0.29029,     0.29129,     0.29229,     0.29329,     0.29429,      0.2953,      0.2963,      0.2973,      0.2983,      0.2993,      0.3003,      0.3013,      0.3023,      0.3033,      0.3043,     0.30531,     0.30631,     0.30731,     0.30831,     0.30931,     0.31031,     0.31131,\n           0.31231,     0.31331,     0.31431,     0.31532,     0.31632,     0.31732,     0.31832,     0.31932,     0.32032,     0.32132,     0.32232,     0.32332,     0.32432,     0.32533,     0.32633,     0.32733,     0.32833,     0.32933,     0.33033,     0.33133,     0.33233,     0.33333,     0.33433,     0.33534,\n           0.33634,     0.33734,     0.33834,     0.33934,     0.34034,     0.34134,     0.34234,     0.34334,     0.34434,     0.34535,     0.34635,     0.34735,     0.34835,     0.34935,     0.35035,     0.35135,     0.35235,     0.35335,     0.35435,     0.35536,     0.35636,     0.35736,     0.35836,     0.35936,\n           0.36036,     0.36136,     0.36236,     0.36336,     0.36436,     0.36537,     0.36637,     0.36737,     0.36837,     0.36937,     0.37037,     0.37137,     0.37237,     0.37337,     0.37437,     0.37538,     0.37638,     0.37738,     0.37838,     0.37938,     0.38038,     0.38138,     0.38238,     0.38338,\n           0.38438,     0.38539,     0.38639,     0.38739,     0.38839,     0.38939,     0.39039,     0.39139,     0.39239,     0.39339,     0.39439,      0.3954,      0.3964,      0.3974,      0.3984,      0.3994,      0.4004,      0.4014,      0.4024,      0.4034,      0.4044,     0.40541,     0.40641,     0.40741,\n           0.40841,     0.40941,     0.41041,     0.41141,     0.41241,     0.41341,     0.41441,     0.41542,     0.41642,     0.41742,     0.41842,     0.41942,     0.42042,     0.42142,     0.42242,     0.42342,     0.42442,     0.42543,     0.42643,     0.42743,     0.42843,     0.42943,     0.43043,     0.43143,\n           0.43243,     0.43343,     0.43443,     0.43544,     0.43644,     0.43744,     0.43844,     0.43944,     0.44044,     0.44144,     0.44244,     0.44344,     0.44444,     0.44545,     0.44645,     0.44745,     0.44845,     0.44945,     0.45045,     0.45145,     0.45245,     0.45345,     0.45445,     0.45546,\n           0.45646,     0.45746,     0.45846,     0.45946,     0.46046,     0.46146,     0.46246,     0.46346,     0.46446,     0.46547,     0.46647,     0.46747,     0.46847,     0.46947,     0.47047,     0.47147,     0.47247,     0.47347,     0.47447,     0.47548,     0.47648,     0.47748,     0.47848,     0.47948,\n           0.48048,     0.48148,     0.48248,     0.48348,     0.48448,     0.48549,     0.48649,     0.48749,     0.48849,     0.48949,     0.49049,     0.49149,     0.49249,     0.49349,     0.49449,      0.4955,      0.4965,      0.4975,      0.4985,      0.4995,      0.5005,      0.5015,      0.5025,      0.5035,\n            0.5045,     0.50551,     0.50651,     0.50751,     0.50851,     0.50951,     0.51051,     0.51151,     0.51251,     0.51351,     0.51451,     0.51552,     0.51652,     0.51752,     0.51852,     0.51952,     0.52052,     0.52152,     0.52252,     0.52352,     0.52452,     0.52553,     0.52653,     0.52753,\n           0.52853,     0.52953,     0.53053,     0.53153,     0.53253,     0.53353,     0.53453,     0.53554,     0.53654,     0.53754,     0.53854,     0.53954,     0.54054,     0.54154,     0.54254,     0.54354,     0.54454,     0.54555,     0.54655,     0.54755,     0.54855,     0.54955,     0.55055,     0.55155,\n           0.55255,     0.55355,     0.55455,     0.55556,     0.55656,     0.55756,     0.55856,     0.55956,     0.56056,     0.56156,     0.56256,     0.56356,     0.56456,     0.56557,     0.56657,     0.56757,     0.56857,     0.56957,     0.57057,     0.57157,     0.57257,     0.57357,     0.57457,     0.57558,\n           0.57658,     0.57758,     0.57858,     0.57958,     0.58058,     0.58158,     0.58258,     0.58358,     0.58458,     0.58559,     0.58659,     0.58759,     0.58859,     0.58959,     0.59059,     0.59159,     0.59259,     0.59359,     0.59459,      0.5956,      0.5966,      0.5976,      0.5986,      0.5996,\n            0.6006,      0.6016,      0.6026,      0.6036,      0.6046,     0.60561,     0.60661,     0.60761,     0.60861,     0.60961,     0.61061,     0.61161,     0.61261,     0.61361,     0.61461,     0.61562,     0.61662,     0.61762,     0.61862,     0.61962,     0.62062,     0.62162,     0.62262,     0.62362,\n           0.62462,     0.62563,     0.62663,     0.62763,     0.62863,     0.62963,     0.63063,     0.63163,     0.63263,     0.63363,     0.63463,     0.63564,     0.63664,     0.63764,     0.63864,     0.63964,     0.64064,     0.64164,     0.64264,     0.64364,     0.64464,     0.64565,     0.64665,     0.64765,\n           0.64865,     0.64965,     0.65065,     0.65165,     0.65265,     0.65365,     0.65465,     0.65566,     0.65666,     0.65766,     0.65866,     0.65966,     0.66066,     0.66166,     0.66266,     0.66366,     0.66466,     0.66567,     0.66667,     0.66767,     0.66867,     0.66967,     0.67067,     0.67167,\n           0.67267,     0.67367,     0.67467,     0.67568,     0.67668,     0.67768,     0.67868,     0.67968,     0.68068,     0.68168,     0.68268,     0.68368,     0.68468,     0.68569,     0.68669,     0.68769,     0.68869,     0.68969,     0.69069,     0.69169,     0.69269,     0.69369,     0.69469,      0.6957,\n            0.6967,      0.6977,      0.6987,      0.6997,      0.7007,      0.7017,      0.7027,      0.7037,      0.7047,     0.70571,     0.70671,     0.70771,     0.70871,     0.70971,     0.71071,     0.71171,     0.71271,     0.71371,     0.71471,     0.71572,     0.71672,     0.71772,     0.71872,     0.71972,\n           0.72072,     0.72172,     0.72272,     0.72372,     0.72472,     0.72573,     0.72673,     0.72773,     0.72873,     0.72973,     0.73073,     0.73173,     0.73273,     0.73373,     0.73473,     0.73574,     0.73674,     0.73774,     0.73874,     0.73974,     0.74074,     0.74174,     0.74274,     0.74374,\n           0.74474,     0.74575,     0.74675,     0.74775,     0.74875,     0.74975,     0.75075,     0.75175,     0.75275,     0.75375,     0.75475,     0.75576,     0.75676,     0.75776,     0.75876,     0.75976,     0.76076,     0.76176,     0.76276,     0.76376,     0.76476,     0.76577,     0.76677,     0.76777,\n           0.76877,     0.76977,     0.77077,     0.77177,     0.77277,     0.77377,     0.77477,     0.77578,     0.77678,     0.77778,     0.77878,     0.77978,     0.78078,     0.78178,     0.78278,     0.78378,     0.78478,     0.78579,     0.78679,     0.78779,     0.78879,     0.78979,     0.79079,     0.79179,\n           0.79279,     0.79379,     0.79479,      0.7958,      0.7968,      0.7978,      0.7988,      0.7998,      0.8008,      0.8018,      0.8028,      0.8038,      0.8048,     0.80581,     0.80681,     0.80781,     0.80881,     0.80981,     0.81081,     0.81181,     0.81281,     0.81381,     0.81481,     0.81582,\n           0.81682,     0.81782,     0.81882,     0.81982,     0.82082,     0.82182,     0.82282,     0.82382,     0.82482,     0.82583,     0.82683,     0.82783,     0.82883,     0.82983,     0.83083,     0.83183,     0.83283,     0.83383,     0.83483,     0.83584,     0.83684,     0.83784,     0.83884,     0.83984,\n           0.84084,     0.84184,     0.84284,     0.84384,     0.84484,     0.84585,     0.84685,     0.84785,     0.84885,     0.84985,     0.85085,     0.85185,     0.85285,     0.85385,     0.85485,     0.85586,     0.85686,     0.85786,     0.85886,     0.85986,     0.86086,     0.86186,     0.86286,     0.86386,\n           0.86486,     0.86587,     0.86687,     0.86787,     0.86887,     0.86987,     0.87087,     0.87187,     0.87287,     0.87387,     0.87487,     0.87588,     0.87688,     0.87788,     0.87888,     0.87988,     0.88088,     0.88188,     0.88288,     0.88388,     0.88488,     0.88589,     0.88689,     0.88789,\n           0.88889,     0.88989,     0.89089,     0.89189,     0.89289,     0.89389,     0.89489,      0.8959,      0.8969,      0.8979,      0.8989,      0.8999,      0.9009,      0.9019,      0.9029,      0.9039,      0.9049,     0.90591,     0.90691,     0.90791,     0.90891,     0.90991,     0.91091,     0.91191,\n           0.91291,     0.91391,     0.91491,     0.91592,     0.91692,     0.91792,     0.91892,     0.91992,     0.92092,     0.92192,     0.92292,     0.92392,     0.92492,     0.92593,     0.92693,     0.92793,     0.92893,     0.92993,     0.93093,     0.93193,     0.93293,     0.93393,     0.93493,     0.93594,\n           0.93694,     0.93794,     0.93894,     0.93994,     0.94094,     0.94194,     0.94294,     0.94394,     0.94494,     0.94595,     0.94695,     0.94795,     0.94895,     0.94995,     0.95095,     0.95195,     0.95295,     0.95395,     0.95495,     0.95596,     0.95696,     0.95796,     0.95896,     0.95996,\n           0.96096,     0.96196,     0.96296,     0.96396,     0.96496,     0.96597,     0.96697,     0.96797,     0.96897,     0.96997,     0.97097,     0.97197,     0.97297,     0.97397,     0.97497,     0.97598,     0.97698,     0.97798,     0.97898,     0.97998,     0.98098,     0.98198,     0.98298,     0.98398,\n           0.98498,     0.98599,     0.98699,     0.98799,     0.98899,     0.98999,     0.99099,     0.99199,     0.99299,     0.99399,     0.99499,       0.996,       0.997,       0.998,       0.999,           1]), array([[          1,           1,           1,           1,           1,           1,           1,           1,           1,           1,           1,           1,           1,           1,           1,           1,           1,           1,           1,           1,           1,           1,           1,\n                  1,           1,           1,           1,           1,           1,           1,           1,           1,           1,           1,           1,           1,           1,           1,           1,           1,           1,           1,           1,           1,           1,           1,\n                  1,           1,           1,           1,           1,           1,           1,           1,           1,           1,           1,           1,           1,           1,           1,           1,           1,           1,           1,           1,           1,           1,           1,\n                  1,           1,           1,           1,           1,           1,           1,           1,           1,           1,           1,           1,           1,           1,           1,           1,           1,           1,           1,           1,           1,           1,           1,\n                  1,           1,           1,           1,           1,           1,           1,           1,           1,           1,           1,           1,           1,           1,           1,           1,           1,           1,           1,           1,           1,           1,           1,\n                  1,           1,           1,           1,           1,           1,           1,           1,           1,           1,           1,           1,           1,           1,           1,           1,           1,           1,           1,           1,           1,           1,           1,\n                  1,           1,           1,           1,           1,           1,           1,           1,           1,           1,           1,           1,           1,           1,           1,           1,           1,           1,           1,           1,           1,           1,           1,\n                  1,           1,           1,           1,           1,           1,           1,           1,           1,           1,           1,           1,           1,           1,           1,           1,           1,           1,           1,           1,           1,           1,           1,\n                  1,           1,           1,           1,           1,           1,           1,           1,           1,           1,           1,           1,           1,           1,           1,           1,           1,           1,           1,           1,           1,           1,           1,\n                  1,           1,           1,           1,           1,           1,           1,           1,           1,           1,           1,           1,           1,           1,           1,           1,           1,           1,           1,           1,           1,           1,           1,\n                  1,           1,           1,           1,           1,           1,           1,           1,           1,           1,           1,           1,           1,           1,           1,           1,           1,           1,           1,           1,           1,           1,           1,\n                  1,           1,           1,           1,           1,           1,           1,           1,           1,           1,           1,           1,           1,           1,           1,           1,           1,           1,           1,           1,           1,           1,           1,\n                  1,           1,           1,           1,           1,           1,           1,           1,           1,           1,           1,           1,           1,           1,           1,           1,           1,           1,           1,           1,           1,           1,           1,\n                  1,           1,           1,           1,           1,           1,           1,           1,           1,           1,           1,           1,           1,           1,           1,           1,           1,           1,           1,           1,           1,           1,           1,\n                  1,           1,           1,           1,           1,           1,           1,           1,           1,           1,           1,           1,           1,           1,           1,           1,           1,           1,           1,           1,           1,           1,           1,\n                  1,           1,           1,           1,           1,           1,           1,           1,           1,           1,           1,           1,           1,           1,           1,           1,           1,           1,           1,           1,           1,           1,           1,\n                  1,           1,           1,           1,           1,           1,           1,           1,           1,           1,           1,           1,           1,           1,           1,           1,           1,           1,           1,           1,           1,           1,           1,\n                  1,           1,           1,           1,           1,           1,           1,           1,           1,           1,           1,           1,           1,           1,           1,           1,           1,           1,           1,           1,           1,           1,           1,\n                  1,           1,           1,           1,           1,           1,           1,           1,           1,           1,           1,           1,           1,           1,           1,           1,           1,           1,           1,           1,           1,           1,           1,\n                  1,           1,           1,           1,           1,           1,           1,           1,           1,           1,           1,           1,           1,           1,           1,           1,           1,           1,           1,           1,           1,           1,           1,\n                  1,           1,           1,           1,           1,           1,           1,           1,           1,           1,           1,           1,           1,           1,           1,           1,           1,           1,           1,           1,           1,           1,           1,\n                  1,           1,           1,           1,           1,           1,           1,           1,           1,           1,           1,           1,           1,           1,           1,           1,           1,           1,           1,           1,           1,           1,           1,\n                  1,           1,           1,           1,           1,           1,           1,           1,           1,           1,           1,           1,           1,           1,           1,           1,           1,           1,           1,           1,           1,           1,           1,\n                  1,           1,           1,           1,           1,           1,           1,           1,           1,           1,           1,           1,           1,           1,           1,           1,           1,           1,           1,           1,           1,           1,           1,\n                  1,           1,           1,           1,           1,           1,           1,           1,           1,           1,           1,           1,           1,           1,           1,           1,     0.96429,     0.96429,     0.96429,     0.96429,     0.96429,     0.96429,     0.96429,\n            0.96429,     0.96429,     0.96429,     0.96429,     0.96429,     0.96429,     0.96429,     0.96429,     0.96429,     0.96429,     0.96429,     0.96429,     0.96429,     0.96429,     0.96429,     0.96429,     0.96429,     0.96429,     0.96429,     0.96429,     0.96429,     0.96429,     0.96429,\n            0.96429,     0.96429,     0.96429,     0.96429,     0.96429,     0.96429,     0.96429,     0.96429,     0.96429,     0.96429,     0.96429,     0.96429,     0.96429,     0.96429,     0.96429,     0.96429,        0.95,        0.95,        0.95,        0.95,        0.95,        0.95,        0.95,\n               0.95,        0.95,        0.95,        0.95,        0.95,        0.95,        0.95,        0.95,        0.95,        0.95,        0.95,        0.95,        0.95,        0.95,        0.95,        0.95,        0.95,        0.95,        0.95,        0.95,        0.95,        0.95,        0.95,\n               0.95,        0.95,        0.95,        0.95,        0.95,        0.95,        0.95,        0.95,        0.95,        0.95,        0.95,        0.95,        0.95,        0.95,        0.95,        0.95,        0.95,        0.95,        0.95,        0.95,        0.95,        0.95,        0.95,\n               0.95,        0.95,        0.95,        0.95,        0.95,        0.95,        0.95,        0.95,        0.95,        0.95,        0.95,        0.95,        0.95,        0.95,        0.95,        0.95,        0.95,        0.95,        0.95,        0.95,        0.95,        0.95,        0.95,\n               0.95,        0.95,        0.95,        0.95,        0.95,        0.95,        0.95,        0.95,        0.95,        0.95,        0.95,        0.95,        0.95,        0.95,        0.95,        0.95,        0.95,        0.95,        0.95,        0.95,        0.95,        0.95,        0.95,\n               0.95,        0.95,        0.95,        0.95,        0.95,        0.95,        0.95,        0.95,        0.95,        0.95,        0.95,        0.95,        0.95,        0.95,        0.95,        0.95,        0.95,        0.95,        0.95,        0.95,        0.95,        0.95,        0.95,\n               0.95,        0.95,        0.95,        0.95,        0.95,        0.95,        0.95,        0.95,        0.95,        0.95,        0.95,        0.95,        0.95,        0.95,        0.95,        0.95,        0.95,        0.95,        0.95,        0.95,        0.95,        0.95,        0.95,\n               0.95,        0.95,        0.95,        0.95,        0.95,        0.95,        0.95,        0.95,        0.95,        0.95,        0.95,        0.95,        0.95,        0.95,        0.95,        0.95,        0.95,        0.95,        0.95,        0.95,        0.95,        0.95,        0.95,\n               0.95,        0.95,        0.95,        0.95,        0.95,        0.95,        0.95,        0.95,        0.95,        0.95,        0.95,        0.95,        0.95,        0.95,        0.95,        0.95,        0.95,        0.95,        0.95,        0.95,        0.95,        0.95,        0.95,\n               0.95,        0.95,        0.95,        0.95,        0.95,        0.95,        0.95,        0.95,        0.95,        0.95,        0.95,        0.95,        0.95,        0.95,        0.95,        0.95,        0.95,        0.95,        0.95,        0.95,        0.95,        0.95,        0.95,\n               0.95,        0.95,        0.95,        0.95,        0.95,        0.95,        0.95,        0.95,        0.95,        0.95,        0.95,        0.95,        0.95,        0.95,        0.95,        0.95,        0.95,        0.95,        0.95,        0.95,        0.95,        0.95,        0.95,\n               0.95,        0.95,        0.95,        0.95,        0.95,        0.95,        0.95,        0.95,        0.95,        0.95,        0.95,        0.95,     0.89362,     0.89362,     0.89362,     0.89362,     0.89362,     0.89362,     0.89362,     0.89362,     0.89362,     0.89362,     0.89362,\n            0.89362,     0.89362,     0.89362,     0.89362,     0.89362,     0.89362,     0.89362,     0.89362,     0.89362,     0.89362,     0.89362,     0.89362,     0.89362,     0.89362,     0.89362,     0.89362,     0.89362,     0.89362,     0.89362,     0.89362,     0.89362,     0.89362,     0.89362,\n            0.89362,     0.89362,     0.89362,     0.89362,     0.89362,     0.89362,     0.89362,     0.89362,     0.89362,     0.89362,     0.89362,     0.89362,     0.89362,     0.89362,     0.89362,     0.89362,     0.89362,     0.89362,     0.89362,     0.89362,     0.89362,     0.89362,     0.89362,\n            0.89362,     0.89362,     0.89362,     0.89362,     0.89362,     0.89362,     0.89362,     0.89362,     0.89362,     0.89362,     0.89362,     0.89362,     0.89362,     0.89362,     0.89362,     0.89362,     0.89362,     0.89362,     0.89362,     0.89362,     0.89362,     0.89362,     0.89362,\n            0.89362,     0.89362,     0.89362,     0.89362,     0.89362,     0.89362,     0.89362,     0.89362,     0.89362,     0.89362,     0.89362,     0.40952,     0.40952,     0.40952,     0.40952,     0.40952,     0.40952,     0.40952,     0.40952,     0.40952,     0.40952,     0.40952,     0.40952,\n            0.40952,     0.40952,     0.40952,     0.40952,     0.40952,     0.40952,     0.40952,     0.40952,     0.40952,     0.40952,     0.40952,      0.1422,     0.13574,     0.12928,     0.12281,     0.11635,     0.10988,     0.10342,    0.096957,    0.090493,    0.084029,    0.077566,    0.071102,\n           0.064638,    0.058174,     0.05171,    0.045247,    0.038783,    0.032319,    0.025855,    0.019391,    0.012928,   0.0064638,           0]]), 'Recall', 'Precision'], [array([          0,    0.001001,    0.002002,    0.003003,    0.004004,    0.005005,    0.006006,    0.007007,    0.008008,    0.009009,     0.01001,    0.011011,    0.012012,    0.013013,    0.014014,    0.015015,    0.016016,    0.017017,    0.018018,    0.019019,     0.02002,    0.021021,    0.022022,    0.023023,\n          0.024024,    0.025025,    0.026026,    0.027027,    0.028028,    0.029029,     0.03003,    0.031031,    0.032032,    0.033033,    0.034034,    0.035035,    0.036036,    0.037037,    0.038038,    0.039039,     0.04004,    0.041041,    0.042042,    0.043043,    0.044044,    0.045045,    0.046046,    0.047047,\n          0.048048,    0.049049,     0.05005,    0.051051,    0.052052,    0.053053,    0.054054,    0.055055,    0.056056,    0.057057,    0.058058,    0.059059,     0.06006,    0.061061,    0.062062,    0.063063,    0.064064,    0.065065,    0.066066,    0.067067,    0.068068,    0.069069,     0.07007,    0.071071,\n          0.072072,    0.073073,    0.074074,    0.075075,    0.076076,    0.077077,    0.078078,    0.079079,     0.08008,    0.081081,    0.082082,    0.083083,    0.084084,    0.085085,    0.086086,    0.087087,    0.088088,    0.089089,     0.09009,    0.091091,    0.092092,    0.093093,    0.094094,    0.095095,\n          0.096096,    0.097097,    0.098098,    0.099099,      0.1001,      0.1011,      0.1021,      0.1031,      0.1041,     0.10511,     0.10611,     0.10711,     0.10811,     0.10911,     0.11011,     0.11111,     0.11211,     0.11311,     0.11411,     0.11512,     0.11612,     0.11712,     0.11812,     0.11912,\n           0.12012,     0.12112,     0.12212,     0.12312,     0.12412,     0.12513,     0.12613,     0.12713,     0.12813,     0.12913,     0.13013,     0.13113,     0.13213,     0.13313,     0.13413,     0.13514,     0.13614,     0.13714,     0.13814,     0.13914,     0.14014,     0.14114,     0.14214,     0.14314,\n           0.14414,     0.14515,     0.14615,     0.14715,     0.14815,     0.14915,     0.15015,     0.15115,     0.15215,     0.15315,     0.15415,     0.15516,     0.15616,     0.15716,     0.15816,     0.15916,     0.16016,     0.16116,     0.16216,     0.16316,     0.16416,     0.16517,     0.16617,     0.16717,\n           0.16817,     0.16917,     0.17017,     0.17117,     0.17217,     0.17317,     0.17417,     0.17518,     0.17618,     0.17718,     0.17818,     0.17918,     0.18018,     0.18118,     0.18218,     0.18318,     0.18418,     0.18519,     0.18619,     0.18719,     0.18819,     0.18919,     0.19019,     0.19119,\n           0.19219,     0.19319,     0.19419,      0.1952,      0.1962,      0.1972,      0.1982,      0.1992,      0.2002,      0.2012,      0.2022,      0.2032,      0.2042,     0.20521,     0.20621,     0.20721,     0.20821,     0.20921,     0.21021,     0.21121,     0.21221,     0.21321,     0.21421,     0.21522,\n           0.21622,     0.21722,     0.21822,     0.21922,     0.22022,     0.22122,     0.22222,     0.22322,     0.22422,     0.22523,     0.22623,     0.22723,     0.22823,     0.22923,     0.23023,     0.23123,     0.23223,     0.23323,     0.23423,     0.23524,     0.23624,     0.23724,     0.23824,     0.23924,\n           0.24024,     0.24124,     0.24224,     0.24324,     0.24424,     0.24525,     0.24625,     0.24725,     0.24825,     0.24925,     0.25025,     0.25125,     0.25225,     0.25325,     0.25425,     0.25526,     0.25626,     0.25726,     0.25826,     0.25926,     0.26026,     0.26126,     0.26226,     0.26326,\n           0.26426,     0.26527,     0.26627,     0.26727,     0.26827,     0.26927,     0.27027,     0.27127,     0.27227,     0.27327,     0.27427,     0.27528,     0.27628,     0.27728,     0.27828,     0.27928,     0.28028,     0.28128,     0.28228,     0.28328,     0.28428,     0.28529,     0.28629,     0.28729,\n           0.28829,     0.28929,     0.29029,     0.29129,     0.29229,     0.29329,     0.29429,      0.2953,      0.2963,      0.2973,      0.2983,      0.2993,      0.3003,      0.3013,      0.3023,      0.3033,      0.3043,     0.30531,     0.30631,     0.30731,     0.30831,     0.30931,     0.31031,     0.31131,\n           0.31231,     0.31331,     0.31431,     0.31532,     0.31632,     0.31732,     0.31832,     0.31932,     0.32032,     0.32132,     0.32232,     0.32332,     0.32432,     0.32533,     0.32633,     0.32733,     0.32833,     0.32933,     0.33033,     0.33133,     0.33233,     0.33333,     0.33433,     0.33534,\n           0.33634,     0.33734,     0.33834,     0.33934,     0.34034,     0.34134,     0.34234,     0.34334,     0.34434,     0.34535,     0.34635,     0.34735,     0.34835,     0.34935,     0.35035,     0.35135,     0.35235,     0.35335,     0.35435,     0.35536,     0.35636,     0.35736,     0.35836,     0.35936,\n           0.36036,     0.36136,     0.36236,     0.36336,     0.36436,     0.36537,     0.36637,     0.36737,     0.36837,     0.36937,     0.37037,     0.37137,     0.37237,     0.37337,     0.37437,     0.37538,     0.37638,     0.37738,     0.37838,     0.37938,     0.38038,     0.38138,     0.38238,     0.38338,\n           0.38438,     0.38539,     0.38639,     0.38739,     0.38839,     0.38939,     0.39039,     0.39139,     0.39239,     0.39339,     0.39439,      0.3954,      0.3964,      0.3974,      0.3984,      0.3994,      0.4004,      0.4014,      0.4024,      0.4034,      0.4044,     0.40541,     0.40641,     0.40741,\n           0.40841,     0.40941,     0.41041,     0.41141,     0.41241,     0.41341,     0.41441,     0.41542,     0.41642,     0.41742,     0.41842,     0.41942,     0.42042,     0.42142,     0.42242,     0.42342,     0.42442,     0.42543,     0.42643,     0.42743,     0.42843,     0.42943,     0.43043,     0.43143,\n           0.43243,     0.43343,     0.43443,     0.43544,     0.43644,     0.43744,     0.43844,     0.43944,     0.44044,     0.44144,     0.44244,     0.44344,     0.44444,     0.44545,     0.44645,     0.44745,     0.44845,     0.44945,     0.45045,     0.45145,     0.45245,     0.45345,     0.45445,     0.45546,\n           0.45646,     0.45746,     0.45846,     0.45946,     0.46046,     0.46146,     0.46246,     0.46346,     0.46446,     0.46547,     0.46647,     0.46747,     0.46847,     0.46947,     0.47047,     0.47147,     0.47247,     0.47347,     0.47447,     0.47548,     0.47648,     0.47748,     0.47848,     0.47948,\n           0.48048,     0.48148,     0.48248,     0.48348,     0.48448,     0.48549,     0.48649,     0.48749,     0.48849,     0.48949,     0.49049,     0.49149,     0.49249,     0.49349,     0.49449,      0.4955,      0.4965,      0.4975,      0.4985,      0.4995,      0.5005,      0.5015,      0.5025,      0.5035,\n            0.5045,     0.50551,     0.50651,     0.50751,     0.50851,     0.50951,     0.51051,     0.51151,     0.51251,     0.51351,     0.51451,     0.51552,     0.51652,     0.51752,     0.51852,     0.51952,     0.52052,     0.52152,     0.52252,     0.52352,     0.52452,     0.52553,     0.52653,     0.52753,\n           0.52853,     0.52953,     0.53053,     0.53153,     0.53253,     0.53353,     0.53453,     0.53554,     0.53654,     0.53754,     0.53854,     0.53954,     0.54054,     0.54154,     0.54254,     0.54354,     0.54454,     0.54555,     0.54655,     0.54755,     0.54855,     0.54955,     0.55055,     0.55155,\n           0.55255,     0.55355,     0.55455,     0.55556,     0.55656,     0.55756,     0.55856,     0.55956,     0.56056,     0.56156,     0.56256,     0.56356,     0.56456,     0.56557,     0.56657,     0.56757,     0.56857,     0.56957,     0.57057,     0.57157,     0.57257,     0.57357,     0.57457,     0.57558,\n           0.57658,     0.57758,     0.57858,     0.57958,     0.58058,     0.58158,     0.58258,     0.58358,     0.58458,     0.58559,     0.58659,     0.58759,     0.58859,     0.58959,     0.59059,     0.59159,     0.59259,     0.59359,     0.59459,      0.5956,      0.5966,      0.5976,      0.5986,      0.5996,\n            0.6006,      0.6016,      0.6026,      0.6036,      0.6046,     0.60561,     0.60661,     0.60761,     0.60861,     0.60961,     0.61061,     0.61161,     0.61261,     0.61361,     0.61461,     0.61562,     0.61662,     0.61762,     0.61862,     0.61962,     0.62062,     0.62162,     0.62262,     0.62362,\n           0.62462,     0.62563,     0.62663,     0.62763,     0.62863,     0.62963,     0.63063,     0.63163,     0.63263,     0.63363,     0.63463,     0.63564,     0.63664,     0.63764,     0.63864,     0.63964,     0.64064,     0.64164,     0.64264,     0.64364,     0.64464,     0.64565,     0.64665,     0.64765,\n           0.64865,     0.64965,     0.65065,     0.65165,     0.65265,     0.65365,     0.65465,     0.65566,     0.65666,     0.65766,     0.65866,     0.65966,     0.66066,     0.66166,     0.66266,     0.66366,     0.66466,     0.66567,     0.66667,     0.66767,     0.66867,     0.66967,     0.67067,     0.67167,\n           0.67267,     0.67367,     0.67467,     0.67568,     0.67668,     0.67768,     0.67868,     0.67968,     0.68068,     0.68168,     0.68268,     0.68368,     0.68468,     0.68569,     0.68669,     0.68769,     0.68869,     0.68969,     0.69069,     0.69169,     0.69269,     0.69369,     0.69469,      0.6957,\n            0.6967,      0.6977,      0.6987,      0.6997,      0.7007,      0.7017,      0.7027,      0.7037,      0.7047,     0.70571,     0.70671,     0.70771,     0.70871,     0.70971,     0.71071,     0.71171,     0.71271,     0.71371,     0.71471,     0.71572,     0.71672,     0.71772,     0.71872,     0.71972,\n           0.72072,     0.72172,     0.72272,     0.72372,     0.72472,     0.72573,     0.72673,     0.72773,     0.72873,     0.72973,     0.73073,     0.73173,     0.73273,     0.73373,     0.73473,     0.73574,     0.73674,     0.73774,     0.73874,     0.73974,     0.74074,     0.74174,     0.74274,     0.74374,\n           0.74474,     0.74575,     0.74675,     0.74775,     0.74875,     0.74975,     0.75075,     0.75175,     0.75275,     0.75375,     0.75475,     0.75576,     0.75676,     0.75776,     0.75876,     0.75976,     0.76076,     0.76176,     0.76276,     0.76376,     0.76476,     0.76577,     0.76677,     0.76777,\n           0.76877,     0.76977,     0.77077,     0.77177,     0.77277,     0.77377,     0.77477,     0.77578,     0.77678,     0.77778,     0.77878,     0.77978,     0.78078,     0.78178,     0.78278,     0.78378,     0.78478,     0.78579,     0.78679,     0.78779,     0.78879,     0.78979,     0.79079,     0.79179,\n           0.79279,     0.79379,     0.79479,      0.7958,      0.7968,      0.7978,      0.7988,      0.7998,      0.8008,      0.8018,      0.8028,      0.8038,      0.8048,     0.80581,     0.80681,     0.80781,     0.80881,     0.80981,     0.81081,     0.81181,     0.81281,     0.81381,     0.81481,     0.81582,\n           0.81682,     0.81782,     0.81882,     0.81982,     0.82082,     0.82182,     0.82282,     0.82382,     0.82482,     0.82583,     0.82683,     0.82783,     0.82883,     0.82983,     0.83083,     0.83183,     0.83283,     0.83383,     0.83483,     0.83584,     0.83684,     0.83784,     0.83884,     0.83984,\n           0.84084,     0.84184,     0.84284,     0.84384,     0.84484,     0.84585,     0.84685,     0.84785,     0.84885,     0.84985,     0.85085,     0.85185,     0.85285,     0.85385,     0.85485,     0.85586,     0.85686,     0.85786,     0.85886,     0.85986,     0.86086,     0.86186,     0.86286,     0.86386,\n           0.86486,     0.86587,     0.86687,     0.86787,     0.86887,     0.86987,     0.87087,     0.87187,     0.87287,     0.87387,     0.87487,     0.87588,     0.87688,     0.87788,     0.87888,     0.87988,     0.88088,     0.88188,     0.88288,     0.88388,     0.88488,     0.88589,     0.88689,     0.88789,\n           0.88889,     0.88989,     0.89089,     0.89189,     0.89289,     0.89389,     0.89489,      0.8959,      0.8969,      0.8979,      0.8989,      0.8999,      0.9009,      0.9019,      0.9029,      0.9039,      0.9049,     0.90591,     0.90691,     0.90791,     0.90891,     0.90991,     0.91091,     0.91191,\n           0.91291,     0.91391,     0.91491,     0.91592,     0.91692,     0.91792,     0.91892,     0.91992,     0.92092,     0.92192,     0.92292,     0.92392,     0.92492,     0.92593,     0.92693,     0.92793,     0.92893,     0.92993,     0.93093,     0.93193,     0.93293,     0.93393,     0.93493,     0.93594,\n           0.93694,     0.93794,     0.93894,     0.93994,     0.94094,     0.94194,     0.94294,     0.94394,     0.94494,     0.94595,     0.94695,     0.94795,     0.94895,     0.94995,     0.95095,     0.95195,     0.95295,     0.95395,     0.95495,     0.95596,     0.95696,     0.95796,     0.95896,     0.95996,\n           0.96096,     0.96196,     0.96296,     0.96396,     0.96496,     0.96597,     0.96697,     0.96797,     0.96897,     0.96997,     0.97097,     0.97197,     0.97297,     0.97397,     0.97497,     0.97598,     0.97698,     0.97798,     0.97898,     0.97998,     0.98098,     0.98198,     0.98298,     0.98398,\n           0.98498,     0.98599,     0.98699,     0.98799,     0.98899,     0.98999,     0.99099,     0.99199,     0.99299,     0.99399,     0.99499,       0.996,       0.997,       0.998,       0.999,           1]), array([[    0.25519,     0.25519,     0.31356,       0.345,     0.36725,     0.39238,     0.41273,     0.42259,     0.44442,     0.46324,     0.47807,     0.49459,     0.50172,     0.51714,      0.5376,     0.54056,     0.55633,     0.55852,     0.56068,     0.56454,     0.57224,     0.57354,      0.5771,\n             0.5793,     0.58179,     0.58403,     0.58589,     0.59401,     0.59996,     0.60217,     0.60445,     0.61351,     0.61502,     0.61652,     0.61814,     0.62014,     0.62213,     0.63185,      0.6329,     0.63396,     0.63501,     0.63606,     0.64254,     0.64676,     0.64748,     0.64819,\n             0.6489,     0.64961,     0.65032,     0.65103,     0.65247,     0.65409,      0.6557,     0.65661,     0.65715,      0.6577,     0.65824,     0.65878,     0.65933,     0.65987,     0.66041,     0.66095,     0.66169,     0.66365,     0.66561,     0.66749,     0.66928,     0.67107,     0.67291,\n            0.67479,     0.67667,     0.67802,     0.67903,     0.68003,     0.68103,     0.68203,     0.68296,     0.68331,     0.68366,     0.68402,     0.68437,     0.68472,     0.68507,     0.68542,     0.68577,     0.68612,     0.68647,     0.68682,     0.68717,     0.68752,     0.68787,     0.68821,\n            0.68862,     0.68951,      0.6904,     0.69129,     0.69218,     0.69306,     0.69395,     0.69497,     0.69605,     0.69714,     0.69821,     0.69929,     0.70665,     0.70909,     0.71152,     0.72021,     0.72663,      0.7308,     0.73246,     0.73412,     0.73577,     0.73697,     0.73734,\n            0.73771,     0.73808,     0.73846,     0.73883,      0.7392,     0.73957,     0.73994,     0.74031,     0.74068,     0.74104,     0.74141,     0.74178,     0.74215,     0.74252,     0.74289,     0.74325,     0.74466,      0.7465,     0.74834,     0.75009,     0.75102,     0.75195,     0.75289,\n            0.75382,     0.75474,     0.75567,      0.7566,     0.75755,     0.75851,     0.75947,     0.76042,     0.76138,     0.76233,     0.76328,     0.76607,     0.76994,     0.77096,     0.77135,     0.77173,     0.77212,      0.7725,     0.77289,     0.77328,     0.77366,     0.77405,     0.77443,\n            0.77482,      0.7752,     0.77558,     0.77597,     0.77635,     0.77674,     0.77712,      0.7775,     0.77783,       0.778,     0.77817,     0.77834,     0.77851,     0.77868,     0.77885,     0.77902,     0.77919,     0.77936,     0.77953,      0.7797,     0.77987,     0.78004,     0.78021,\n            0.78038,     0.78055,     0.78072,     0.78089,     0.78106,     0.78123,      0.7814,     0.78157,     0.78174,     0.78191,     0.78208,     0.78225,     0.78242,     0.78259,     0.78276,     0.78292,     0.78309,     0.78326,     0.78343,      0.7836,     0.78377,     0.78394,     0.78411,\n            0.78428,     0.78445,     0.78461,     0.78478,     0.78495,     0.78522,     0.78562,     0.78603,     0.78643,     0.78683,     0.78723,     0.78763,     0.78803,     0.78843,     0.78883,     0.78922,     0.78962,     0.79002,     0.79042,     0.79082,     0.79122,     0.79161,     0.79201,\n            0.79241,     0.79283,     0.79326,     0.79369,     0.79412,     0.79455,     0.79498,     0.79541,     0.79584,     0.79627,      0.7967,     0.79712,     0.79755,     0.79798,      0.7984,     0.79883,     0.79926,     0.79968,      0.8014,     0.80687,     0.81667,       0.818,     0.81933,\n            0.82065,     0.82197,     0.82329,     0.82481,     0.82637,     0.82792,     0.82947,     0.83101,     0.83186,     0.83218,     0.83251,     0.83283,     0.83315,     0.83347,     0.83378,      0.8341,     0.83442,     0.83474,     0.83506,     0.83538,      0.8357,     0.83602,     0.83634,\n            0.83665,     0.83697,     0.83729,     0.83761,     0.83792,     0.83824,     0.83856,     0.83887,     0.83919,     0.83951,     0.83982,      0.8401,     0.84032,     0.84054,     0.84076,     0.84098,      0.8412,     0.84142,     0.84164,     0.84186,     0.84208,      0.8423,     0.84252,\n            0.84273,     0.84295,     0.84317,     0.84339,     0.84361,     0.84383,     0.84405,     0.84427,     0.84449,      0.8447,     0.84492,     0.84514,     0.84536,     0.84558,      0.8458,     0.84601,     0.84623,     0.84645,     0.84667,     0.84688,      0.8471,     0.84732,     0.84754,\n            0.84775,     0.84797,     0.84819,      0.8484,     0.84869,     0.84901,     0.84932,     0.84964,     0.84996,     0.85028,      0.8506,     0.85091,     0.85123,     0.85155,     0.85187,     0.85218,      0.8525,     0.85282,     0.85313,     0.85345,     0.85377,     0.85408,      0.8544,\n            0.85471,     0.85503,     0.85534,     0.85566,     0.85597,     0.85629,      0.8566,     0.85692,     0.85725,     0.85761,     0.85798,     0.85835,     0.85872,     0.85909,     0.85945,     0.85982,     0.86019,     0.86055,     0.86092,     0.86128,     0.86165,     0.86202,     0.86238,\n            0.86275,     0.86311,     0.86348,     0.86384,      0.8642,     0.86457,     0.86493,     0.86529,     0.86566,     0.86994,       0.894,     0.89468,     0.89535,     0.89603,     0.89671,     0.89738,     0.89806,     0.89873,      0.8994,     0.90008,     0.90075,     0.90142,     0.90209,\n            0.90276,     0.90335,     0.90375,     0.90416,     0.90457,     0.90498,     0.90538,     0.90579,     0.90619,      0.9066,     0.90701,     0.90741,     0.90781,     0.90822,     0.90862,     0.90903,     0.90943,     0.90983,     0.91024,     0.91064,     0.91104,     0.91144,     0.91184,\n            0.91224,     0.91264,     0.91304,     0.91331,     0.91357,     0.91383,     0.91409,     0.91435,     0.91461,     0.91488,     0.91514,      0.9154,     0.91566,     0.91592,     0.91618,     0.91644,      0.9167,     0.91696,     0.91722,     0.91748,     0.91774,       0.918,     0.91826,\n            0.91852,     0.91878,     0.91904,      0.9193,     0.91956,     0.91981,     0.92007,     0.92033,     0.92059,     0.92085,     0.92111,     0.92136,     0.92162,     0.92188,     0.92214,     0.92239,     0.92265,     0.92291,     0.92267,     0.92148,     0.92028,     0.91909,     0.91789,\n            0.91669,     0.91549,     0.91428,     0.91308,     0.91187,     0.91094,     0.91047,     0.91001,     0.90954,     0.90908,     0.90861,     0.90814,     0.90768,     0.90721,     0.90674,     0.90628,     0.90581,     0.90534,     0.90487,      0.9044,     0.90393,     0.90346,     0.90299,\n            0.90252,     0.90205,     0.90158,     0.90111,     0.90064,     0.90017,      0.8997,     0.89922,     0.89878,     0.89842,     0.89806,      0.8977,     0.89733,     0.89697,     0.89661,     0.89625,     0.89588,     0.89552,     0.89516,     0.89479,     0.89443,     0.89407,      0.8937,\n            0.89334,     0.89297,     0.89261,     0.89224,     0.89188,     0.89151,     0.89115,     0.89078,     0.89042,     0.89005,     0.88968,     0.88932,     0.88895,     0.88859,     0.88822,     0.88785,     0.88748,     0.88712,     0.88675,     0.88638,     0.88569,     0.88498,     0.88428,\n            0.88357,     0.88286,     0.88215,     0.88144,     0.88073,     0.88002,     0.87931,      0.8786,     0.87789,     0.87717,     0.87646,     0.87574,     0.87503,     0.87431,     0.87359,     0.87416,     0.87479,     0.87541,     0.87603,     0.87665,     0.87727,     0.87789,     0.87851,\n            0.87913,     0.87975,     0.88036,     0.88098,     0.88159,      0.8822,     0.88282,     0.88343,     0.88424,     0.88524,     0.88624,     0.88723,     0.88823,     0.88922,      0.8902,     0.89119,     0.89217,     0.89315,     0.89413,     0.89464,     0.89515,     0.89566,     0.89618,\n            0.89669,      0.8972,     0.89771,     0.89822,     0.89872,     0.89923,     0.89974,     0.90025,     0.90075,     0.90126,     0.90176,     0.90227,     0.90277,     0.90327,     0.90377,     0.90428,     0.90473,     0.90374,     0.90275,     0.90175,     0.90076,     0.89976,     0.89876,\n            0.89776,     0.89675,     0.89575,     0.89474,     0.89373,     0.89272,     0.89171,     0.89113,     0.89062,     0.89011,     0.88959,     0.88908,     0.88857,     0.88806,     0.88754,     0.88703,     0.88651,       0.886,     0.88548,     0.88497,     0.88445,     0.88394,     0.88342,\n             0.8829,     0.88238,     0.88187,     0.88135,     0.88083,     0.88031,     0.87979,     0.87927,     0.87875,     0.87823,     0.87756,     0.87682,     0.87608,     0.87533,     0.87459,     0.87385,      0.8731,     0.87235,     0.87161,     0.87086,     0.87011,     0.86936,     0.86861,\n            0.86785,      0.8671,     0.86635,     0.86559,     0.86484,     0.86413,     0.86366,      0.8632,     0.86274,     0.86228,     0.86182,     0.86136,     0.86089,     0.86043,     0.85997,     0.85951,     0.85904,     0.85858,     0.85811,     0.85765,     0.85718,     0.85672,     0.85625,\n            0.85578,     0.85532,     0.85485,     0.85438,     0.85392,     0.85345,     0.85298,     0.85251,     0.85204,     0.85157,      0.8511,     0.85063,     0.85016,     0.84874,     0.84682,     0.84489,     0.84296,     0.84102,     0.83908,     0.83712,     0.83522,     0.83361,       0.832,\n            0.83038,     0.82876,     0.82713,     0.82551,     0.82387,     0.82224,     0.82059,     0.81954,     0.81852,      0.8175,     0.81647,     0.81544,     0.81442,     0.81339,     0.81235,     0.81132,     0.81029,     0.80925,     0.80821,     0.80717,     0.80613,     0.80499,     0.80299,\n            0.80098,     0.79897,     0.79696,     0.79493,      0.7929,     0.79087,      0.7892,     0.78835,     0.78749,     0.78663,     0.78578,     0.78492,     0.78406,     0.78319,     0.78233,     0.78147,      0.7806,     0.77973,     0.77887,       0.778,     0.77713,     0.77626,     0.77539,\n            0.77451,     0.77364,     0.77181,     0.76947,     0.76711,     0.76475,     0.76238,        0.76,     0.75761,     0.75467,     0.75142,     0.74816,     0.74488,     0.74158,     0.74371,     0.74958,     0.74814,      0.7467,     0.74525,      0.7438,     0.74235,      0.7409,     0.73944,\n            0.73798,     0.73651,     0.73505,     0.73358,     0.73188,     0.72927,     0.72666,     0.72403,      0.7214,     0.71875,      0.7161,     0.71455,     0.71536,     0.71617,     0.71698,     0.71779,     0.71859,     0.71939,     0.72018,     0.72098,     0.72177,     0.72255,     0.72334,\n            0.72412,      0.7233,     0.71926,     0.71519,     0.71109,     0.70697,     0.70251,      0.6979,     0.69326,     0.68859,     0.68317,     0.67715,     0.67108,     0.66504,     0.65918,     0.65327,     0.64731,     0.59877,     0.59233,     0.58584,     0.58007,      0.5773,     0.57452,\n            0.57173,     0.56893,     0.56611,     0.56329,     0.56045,      0.5576,     0.55596,     0.55443,     0.55288,     0.55134,     0.54979,     0.54824,     0.54668,     0.54513,     0.54356,       0.542,     0.54043,     0.53886,     0.53728,     0.53571,     0.53412,     0.50445,     0.49636,\n            0.48819,     0.47939,     0.46948,     0.45943,     0.45427,     0.45149,      0.4487,     0.44591,      0.4431,     0.44028,     0.43745,     0.43461,     0.43176,      0.4289,     0.42381,     0.41838,     0.41292,     0.40742,     0.40188,     0.39367,     0.38401,     0.37424,     0.36846,\n            0.36531,     0.36215,     0.35897,     0.35579,     0.35259,     0.34938,     0.34615,     0.34291,     0.33967,     0.33452,     0.32932,     0.32409,     0.31882,     0.31352,     0.30818,     0.29988,      0.2912,     0.28243,     0.26272,     0.23382,     0.22603,     0.21817,     0.21024,\n             0.1957,     0.16359,     0.14948,     0.13516,     0.12642,     0.12384,     0.12125,     0.11865,     0.11605,     0.11344,     0.11083,      0.1082,     0.10557,     0.10293,     0.10029,    0.097634,    0.094974,    0.092306,     0.08963,    0.086887,    0.066283,    0.045229,           0,\n                  0,           0,           0,           0,           0,           0,           0,           0,           0,           0,           0,           0,           0,           0,           0,           0,           0,           0,           0,           0,           0,           0,           0,\n                  0,           0,           0,           0,           0,           0,           0,           0,           0,           0,           0,           0,           0,           0,           0,           0,           0,           0,           0,           0,           0,           0,           0,\n                  0,           0,           0,           0,           0,           0,           0,           0,           0,           0,           0,           0,           0,           0,           0,           0,           0,           0,           0,           0,           0,           0,           0,\n                  0,           0,           0,           0,           0,           0,           0,           0,           0,           0,           0,           0,           0,           0,           0,           0,           0,           0,           0,           0,           0,           0,           0,\n                  0,           0,           0,           0,           0,           0,           0,           0,           0,           0,           0]]), 'Confidence', 'F1'], [array([          0,    0.001001,    0.002002,    0.003003,    0.004004,    0.005005,    0.006006,    0.007007,    0.008008,    0.009009,     0.01001,    0.011011,    0.012012,    0.013013,    0.014014,    0.015015,    0.016016,    0.017017,    0.018018,    0.019019,     0.02002,    0.021021,    0.022022,    0.023023,\n          0.024024,    0.025025,    0.026026,    0.027027,    0.028028,    0.029029,     0.03003,    0.031031,    0.032032,    0.033033,    0.034034,    0.035035,    0.036036,    0.037037,    0.038038,    0.039039,     0.04004,    0.041041,    0.042042,    0.043043,    0.044044,    0.045045,    0.046046,    0.047047,\n          0.048048,    0.049049,     0.05005,    0.051051,    0.052052,    0.053053,    0.054054,    0.055055,    0.056056,    0.057057,    0.058058,    0.059059,     0.06006,    0.061061,    0.062062,    0.063063,    0.064064,    0.065065,    0.066066,    0.067067,    0.068068,    0.069069,     0.07007,    0.071071,\n          0.072072,    0.073073,    0.074074,    0.075075,    0.076076,    0.077077,    0.078078,    0.079079,     0.08008,    0.081081,    0.082082,    0.083083,    0.084084,    0.085085,    0.086086,    0.087087,    0.088088,    0.089089,     0.09009,    0.091091,    0.092092,    0.093093,    0.094094,    0.095095,\n          0.096096,    0.097097,    0.098098,    0.099099,      0.1001,      0.1011,      0.1021,      0.1031,      0.1041,     0.10511,     0.10611,     0.10711,     0.10811,     0.10911,     0.11011,     0.11111,     0.11211,     0.11311,     0.11411,     0.11512,     0.11612,     0.11712,     0.11812,     0.11912,\n           0.12012,     0.12112,     0.12212,     0.12312,     0.12412,     0.12513,     0.12613,     0.12713,     0.12813,     0.12913,     0.13013,     0.13113,     0.13213,     0.13313,     0.13413,     0.13514,     0.13614,     0.13714,     0.13814,     0.13914,     0.14014,     0.14114,     0.14214,     0.14314,\n           0.14414,     0.14515,     0.14615,     0.14715,     0.14815,     0.14915,     0.15015,     0.15115,     0.15215,     0.15315,     0.15415,     0.15516,     0.15616,     0.15716,     0.15816,     0.15916,     0.16016,     0.16116,     0.16216,     0.16316,     0.16416,     0.16517,     0.16617,     0.16717,\n           0.16817,     0.16917,     0.17017,     0.17117,     0.17217,     0.17317,     0.17417,     0.17518,     0.17618,     0.17718,     0.17818,     0.17918,     0.18018,     0.18118,     0.18218,     0.18318,     0.18418,     0.18519,     0.18619,     0.18719,     0.18819,     0.18919,     0.19019,     0.19119,\n           0.19219,     0.19319,     0.19419,      0.1952,      0.1962,      0.1972,      0.1982,      0.1992,      0.2002,      0.2012,      0.2022,      0.2032,      0.2042,     0.20521,     0.20621,     0.20721,     0.20821,     0.20921,     0.21021,     0.21121,     0.21221,     0.21321,     0.21421,     0.21522,\n           0.21622,     0.21722,     0.21822,     0.21922,     0.22022,     0.22122,     0.22222,     0.22322,     0.22422,     0.22523,     0.22623,     0.22723,     0.22823,     0.22923,     0.23023,     0.23123,     0.23223,     0.23323,     0.23423,     0.23524,     0.23624,     0.23724,     0.23824,     0.23924,\n           0.24024,     0.24124,     0.24224,     0.24324,     0.24424,     0.24525,     0.24625,     0.24725,     0.24825,     0.24925,     0.25025,     0.25125,     0.25225,     0.25325,     0.25425,     0.25526,     0.25626,     0.25726,     0.25826,     0.25926,     0.26026,     0.26126,     0.26226,     0.26326,\n           0.26426,     0.26527,     0.26627,     0.26727,     0.26827,     0.26927,     0.27027,     0.27127,     0.27227,     0.27327,     0.27427,     0.27528,     0.27628,     0.27728,     0.27828,     0.27928,     0.28028,     0.28128,     0.28228,     0.28328,     0.28428,     0.28529,     0.28629,     0.28729,\n           0.28829,     0.28929,     0.29029,     0.29129,     0.29229,     0.29329,     0.29429,      0.2953,      0.2963,      0.2973,      0.2983,      0.2993,      0.3003,      0.3013,      0.3023,      0.3033,      0.3043,     0.30531,     0.30631,     0.30731,     0.30831,     0.30931,     0.31031,     0.31131,\n           0.31231,     0.31331,     0.31431,     0.31532,     0.31632,     0.31732,     0.31832,     0.31932,     0.32032,     0.32132,     0.32232,     0.32332,     0.32432,     0.32533,     0.32633,     0.32733,     0.32833,     0.32933,     0.33033,     0.33133,     0.33233,     0.33333,     0.33433,     0.33534,\n           0.33634,     0.33734,     0.33834,     0.33934,     0.34034,     0.34134,     0.34234,     0.34334,     0.34434,     0.34535,     0.34635,     0.34735,     0.34835,     0.34935,     0.35035,     0.35135,     0.35235,     0.35335,     0.35435,     0.35536,     0.35636,     0.35736,     0.35836,     0.35936,\n           0.36036,     0.36136,     0.36236,     0.36336,     0.36436,     0.36537,     0.36637,     0.36737,     0.36837,     0.36937,     0.37037,     0.37137,     0.37237,     0.37337,     0.37437,     0.37538,     0.37638,     0.37738,     0.37838,     0.37938,     0.38038,     0.38138,     0.38238,     0.38338,\n           0.38438,     0.38539,     0.38639,     0.38739,     0.38839,     0.38939,     0.39039,     0.39139,     0.39239,     0.39339,     0.39439,      0.3954,      0.3964,      0.3974,      0.3984,      0.3994,      0.4004,      0.4014,      0.4024,      0.4034,      0.4044,     0.40541,     0.40641,     0.40741,\n           0.40841,     0.40941,     0.41041,     0.41141,     0.41241,     0.41341,     0.41441,     0.41542,     0.41642,     0.41742,     0.41842,     0.41942,     0.42042,     0.42142,     0.42242,     0.42342,     0.42442,     0.42543,     0.42643,     0.42743,     0.42843,     0.42943,     0.43043,     0.43143,\n           0.43243,     0.43343,     0.43443,     0.43544,     0.43644,     0.43744,     0.43844,     0.43944,     0.44044,     0.44144,     0.44244,     0.44344,     0.44444,     0.44545,     0.44645,     0.44745,     0.44845,     0.44945,     0.45045,     0.45145,     0.45245,     0.45345,     0.45445,     0.45546,\n           0.45646,     0.45746,     0.45846,     0.45946,     0.46046,     0.46146,     0.46246,     0.46346,     0.46446,     0.46547,     0.46647,     0.46747,     0.46847,     0.46947,     0.47047,     0.47147,     0.47247,     0.47347,     0.47447,     0.47548,     0.47648,     0.47748,     0.47848,     0.47948,\n           0.48048,     0.48148,     0.48248,     0.48348,     0.48448,     0.48549,     0.48649,     0.48749,     0.48849,     0.48949,     0.49049,     0.49149,     0.49249,     0.49349,     0.49449,      0.4955,      0.4965,      0.4975,      0.4985,      0.4995,      0.5005,      0.5015,      0.5025,      0.5035,\n            0.5045,     0.50551,     0.50651,     0.50751,     0.50851,     0.50951,     0.51051,     0.51151,     0.51251,     0.51351,     0.51451,     0.51552,     0.51652,     0.51752,     0.51852,     0.51952,     0.52052,     0.52152,     0.52252,     0.52352,     0.52452,     0.52553,     0.52653,     0.52753,\n           0.52853,     0.52953,     0.53053,     0.53153,     0.53253,     0.53353,     0.53453,     0.53554,     0.53654,     0.53754,     0.53854,     0.53954,     0.54054,     0.54154,     0.54254,     0.54354,     0.54454,     0.54555,     0.54655,     0.54755,     0.54855,     0.54955,     0.55055,     0.55155,\n           0.55255,     0.55355,     0.55455,     0.55556,     0.55656,     0.55756,     0.55856,     0.55956,     0.56056,     0.56156,     0.56256,     0.56356,     0.56456,     0.56557,     0.56657,     0.56757,     0.56857,     0.56957,     0.57057,     0.57157,     0.57257,     0.57357,     0.57457,     0.57558,\n           0.57658,     0.57758,     0.57858,     0.57958,     0.58058,     0.58158,     0.58258,     0.58358,     0.58458,     0.58559,     0.58659,     0.58759,     0.58859,     0.58959,     0.59059,     0.59159,     0.59259,     0.59359,     0.59459,      0.5956,      0.5966,      0.5976,      0.5986,      0.5996,\n            0.6006,      0.6016,      0.6026,      0.6036,      0.6046,     0.60561,     0.60661,     0.60761,     0.60861,     0.60961,     0.61061,     0.61161,     0.61261,     0.61361,     0.61461,     0.61562,     0.61662,     0.61762,     0.61862,     0.61962,     0.62062,     0.62162,     0.62262,     0.62362,\n           0.62462,     0.62563,     0.62663,     0.62763,     0.62863,     0.62963,     0.63063,     0.63163,     0.63263,     0.63363,     0.63463,     0.63564,     0.63664,     0.63764,     0.63864,     0.63964,     0.64064,     0.64164,     0.64264,     0.64364,     0.64464,     0.64565,     0.64665,     0.64765,\n           0.64865,     0.64965,     0.65065,     0.65165,     0.65265,     0.65365,     0.65465,     0.65566,     0.65666,     0.65766,     0.65866,     0.65966,     0.66066,     0.66166,     0.66266,     0.66366,     0.66466,     0.66567,     0.66667,     0.66767,     0.66867,     0.66967,     0.67067,     0.67167,\n           0.67267,     0.67367,     0.67467,     0.67568,     0.67668,     0.67768,     0.67868,     0.67968,     0.68068,     0.68168,     0.68268,     0.68368,     0.68468,     0.68569,     0.68669,     0.68769,     0.68869,     0.68969,     0.69069,     0.69169,     0.69269,     0.69369,     0.69469,      0.6957,\n            0.6967,      0.6977,      0.6987,      0.6997,      0.7007,      0.7017,      0.7027,      0.7037,      0.7047,     0.70571,     0.70671,     0.70771,     0.70871,     0.70971,     0.71071,     0.71171,     0.71271,     0.71371,     0.71471,     0.71572,     0.71672,     0.71772,     0.71872,     0.71972,\n           0.72072,     0.72172,     0.72272,     0.72372,     0.72472,     0.72573,     0.72673,     0.72773,     0.72873,     0.72973,     0.73073,     0.73173,     0.73273,     0.73373,     0.73473,     0.73574,     0.73674,     0.73774,     0.73874,     0.73974,     0.74074,     0.74174,     0.74274,     0.74374,\n           0.74474,     0.74575,     0.74675,     0.74775,     0.74875,     0.74975,     0.75075,     0.75175,     0.75275,     0.75375,     0.75475,     0.75576,     0.75676,     0.75776,     0.75876,     0.75976,     0.76076,     0.76176,     0.76276,     0.76376,     0.76476,     0.76577,     0.76677,     0.76777,\n           0.76877,     0.76977,     0.77077,     0.77177,     0.77277,     0.77377,     0.77477,     0.77578,     0.77678,     0.77778,     0.77878,     0.77978,     0.78078,     0.78178,     0.78278,     0.78378,     0.78478,     0.78579,     0.78679,     0.78779,     0.78879,     0.78979,     0.79079,     0.79179,\n           0.79279,     0.79379,     0.79479,      0.7958,      0.7968,      0.7978,      0.7988,      0.7998,      0.8008,      0.8018,      0.8028,      0.8038,      0.8048,     0.80581,     0.80681,     0.80781,     0.80881,     0.80981,     0.81081,     0.81181,     0.81281,     0.81381,     0.81481,     0.81582,\n           0.81682,     0.81782,     0.81882,     0.81982,     0.82082,     0.82182,     0.82282,     0.82382,     0.82482,     0.82583,     0.82683,     0.82783,     0.82883,     0.82983,     0.83083,     0.83183,     0.83283,     0.83383,     0.83483,     0.83584,     0.83684,     0.83784,     0.83884,     0.83984,\n           0.84084,     0.84184,     0.84284,     0.84384,     0.84484,     0.84585,     0.84685,     0.84785,     0.84885,     0.84985,     0.85085,     0.85185,     0.85285,     0.85385,     0.85485,     0.85586,     0.85686,     0.85786,     0.85886,     0.85986,     0.86086,     0.86186,     0.86286,     0.86386,\n           0.86486,     0.86587,     0.86687,     0.86787,     0.86887,     0.86987,     0.87087,     0.87187,     0.87287,     0.87387,     0.87487,     0.87588,     0.87688,     0.87788,     0.87888,     0.87988,     0.88088,     0.88188,     0.88288,     0.88388,     0.88488,     0.88589,     0.88689,     0.88789,\n           0.88889,     0.88989,     0.89089,     0.89189,     0.89289,     0.89389,     0.89489,      0.8959,      0.8969,      0.8979,      0.8989,      0.8999,      0.9009,      0.9019,      0.9029,      0.9039,      0.9049,     0.90591,     0.90691,     0.90791,     0.90891,     0.90991,     0.91091,     0.91191,\n           0.91291,     0.91391,     0.91491,     0.91592,     0.91692,     0.91792,     0.91892,     0.91992,     0.92092,     0.92192,     0.92292,     0.92392,     0.92492,     0.92593,     0.92693,     0.92793,     0.92893,     0.92993,     0.93093,     0.93193,     0.93293,     0.93393,     0.93493,     0.93594,\n           0.93694,     0.93794,     0.93894,     0.93994,     0.94094,     0.94194,     0.94294,     0.94394,     0.94494,     0.94595,     0.94695,     0.94795,     0.94895,     0.94995,     0.95095,     0.95195,     0.95295,     0.95395,     0.95495,     0.95596,     0.95696,     0.95796,     0.95896,     0.95996,\n           0.96096,     0.96196,     0.96296,     0.96396,     0.96496,     0.96597,     0.96697,     0.96797,     0.96897,     0.96997,     0.97097,     0.97197,     0.97297,     0.97397,     0.97497,     0.97598,     0.97698,     0.97798,     0.97898,     0.97998,     0.98098,     0.98198,     0.98298,     0.98398,\n           0.98498,     0.98599,     0.98699,     0.98799,     0.98899,     0.98999,     0.99099,     0.99199,     0.99299,     0.99399,     0.99499,       0.996,       0.997,       0.998,       0.999,           1]), array([[    0.14676,     0.14676,     0.18674,     0.20948,     0.22611,     0.24546,     0.26161,     0.26958,     0.28761,     0.30357,     0.31643,     0.33107,     0.33749,      0.3516,     0.37078,     0.37361,     0.38884,     0.39099,      0.3931,     0.39691,     0.40456,     0.40992,     0.41356,\n            0.41583,      0.4184,     0.42073,     0.42265,     0.43116,     0.43746,     0.43981,     0.44225,     0.45202,     0.45365,     0.45529,     0.45706,     0.45925,     0.46144,     0.47221,     0.47339,     0.47457,     0.47575,     0.47693,     0.48426,     0.48907,     0.48988,      0.4907,\n            0.49152,     0.49233,     0.49315,     0.49396,     0.49563,     0.49749,     0.49936,     0.50041,     0.50105,     0.50168,     0.50231,     0.50295,     0.50358,     0.50421,     0.50484,     0.50548,     0.50634,     0.50864,     0.51094,     0.51316,     0.51529,     0.51742,      0.5196,\n            0.52185,      0.5241,     0.52572,     0.52693,     0.52814,     0.52935,     0.53056,     0.53169,     0.53211,     0.53254,     0.53297,     0.53339,     0.53382,     0.53425,     0.53467,      0.5351,     0.53552,     0.53595,     0.53638,      0.5368,     0.53723,     0.53766,     0.53808,\n            0.53858,     0.53967,     0.54076,     0.54185,     0.54294,     0.54403,     0.54512,     0.54639,     0.54773,     0.54907,     0.55041,     0.55175,     0.56096,     0.56404,     0.56713,     0.57825,     0.58657,     0.59203,     0.59421,     0.59639,     0.59858,     0.60017,     0.60066,\n            0.60116,     0.60165,     0.60214,     0.60264,     0.60313,     0.60362,     0.60411,     0.60461,      0.6051,     0.60559,     0.60609,     0.60658,     0.60707,     0.60756,     0.60806,     0.60855,     0.61044,     0.61292,      0.6154,     0.61776,     0.61903,      0.6203,     0.62157,\n            0.62284,     0.62411,     0.62538,     0.62665,     0.62796,     0.62928,     0.63059,     0.63191,     0.63323,     0.63455,     0.63587,     0.63975,     0.64516,      0.6466,     0.64714,     0.64769,     0.64823,     0.64878,     0.64932,     0.64987,     0.65041,     0.65096,      0.6515,\n            0.65204,     0.65259,     0.65313,     0.65368,     0.65422,     0.65477,     0.65531,     0.65586,     0.65632,     0.65656,      0.6568,     0.65705,     0.65729,     0.65753,     0.65778,     0.65802,     0.65826,     0.65851,     0.65875,     0.65899,     0.65924,     0.65948,     0.65972,\n            0.65996,     0.66021,     0.66045,     0.66069,     0.66094,     0.66118,     0.66142,     0.66167,     0.66191,     0.66215,      0.6624,     0.66264,     0.66288,     0.66313,     0.66337,     0.66361,     0.66386,      0.6641,     0.66434,     0.66458,     0.66483,     0.66507,     0.66531,\n            0.66556,      0.6658,     0.66604,     0.66629,     0.66653,     0.66692,      0.6675,     0.66808,     0.66866,     0.66924,     0.66982,      0.6704,     0.67098,     0.67156,     0.67214,     0.67272,     0.67329,     0.67387,     0.67445,     0.67503,     0.67561,     0.67619,     0.67677,\n            0.67735,     0.67797,      0.6786,     0.67923,     0.67986,     0.68049,     0.68112,     0.68175,     0.68238,     0.68301,     0.68364,     0.68427,      0.6849,     0.68554,     0.68617,      0.6868,     0.68743,     0.68806,     0.69061,     0.69877,     0.71359,     0.71563,     0.71766,\n             0.7197,     0.72174,     0.72377,     0.72612,     0.72854,     0.73095,     0.73337,     0.73579,     0.73713,     0.73763,     0.73813,     0.73864,     0.73914,     0.73964,     0.74015,     0.74065,     0.74116,     0.74166,     0.74216,     0.74267,     0.74317,     0.74367,     0.74418,\n            0.74468,     0.74518,     0.74569,     0.74619,      0.7467,      0.7472,      0.7477,     0.74821,     0.74871,     0.74921,     0.74972,     0.75015,     0.75051,     0.75086,     0.75121,     0.75156,     0.75191,     0.75226,     0.75261,     0.75297,     0.75332,     0.75367,     0.75402,\n            0.75437,     0.75472,     0.75507,     0.75543,     0.75578,     0.75613,     0.75648,     0.75683,     0.75718,     0.75753,     0.75788,     0.75824,     0.75859,     0.75894,     0.75929,     0.75964,     0.75999,     0.76034,      0.7607,     0.76105,      0.7614,     0.76175,      0.7621,\n            0.76245,      0.7628,     0.76316,     0.76351,     0.76396,     0.76448,       0.765,     0.76551,     0.76603,     0.76655,     0.76706,     0.76758,      0.7681,     0.76862,     0.76913,     0.76965,     0.77017,     0.77068,      0.7712,     0.77172,     0.77223,     0.77275,     0.77327,\n            0.77379,      0.7743,     0.77482,     0.77534,     0.77585,     0.77637,     0.77689,      0.7774,     0.77795,     0.77855,     0.77916,     0.77977,     0.78038,     0.78098,     0.78159,      0.7822,      0.7828,     0.78341,     0.78402,     0.78463,     0.78523,     0.78584,     0.78645,\n            0.78705,     0.78766,     0.78827,     0.78888,     0.78948,     0.79009,      0.7907,     0.79131,     0.79191,     0.79911,     0.84067,     0.84187,     0.84308,     0.84428,     0.84548,     0.84668,     0.84788,     0.84908,     0.85029,     0.85149,     0.85269,     0.85389,     0.85509,\n             0.8563,     0.85736,      0.8581,     0.85883,     0.85957,      0.8603,     0.86104,     0.86177,     0.86251,     0.86324,     0.86398,     0.86471,     0.86545,     0.86618,     0.86692,     0.86765,     0.86839,     0.86912,     0.86986,     0.87059,     0.87133,     0.87206,      0.8728,\n            0.87353,     0.87427,       0.875,     0.87548,     0.87596,     0.87645,     0.87693,     0.87741,     0.87789,     0.87837,     0.87885,     0.87934,     0.87982,      0.8803,     0.88078,     0.88126,     0.88174,     0.88222,     0.88271,     0.88319,     0.88367,     0.88415,     0.88463,\n            0.88511,      0.8856,     0.88608,     0.88656,     0.88704,     0.88752,       0.888,     0.88849,     0.88897,     0.88945,     0.88993,     0.89041,     0.89089,     0.89137,     0.89186,     0.89234,     0.89282,      0.8933,     0.89354,     0.89331,     0.89307,     0.89284,     0.89261,\n            0.89238,     0.89215,     0.89191,     0.89168,     0.89145,     0.89127,     0.89118,     0.89108,     0.89099,      0.8909,     0.89081,     0.89071,     0.89062,     0.89053,     0.89044,     0.89034,     0.89025,     0.89016,     0.89007,     0.88997,     0.88988,     0.88979,      0.8897,\n             0.8896,     0.88951,     0.88942,     0.88933,     0.88923,     0.88914,     0.88905,     0.88896,     0.88887,      0.8888,     0.88872,     0.88865,     0.88858,      0.8885,     0.88843,     0.88835,     0.88828,     0.88821,     0.88813,     0.88806,     0.88799,     0.88791,     0.88784,\n            0.88777,     0.88769,     0.88762,     0.88754,     0.88747,      0.8874,     0.88732,     0.88725,     0.88718,      0.8871,     0.88703,     0.88696,     0.88688,     0.88681,     0.88674,     0.88666,     0.88659,     0.88651,     0.88644,     0.88637,     0.88622,     0.88608,     0.88593,\n            0.88578,     0.88564,     0.88549,     0.88534,      0.8852,     0.88505,      0.8849,     0.88476,     0.88461,     0.88446,     0.88431,     0.88417,     0.88402,     0.88387,     0.88373,     0.88495,     0.88623,     0.88751,     0.88879,     0.89007,     0.89135,     0.89263,     0.89391,\n            0.89519,     0.89647,     0.89775,     0.89903,     0.90031,     0.90159,     0.90287,     0.90415,     0.90586,     0.90796,     0.91006,     0.91216,     0.91426,     0.91636,     0.91846,     0.92056,     0.92266,     0.92476,     0.92685,     0.92795,     0.92905,     0.93016,     0.93126,\n            0.93237,     0.93347,     0.93457,     0.93568,     0.93678,     0.93789,     0.93899,     0.94009,      0.9412,      0.9423,     0.94341,     0.94451,     0.94562,     0.94672,     0.94782,     0.94893,        0.95,      0.9499,      0.9498,     0.94971,     0.94961,     0.94951,     0.94941,\n            0.94932,     0.94922,     0.94912,     0.94902,     0.94893,     0.94883,     0.94873,     0.94867,     0.94862,     0.94857,     0.94852,     0.94847,     0.94842,     0.94836,     0.94831,     0.94826,     0.94821,     0.94816,     0.94811,     0.94806,       0.948,     0.94795,      0.9479,\n            0.94785,      0.9478,     0.94775,      0.9477,     0.94764,     0.94759,     0.94754,     0.94749,     0.94744,     0.94739,     0.94732,     0.94724,     0.94716,     0.94709,     0.94701,     0.94693,     0.94686,     0.94678,      0.9467,     0.94663,     0.94655,     0.94647,      0.9464,\n            0.94632,     0.94624,     0.94616,     0.94609,     0.94601,     0.94594,     0.94589,     0.94584,     0.94579,     0.94574,     0.94569,     0.94564,     0.94559,     0.94554,      0.9455,     0.94545,      0.9454,     0.94535,      0.9453,     0.94525,      0.9452,     0.94515,      0.9451,\n            0.94505,       0.945,     0.94495,      0.9449,     0.94486,     0.94481,     0.94476,     0.94471,     0.94466,     0.94461,     0.94456,     0.94451,     0.94446,     0.94431,     0.94409,     0.94388,     0.94367,     0.94346,     0.94325,     0.94304,     0.94283,     0.94265,     0.94247,\n            0.94228,      0.9421,     0.94192,     0.94173,     0.94155,     0.94137,     0.94119,     0.94106,     0.94094,     0.94082,      0.9407,     0.94058,     0.94046,     0.94034,     0.94022,      0.9401,     0.93998,     0.93986,     0.93974,     0.93962,      0.9395,     0.93937,     0.93913,\n            0.93888,     0.93864,      0.9384,     0.93815,     0.93791,     0.93767,     0.93747,     0.93736,     0.93725,     0.93714,     0.93703,     0.93693,     0.93682,     0.93671,      0.9366,     0.93649,     0.93639,     0.93628,     0.93617,     0.93606,     0.93595,     0.93585,     0.93574,\n            0.93563,     0.93552,     0.93528,     0.93498,     0.93467,     0.93436,     0.93406,     0.93375,     0.93344,     0.93305,     0.93261,     0.93217,     0.93172,     0.93128,     0.94377,     0.96425,     0.96414,     0.96403,     0.96393,     0.96382,     0.96371,      0.9636,     0.96349,\n            0.96338,     0.96327,     0.96316,     0.96305,     0.96292,     0.96271,     0.96251,      0.9623,     0.96209,     0.96189,     0.96168,     0.96249,     0.96545,     0.96841,     0.97137,     0.97433,     0.97729,     0.98026,     0.98322,     0.98618,     0.98914,      0.9921,     0.99506,\n            0.99802,           1,           1,           1,           1,           1,           1,           1,           1,           1,           1,           1,           1,           1,           1,           1,           1,           1,           1,           1,           1,           1,           1,\n                  1,           1,           1,           1,           1,           1,           1,           1,           1,           1,           1,           1,           1,           1,           1,           1,           1,           1,           1,           1,           1,           1,           1,\n                  1,           1,           1,           1,           1,           1,           1,           1,           1,           1,           1,           1,           1,           1,           1,           1,           1,           1,           1,           1,           1,           1,           1,\n                  1,           1,           1,           1,           1,           1,           1,           1,           1,           1,           1,           1,           1,           1,           1,           1,           1,           1,           1,           1,           1,           1,           1,\n                  1,           1,           1,           1,           1,           1,           1,           1,           1,           1,           1,           1,           1,           1,           1,           1,           1,           1,           1,           1,           1,           1,           1,\n                  1,           1,           1,           1,           1,           1,           1,           1,           1,           1,           1,           1,           1,           1,           1,           1,           1,           1,           1,           1,           1,           1,           1,\n                  1,           1,           1,           1,           1,           1,           1,           1,           1,           1,           1,           1,           1,           1,           1,           1,           1,           1,           1,           1,           1,           1,           1,\n                  1,           1,           1,           1,           1,           1,           1,           1,           1,           1,           1,           1,           1,           1,           1,           1,           1,           1,           1,           1,           1,           1,           1,\n                  1,           1,           1,           1,           1,           1,           1,           1,           1,           1,           1,           1,           1,           1,           1,           1,           1,           1,           1,           1,           1,           1,           1,\n                  1,           1,           1,           1,           1,           1,           1,           1,           1,           1,           1]]), 'Confidence', 'Precision'], [array([          0,    0.001001,    0.002002,    0.003003,    0.004004,    0.005005,    0.006006,    0.007007,    0.008008,    0.009009,     0.01001,    0.011011,    0.012012,    0.013013,    0.014014,    0.015015,    0.016016,    0.017017,    0.018018,    0.019019,     0.02002,    0.021021,    0.022022,    0.023023,\n          0.024024,    0.025025,    0.026026,    0.027027,    0.028028,    0.029029,     0.03003,    0.031031,    0.032032,    0.033033,    0.034034,    0.035035,    0.036036,    0.037037,    0.038038,    0.039039,     0.04004,    0.041041,    0.042042,    0.043043,    0.044044,    0.045045,    0.046046,    0.047047,\n          0.048048,    0.049049,     0.05005,    0.051051,    0.052052,    0.053053,    0.054054,    0.055055,    0.056056,    0.057057,    0.058058,    0.059059,     0.06006,    0.061061,    0.062062,    0.063063,    0.064064,    0.065065,    0.066066,    0.067067,    0.068068,    0.069069,     0.07007,    0.071071,\n          0.072072,    0.073073,    0.074074,    0.075075,    0.076076,    0.077077,    0.078078,    0.079079,     0.08008,    0.081081,    0.082082,    0.083083,    0.084084,    0.085085,    0.086086,    0.087087,    0.088088,    0.089089,     0.09009,    0.091091,    0.092092,    0.093093,    0.094094,    0.095095,\n          0.096096,    0.097097,    0.098098,    0.099099,      0.1001,      0.1011,      0.1021,      0.1031,      0.1041,     0.10511,     0.10611,     0.10711,     0.10811,     0.10911,     0.11011,     0.11111,     0.11211,     0.11311,     0.11411,     0.11512,     0.11612,     0.11712,     0.11812,     0.11912,\n           0.12012,     0.12112,     0.12212,     0.12312,     0.12412,     0.12513,     0.12613,     0.12713,     0.12813,     0.12913,     0.13013,     0.13113,     0.13213,     0.13313,     0.13413,     0.13514,     0.13614,     0.13714,     0.13814,     0.13914,     0.14014,     0.14114,     0.14214,     0.14314,\n           0.14414,     0.14515,     0.14615,     0.14715,     0.14815,     0.14915,     0.15015,     0.15115,     0.15215,     0.15315,     0.15415,     0.15516,     0.15616,     0.15716,     0.15816,     0.15916,     0.16016,     0.16116,     0.16216,     0.16316,     0.16416,     0.16517,     0.16617,     0.16717,\n           0.16817,     0.16917,     0.17017,     0.17117,     0.17217,     0.17317,     0.17417,     0.17518,     0.17618,     0.17718,     0.17818,     0.17918,     0.18018,     0.18118,     0.18218,     0.18318,     0.18418,     0.18519,     0.18619,     0.18719,     0.18819,     0.18919,     0.19019,     0.19119,\n           0.19219,     0.19319,     0.19419,      0.1952,      0.1962,      0.1972,      0.1982,      0.1992,      0.2002,      0.2012,      0.2022,      0.2032,      0.2042,     0.20521,     0.20621,     0.20721,     0.20821,     0.20921,     0.21021,     0.21121,     0.21221,     0.21321,     0.21421,     0.21522,\n           0.21622,     0.21722,     0.21822,     0.21922,     0.22022,     0.22122,     0.22222,     0.22322,     0.22422,     0.22523,     0.22623,     0.22723,     0.22823,     0.22923,     0.23023,     0.23123,     0.23223,     0.23323,     0.23423,     0.23524,     0.23624,     0.23724,     0.23824,     0.23924,\n           0.24024,     0.24124,     0.24224,     0.24324,     0.24424,     0.24525,     0.24625,     0.24725,     0.24825,     0.24925,     0.25025,     0.25125,     0.25225,     0.25325,     0.25425,     0.25526,     0.25626,     0.25726,     0.25826,     0.25926,     0.26026,     0.26126,     0.26226,     0.26326,\n           0.26426,     0.26527,     0.26627,     0.26727,     0.26827,     0.26927,     0.27027,     0.27127,     0.27227,     0.27327,     0.27427,     0.27528,     0.27628,     0.27728,     0.27828,     0.27928,     0.28028,     0.28128,     0.28228,     0.28328,     0.28428,     0.28529,     0.28629,     0.28729,\n           0.28829,     0.28929,     0.29029,     0.29129,     0.29229,     0.29329,     0.29429,      0.2953,      0.2963,      0.2973,      0.2983,      0.2993,      0.3003,      0.3013,      0.3023,      0.3033,      0.3043,     0.30531,     0.30631,     0.30731,     0.30831,     0.30931,     0.31031,     0.31131,\n           0.31231,     0.31331,     0.31431,     0.31532,     0.31632,     0.31732,     0.31832,     0.31932,     0.32032,     0.32132,     0.32232,     0.32332,     0.32432,     0.32533,     0.32633,     0.32733,     0.32833,     0.32933,     0.33033,     0.33133,     0.33233,     0.33333,     0.33433,     0.33534,\n           0.33634,     0.33734,     0.33834,     0.33934,     0.34034,     0.34134,     0.34234,     0.34334,     0.34434,     0.34535,     0.34635,     0.34735,     0.34835,     0.34935,     0.35035,     0.35135,     0.35235,     0.35335,     0.35435,     0.35536,     0.35636,     0.35736,     0.35836,     0.35936,\n           0.36036,     0.36136,     0.36236,     0.36336,     0.36436,     0.36537,     0.36637,     0.36737,     0.36837,     0.36937,     0.37037,     0.37137,     0.37237,     0.37337,     0.37437,     0.37538,     0.37638,     0.37738,     0.37838,     0.37938,     0.38038,     0.38138,     0.38238,     0.38338,\n           0.38438,     0.38539,     0.38639,     0.38739,     0.38839,     0.38939,     0.39039,     0.39139,     0.39239,     0.39339,     0.39439,      0.3954,      0.3964,      0.3974,      0.3984,      0.3994,      0.4004,      0.4014,      0.4024,      0.4034,      0.4044,     0.40541,     0.40641,     0.40741,\n           0.40841,     0.40941,     0.41041,     0.41141,     0.41241,     0.41341,     0.41441,     0.41542,     0.41642,     0.41742,     0.41842,     0.41942,     0.42042,     0.42142,     0.42242,     0.42342,     0.42442,     0.42543,     0.42643,     0.42743,     0.42843,     0.42943,     0.43043,     0.43143,\n           0.43243,     0.43343,     0.43443,     0.43544,     0.43644,     0.43744,     0.43844,     0.43944,     0.44044,     0.44144,     0.44244,     0.44344,     0.44444,     0.44545,     0.44645,     0.44745,     0.44845,     0.44945,     0.45045,     0.45145,     0.45245,     0.45345,     0.45445,     0.45546,\n           0.45646,     0.45746,     0.45846,     0.45946,     0.46046,     0.46146,     0.46246,     0.46346,     0.46446,     0.46547,     0.46647,     0.46747,     0.46847,     0.46947,     0.47047,     0.47147,     0.47247,     0.47347,     0.47447,     0.47548,     0.47648,     0.47748,     0.47848,     0.47948,\n           0.48048,     0.48148,     0.48248,     0.48348,     0.48448,     0.48549,     0.48649,     0.48749,     0.48849,     0.48949,     0.49049,     0.49149,     0.49249,     0.49349,     0.49449,      0.4955,      0.4965,      0.4975,      0.4985,      0.4995,      0.5005,      0.5015,      0.5025,      0.5035,\n            0.5045,     0.50551,     0.50651,     0.50751,     0.50851,     0.50951,     0.51051,     0.51151,     0.51251,     0.51351,     0.51451,     0.51552,     0.51652,     0.51752,     0.51852,     0.51952,     0.52052,     0.52152,     0.52252,     0.52352,     0.52452,     0.52553,     0.52653,     0.52753,\n           0.52853,     0.52953,     0.53053,     0.53153,     0.53253,     0.53353,     0.53453,     0.53554,     0.53654,     0.53754,     0.53854,     0.53954,     0.54054,     0.54154,     0.54254,     0.54354,     0.54454,     0.54555,     0.54655,     0.54755,     0.54855,     0.54955,     0.55055,     0.55155,\n           0.55255,     0.55355,     0.55455,     0.55556,     0.55656,     0.55756,     0.55856,     0.55956,     0.56056,     0.56156,     0.56256,     0.56356,     0.56456,     0.56557,     0.56657,     0.56757,     0.56857,     0.56957,     0.57057,     0.57157,     0.57257,     0.57357,     0.57457,     0.57558,\n           0.57658,     0.57758,     0.57858,     0.57958,     0.58058,     0.58158,     0.58258,     0.58358,     0.58458,     0.58559,     0.58659,     0.58759,     0.58859,     0.58959,     0.59059,     0.59159,     0.59259,     0.59359,     0.59459,      0.5956,      0.5966,      0.5976,      0.5986,      0.5996,\n            0.6006,      0.6016,      0.6026,      0.6036,      0.6046,     0.60561,     0.60661,     0.60761,     0.60861,     0.60961,     0.61061,     0.61161,     0.61261,     0.61361,     0.61461,     0.61562,     0.61662,     0.61762,     0.61862,     0.61962,     0.62062,     0.62162,     0.62262,     0.62362,\n           0.62462,     0.62563,     0.62663,     0.62763,     0.62863,     0.62963,     0.63063,     0.63163,     0.63263,     0.63363,     0.63463,     0.63564,     0.63664,     0.63764,     0.63864,     0.63964,     0.64064,     0.64164,     0.64264,     0.64364,     0.64464,     0.64565,     0.64665,     0.64765,\n           0.64865,     0.64965,     0.65065,     0.65165,     0.65265,     0.65365,     0.65465,     0.65566,     0.65666,     0.65766,     0.65866,     0.65966,     0.66066,     0.66166,     0.66266,     0.66366,     0.66466,     0.66567,     0.66667,     0.66767,     0.66867,     0.66967,     0.67067,     0.67167,\n           0.67267,     0.67367,     0.67467,     0.67568,     0.67668,     0.67768,     0.67868,     0.67968,     0.68068,     0.68168,     0.68268,     0.68368,     0.68468,     0.68569,     0.68669,     0.68769,     0.68869,     0.68969,     0.69069,     0.69169,     0.69269,     0.69369,     0.69469,      0.6957,\n            0.6967,      0.6977,      0.6987,      0.6997,      0.7007,      0.7017,      0.7027,      0.7037,      0.7047,     0.70571,     0.70671,     0.70771,     0.70871,     0.70971,     0.71071,     0.71171,     0.71271,     0.71371,     0.71471,     0.71572,     0.71672,     0.71772,     0.71872,     0.71972,\n           0.72072,     0.72172,     0.72272,     0.72372,     0.72472,     0.72573,     0.72673,     0.72773,     0.72873,     0.72973,     0.73073,     0.73173,     0.73273,     0.73373,     0.73473,     0.73574,     0.73674,     0.73774,     0.73874,     0.73974,     0.74074,     0.74174,     0.74274,     0.74374,\n           0.74474,     0.74575,     0.74675,     0.74775,     0.74875,     0.74975,     0.75075,     0.75175,     0.75275,     0.75375,     0.75475,     0.75576,     0.75676,     0.75776,     0.75876,     0.75976,     0.76076,     0.76176,     0.76276,     0.76376,     0.76476,     0.76577,     0.76677,     0.76777,\n           0.76877,     0.76977,     0.77077,     0.77177,     0.77277,     0.77377,     0.77477,     0.77578,     0.77678,     0.77778,     0.77878,     0.77978,     0.78078,     0.78178,     0.78278,     0.78378,     0.78478,     0.78579,     0.78679,     0.78779,     0.78879,     0.78979,     0.79079,     0.79179,\n           0.79279,     0.79379,     0.79479,      0.7958,      0.7968,      0.7978,      0.7988,      0.7998,      0.8008,      0.8018,      0.8028,      0.8038,      0.8048,     0.80581,     0.80681,     0.80781,     0.80881,     0.80981,     0.81081,     0.81181,     0.81281,     0.81381,     0.81481,     0.81582,\n           0.81682,     0.81782,     0.81882,     0.81982,     0.82082,     0.82182,     0.82282,     0.82382,     0.82482,     0.82583,     0.82683,     0.82783,     0.82883,     0.82983,     0.83083,     0.83183,     0.83283,     0.83383,     0.83483,     0.83584,     0.83684,     0.83784,     0.83884,     0.83984,\n           0.84084,     0.84184,     0.84284,     0.84384,     0.84484,     0.84585,     0.84685,     0.84785,     0.84885,     0.84985,     0.85085,     0.85185,     0.85285,     0.85385,     0.85485,     0.85586,     0.85686,     0.85786,     0.85886,     0.85986,     0.86086,     0.86186,     0.86286,     0.86386,\n           0.86486,     0.86587,     0.86687,     0.86787,     0.86887,     0.86987,     0.87087,     0.87187,     0.87287,     0.87387,     0.87487,     0.87588,     0.87688,     0.87788,     0.87888,     0.87988,     0.88088,     0.88188,     0.88288,     0.88388,     0.88488,     0.88589,     0.88689,     0.88789,\n           0.88889,     0.88989,     0.89089,     0.89189,     0.89289,     0.89389,     0.89489,      0.8959,      0.8969,      0.8979,      0.8989,      0.8999,      0.9009,      0.9019,      0.9029,      0.9039,      0.9049,     0.90591,     0.90691,     0.90791,     0.90891,     0.90991,     0.91091,     0.91191,\n           0.91291,     0.91391,     0.91491,     0.91592,     0.91692,     0.91792,     0.91892,     0.91992,     0.92092,     0.92192,     0.92292,     0.92392,     0.92492,     0.92593,     0.92693,     0.92793,     0.92893,     0.92993,     0.93093,     0.93193,     0.93293,     0.93393,     0.93493,     0.93594,\n           0.93694,     0.93794,     0.93894,     0.93994,     0.94094,     0.94194,     0.94294,     0.94394,     0.94494,     0.94595,     0.94695,     0.94795,     0.94895,     0.94995,     0.95095,     0.95195,     0.95295,     0.95395,     0.95495,     0.95596,     0.95696,     0.95796,     0.95896,     0.95996,\n           0.96096,     0.96196,     0.96296,     0.96396,     0.96496,     0.96597,     0.96697,     0.96797,     0.96897,     0.96997,     0.97097,     0.97197,     0.97297,     0.97397,     0.97497,     0.97598,     0.97698,     0.97798,     0.97898,     0.97998,     0.98098,     0.98198,     0.98298,     0.98398,\n           0.98498,     0.98599,     0.98699,     0.98799,     0.98899,     0.98999,     0.99099,     0.99199,     0.99299,     0.99399,     0.99499,       0.996,       0.997,       0.998,       0.999,           1]), array([[    0.97727,     0.97727,     0.97727,     0.97727,     0.97727,     0.97727,     0.97727,     0.97727,     0.97727,     0.97727,     0.97727,     0.97727,     0.97727,     0.97727,     0.97727,     0.97727,     0.97727,     0.97727,     0.97727,     0.97727,     0.97727,     0.95455,     0.95455,\n            0.95455,     0.95455,     0.95455,     0.95455,     0.95455,     0.95455,     0.95455,     0.95455,     0.95455,     0.95455,     0.95455,     0.95455,     0.95455,     0.95455,     0.95455,     0.95455,     0.95455,     0.95455,     0.95455,     0.95455,     0.95455,     0.95455,     0.95455,\n            0.95455,     0.95455,     0.95455,     0.95455,     0.95455,     0.95455,     0.95455,     0.95455,     0.95455,     0.95455,     0.95455,     0.95455,     0.95455,     0.95455,     0.95455,     0.95455,     0.95455,     0.95455,     0.95455,     0.95455,     0.95455,     0.95455,     0.95455,\n            0.95455,     0.95455,     0.95455,     0.95455,     0.95455,     0.95455,     0.95455,     0.95455,     0.95455,     0.95455,     0.95455,     0.95455,     0.95455,     0.95455,     0.95455,     0.95455,     0.95455,     0.95455,     0.95455,     0.95455,     0.95455,     0.95455,     0.95455,\n            0.95455,     0.95455,     0.95455,     0.95455,     0.95455,     0.95455,     0.95455,     0.95455,     0.95455,     0.95455,     0.95455,     0.95455,     0.95455,     0.95455,     0.95455,     0.95455,     0.95455,     0.95455,     0.95455,     0.95455,     0.95455,     0.95455,     0.95455,\n            0.95455,     0.95455,     0.95455,     0.95455,     0.95455,     0.95455,     0.95455,     0.95455,     0.95455,     0.95455,     0.95455,     0.95455,     0.95455,     0.95455,     0.95455,     0.95455,     0.95455,     0.95455,     0.95455,     0.95455,     0.95455,     0.95455,     0.95455,\n            0.95455,     0.95455,     0.95455,     0.95455,     0.95455,     0.95455,     0.95455,     0.95455,     0.95455,     0.95455,     0.95455,     0.95455,     0.95455,     0.95455,     0.95455,     0.95455,     0.95455,     0.95455,     0.95455,     0.95455,     0.95455,     0.95455,     0.95455,\n            0.95455,     0.95455,     0.95455,     0.95455,     0.95455,     0.95455,     0.95455,     0.95455,     0.95455,     0.95455,     0.95455,     0.95455,     0.95455,     0.95455,     0.95455,     0.95455,     0.95455,     0.95455,     0.95455,     0.95455,     0.95455,     0.95455,     0.95455,\n            0.95455,     0.95455,     0.95455,     0.95455,     0.95455,     0.95455,     0.95455,     0.95455,     0.95455,     0.95455,     0.95455,     0.95455,     0.95455,     0.95455,     0.95455,     0.95455,     0.95455,     0.95455,     0.95455,     0.95455,     0.95455,     0.95455,     0.95455,\n            0.95455,     0.95455,     0.95455,     0.95455,     0.95455,     0.95455,     0.95455,     0.95455,     0.95455,     0.95455,     0.95455,     0.95455,     0.95455,     0.95455,     0.95455,     0.95455,     0.95455,     0.95455,     0.95455,     0.95455,     0.95455,     0.95455,     0.95455,\n            0.95455,     0.95455,     0.95455,     0.95455,     0.95455,     0.95455,     0.95455,     0.95455,     0.95455,     0.95455,     0.95455,     0.95455,     0.95455,     0.95455,     0.95455,     0.95455,     0.95455,     0.95455,     0.95455,     0.95455,     0.95455,     0.95455,     0.95455,\n            0.95455,     0.95455,     0.95455,     0.95455,     0.95455,     0.95455,     0.95455,     0.95455,     0.95455,     0.95455,     0.95455,     0.95455,     0.95455,     0.95455,     0.95455,     0.95455,     0.95455,     0.95455,     0.95455,     0.95455,     0.95455,     0.95455,     0.95455,\n            0.95455,     0.95455,     0.95455,     0.95455,     0.95455,     0.95455,     0.95455,     0.95455,     0.95455,     0.95455,     0.95455,     0.95455,     0.95455,     0.95455,     0.95455,     0.95455,     0.95455,     0.95455,     0.95455,     0.95455,     0.95455,     0.95455,     0.95455,\n            0.95455,     0.95455,     0.95455,     0.95455,     0.95455,     0.95455,     0.95455,     0.95455,     0.95455,     0.95455,     0.95455,     0.95455,     0.95455,     0.95455,     0.95455,     0.95455,     0.95455,     0.95455,     0.95455,     0.95455,     0.95455,     0.95455,     0.95455,\n            0.95455,     0.95455,     0.95455,     0.95455,     0.95455,     0.95455,     0.95455,     0.95455,     0.95455,     0.95455,     0.95455,     0.95455,     0.95455,     0.95455,     0.95455,     0.95455,     0.95455,     0.95455,     0.95455,     0.95455,     0.95455,     0.95455,     0.95455,\n            0.95455,     0.95455,     0.95455,     0.95455,     0.95455,     0.95455,     0.95455,     0.95455,     0.95455,     0.95455,     0.95455,     0.95455,     0.95455,     0.95455,     0.95455,     0.95455,     0.95455,     0.95455,     0.95455,     0.95455,     0.95455,     0.95455,     0.95455,\n            0.95455,     0.95455,     0.95455,     0.95455,     0.95455,     0.95455,     0.95455,     0.95455,     0.95455,     0.95455,     0.95455,     0.95455,     0.95455,     0.95455,     0.95455,     0.95455,     0.95455,     0.95455,     0.95455,     0.95455,     0.95455,     0.95455,     0.95455,\n            0.95455,     0.95455,     0.95455,     0.95455,     0.95455,     0.95455,     0.95455,     0.95455,     0.95455,     0.95455,     0.95455,     0.95455,     0.95455,     0.95455,     0.95455,     0.95455,     0.95455,     0.95455,     0.95455,     0.95455,     0.95455,     0.95455,     0.95455,\n            0.95455,     0.95455,     0.95455,     0.95455,     0.95455,     0.95455,     0.95455,     0.95455,     0.95455,     0.95455,     0.95455,     0.95455,     0.95455,     0.95455,     0.95455,     0.95455,     0.95455,     0.95455,     0.95455,     0.95455,     0.95455,     0.95455,     0.95455,\n            0.95455,     0.95455,     0.95455,     0.95455,     0.95455,     0.95455,     0.95455,     0.95455,     0.95455,     0.95455,     0.95455,     0.95455,     0.95455,     0.95455,     0.95455,     0.95455,     0.95455,     0.95455,     0.95376,     0.95148,      0.9492,     0.94692,     0.94464,\n            0.94236,     0.94008,      0.9378,     0.93552,     0.93324,     0.93149,     0.93062,     0.92975,     0.92888,     0.92801,     0.92714,     0.92627,      0.9254,     0.92453,     0.92366,     0.92279,     0.92192,     0.92105,     0.92018,     0.91931,     0.91844,     0.91757,     0.91669,\n            0.91582,     0.91495,     0.91408,     0.91321,     0.91234,     0.91147,      0.9106,     0.90973,     0.90892,     0.90825,     0.90759,     0.90693,     0.90627,      0.9056,     0.90494,     0.90428,     0.90362,     0.90295,     0.90229,     0.90163,     0.90097,      0.9003,     0.89964,\n            0.89898,     0.89832,     0.89766,     0.89699,     0.89633,     0.89567,     0.89501,     0.89434,     0.89368,     0.89302,     0.89236,     0.89169,     0.89103,     0.89037,     0.88971,     0.88904,     0.88838,     0.88772,     0.88706,     0.88639,     0.88516,      0.8839,     0.88263,\n            0.88137,     0.88011,     0.87884,     0.87758,     0.87632,     0.87506,     0.87379,     0.87253,     0.87127,        0.87,     0.86874,     0.86748,     0.86622,     0.86495,     0.86369,     0.86364,     0.86364,     0.86364,     0.86364,     0.86364,     0.86364,     0.86364,     0.86364,\n            0.86364,     0.86364,     0.86364,     0.86364,     0.86364,     0.86364,     0.86364,     0.86364,     0.86364,     0.86364,     0.86364,     0.86364,     0.86364,     0.86364,     0.86364,     0.86364,     0.86364,     0.86364,     0.86364,     0.86364,     0.86364,     0.86364,     0.86364,\n            0.86364,     0.86364,     0.86364,     0.86364,     0.86364,     0.86364,     0.86364,     0.86364,     0.86364,     0.86364,     0.86364,     0.86364,     0.86364,     0.86364,     0.86364,     0.86364,     0.86359,     0.86186,     0.86014,     0.85841,     0.85668,     0.85496,     0.85323,\n            0.85151,     0.84978,     0.84806,     0.84633,      0.8446,     0.84288,     0.84115,     0.84016,      0.8393,     0.83843,     0.83756,     0.83669,     0.83583,     0.83496,     0.83409,     0.83322,     0.83236,     0.83149,     0.83062,     0.82975,     0.82889,     0.82802,     0.82715,\n            0.82629,     0.82542,     0.82455,     0.82368,     0.82282,     0.82195,     0.82108,     0.82021,     0.81935,     0.81848,     0.81737,     0.81614,     0.81492,     0.81369,     0.81246,     0.81123,        0.81,     0.80877,     0.80755,     0.80632,     0.80509,     0.80386,     0.80263,\n             0.8014,     0.80018,     0.79895,     0.79772,     0.79649,     0.79534,     0.79459,     0.79385,      0.7931,     0.79236,     0.79161,     0.79087,     0.79012,     0.78938,     0.78863,     0.78789,     0.78714,      0.7864,     0.78565,     0.78491,     0.78416,     0.78342,     0.78267,\n            0.78193,     0.78118,     0.78044,     0.77969,     0.77895,      0.7782,     0.77745,     0.77671,     0.77596,     0.77522,     0.77447,     0.77373,     0.77298,     0.77075,     0.76772,      0.7647,     0.76167,     0.75865,     0.75562,      0.7526,     0.74965,     0.74718,     0.74471,\n            0.74223,     0.73976,     0.73729,     0.73481,     0.73234,     0.72987,      0.7274,     0.72582,     0.72429,     0.72276,     0.72123,     0.71969,     0.71816,     0.71663,      0.7151,     0.71357,     0.71204,     0.71051,     0.70898,     0.70745,     0.70592,     0.70424,     0.70132,\n             0.6984,     0.69549,     0.69257,     0.68965,     0.68673,     0.68382,     0.68143,     0.68022,       0.679,     0.67778,     0.67656,     0.67535,     0.67413,     0.67291,     0.67169,     0.67048,     0.66926,     0.66804,     0.66682,     0.66561,     0.66439,     0.66317,     0.66195,\n            0.66074,     0.65952,     0.65698,     0.65374,     0.65049,     0.64725,     0.64401,     0.64076,     0.63752,     0.63355,     0.62918,     0.62482,     0.62045,     0.61609,     0.61364,     0.61309,     0.61121,     0.60933,     0.60745,     0.60557,     0.60369,     0.60181,     0.59993,\n            0.59805,     0.59617,     0.59429,     0.59242,     0.59025,     0.58695,     0.58365,     0.58034,     0.57704,     0.57373,     0.57043,     0.56818,     0.56818,     0.56818,     0.56818,     0.56818,     0.56818,     0.56818,     0.56818,     0.56818,     0.56818,     0.56818,     0.56818,\n            0.56818,     0.56654,     0.56159,     0.55665,      0.5517,     0.54676,     0.54144,     0.53598,     0.53053,     0.52508,      0.5188,     0.51189,     0.50498,     0.49817,     0.49162,     0.48508,     0.47853,     0.42732,     0.42079,     0.41426,     0.40852,     0.40578,     0.40304,\n            0.40029,     0.39755,     0.39481,     0.39207,     0.38933,     0.38658,     0.38501,     0.38353,     0.38206,     0.38059,     0.37911,     0.37764,     0.37616,     0.37469,     0.37322,     0.37174,     0.37027,     0.36879,     0.36732,     0.36585,     0.36437,      0.3373,     0.33011,\n            0.32291,     0.31526,     0.30674,     0.29822,     0.29389,     0.29157,     0.28924,     0.28692,      0.2846,     0.28228,     0.27996,     0.27764,     0.27532,       0.273,     0.26888,     0.26453,     0.26018,     0.25582,     0.25147,     0.24508,     0.23763,     0.23019,     0.22584,\n            0.22347,     0.22111,     0.21875,     0.21639,     0.21403,     0.21166,      0.2093,     0.20694,     0.20458,     0.20086,     0.19712,     0.19338,     0.18964,      0.1859,     0.18216,     0.17639,     0.17041,     0.16443,     0.15122,     0.13239,     0.12741,     0.12244,     0.11747,\n            0.10846,    0.089084,     0.08078,    0.072475,    0.067473,    0.066005,    0.064536,    0.063068,      0.0616,    0.060132,    0.058663,    0.057195,    0.055727,    0.054259,    0.052791,    0.051322,    0.049854,    0.048386,    0.046918,    0.045417,    0.034277,    0.023138,           0,\n                  0,           0,           0,           0,           0,           0,           0,           0,           0,           0,           0,           0,           0,           0,           0,           0,           0,           0,           0,           0,           0,           0,           0,\n                  0,           0,           0,           0,           0,           0,           0,           0,           0,           0,           0,           0,           0,           0,           0,           0,           0,           0,           0,           0,           0,           0,           0,\n                  0,           0,           0,           0,           0,           0,           0,           0,           0,           0,           0,           0,           0,           0,           0,           0,           0,           0,           0,           0,           0,           0,           0,\n                  0,           0,           0,           0,           0,           0,           0,           0,           0,           0,           0,           0,           0,           0,           0,           0,           0,           0,           0,           0,           0,           0,           0,\n                  0,           0,           0,           0,           0,           0,           0,           0,           0,           0,           0]]), 'Confidence', 'Recall']]\nfitness: 0.5882374904886225\nkeys: ['metrics/precision(B)', 'metrics/recall(B)', 'metrics/mAP50(B)', 'metrics/mAP50-95(B)']\nmaps: array([    0.54901])\nnames: {0: 'license_plate'}\nplot: True\nresults_dict: {'metrics/precision(B)': 0.885595715362224, 'metrics/recall(B)': 0.9545454545454546, 'metrics/mAP50(B)': 0.9412674951848432, 'metrics/mAP50-95(B)': 0.5490119344112647, 'fitness': 0.5882374904886225}\nsave_dir: WindowsPath('runs/detect/train3')\nspeed: {'preprocess': 0.5916248668323864, 'inference': 125.31697750091553, 'loss': 0.0, 'postprocess': 0.20450353622436523}\ntask: 'detect'"
     },
     "execution_count": 54,
     "metadata": {},
     "output_type": "execute_result"
    }
   ],
   "source": [
    "model.train(\n",
    "    data='datasets.yaml',  # Path to the dataset configuration file\n",
    "    epochs=100,            # Number of training epochs\n",
    "    batch=16,              # Batch size\n",
    "    imgsz=320,             # Image size (width and height) for training\n",
    "    cache=True             # Cache images for faster training\n",
    ")"
   ],
   "metadata": {
    "collapsed": false,
    "ExecuteTime": {
     "end_time": "2024-06-30T15:50:47.777511500Z",
     "start_time": "2024-06-30T11:22:51.973648400Z"
    }
   },
   "id": "b3dcce980f1bfaf0",
   "execution_count": 54
  },
  {
   "cell_type": "code",
   "outputs": [
    {
     "data": {
      "text/plain": "<Figure size 1000x500 with 1 Axes>",
      "image/png": "[encoded data removed]"
     },
     "metadata": {},
     "output_type": "display_data"
    }
   ],
   "source": [
    "import os\n",
    "import pandas as pd\n",
    "import matplotlib.pyplot as plt\n",
    "from glob import glob\n",
    "\n",
    "\n",
    "log_dir = max(glob('runs/detect/train*'), key=the_number_in_the_string)\n",
    "\n",
    "results = pd.read_csv(os.path.join(log_dir, 'results.csv'))\n",
    "results.columns = results.columns.str.strip()  # Remove any leading/trailing whitespace from column names\n",
    "\n",
    "epochs = results.index + 1\n",
    "mAP_0_5 = results['metrics/mAP50(B)']\n",
    "mAP_0_5_0_95 = results['metrics/mAP50-95(B)']  # Mean Average Precision at IoU=0.5:0.95\n",
    "\n",
    "plt.figure(figsize=(10, 5))\n",
    "plt.plot(epochs, mAP_0_5, label='mAP@0.5')\n",
    "plt.plot(epochs, mAP_0_5_0_95, label='mAP@0.5:0.95')\n",
    "plt.xlabel('Epoch')\n",
    "plt.ylabel('Accuracy')\n",
    "plt.title('Accuracy Over Epochs')\n",
    "plt.legend()\n",
    "plt.grid(True)\n",
    "plt.show()"
   ],
   "metadata": {
    "collapsed": false,
    "ExecuteTime": {
     "end_time": "2024-06-30T20:49:53.369321100Z",
     "start_time": "2024-06-30T20:49:53.240190200Z"
    }
   },
   "id": "d4db314db498eba1",
   "execution_count": 24
  },
  {
   "cell_type": "code",
   "outputs": [
    {
     "ename": "NameError",
     "evalue": "name 'model' is not defined",
     "output_type": "error",
     "traceback": [
      "\u001B[1;31m---------------------------------------------------------------------------\u001B[0m",
      "\u001B[1;31mNameError\u001B[0m                                 Traceback (most recent call last)",
      "Cell \u001B[1;32mIn[8], line 1\u001B[0m\n\u001B[1;32m----> 1\u001B[0m \u001B[43mmodel\u001B[49m\u001B[38;5;241m.\u001B[39msave(\u001B[38;5;124m'\u001B[39m\u001B[38;5;124mbest_license_plate_model.pt\u001B[39m\u001B[38;5;124m'\u001B[39m)\n",
      "\u001B[1;31mNameError\u001B[0m: name 'model' is not defined"
     ]
    }
   ],
   "source": [
    "model.save('best_license_plate_model.pt')"
   ],
   "metadata": {
    "collapsed": false,
    "ExecuteTime": {
     "end_time": "2024-06-30T20:45:59.212785800Z",
     "start_time": "2024-06-30T20:45:59.167885400Z"
    }
   },
   "id": "519de59655a2eeb8",
   "execution_count": 8
  },
  {
   "cell_type": "code",
   "outputs": [],
   "source": [
    "import cv2\n",
    "import matplotlib.pyplot as plt\n",
    "from ultralytics import YOLO\n",
    "\n",
    "\n",
    "def predict_and_plot(path_test_car):\n",
    "    results = model.predict(path_test_car, device='cpu')\n",
    "\n",
    "    image = cv2.imread(path_test_car)\n",
    "    image = cv2.cvtColor(image, cv2.COLOR_BGR2RGB)\n",
    "\n",
    "    for result in results:\n",
    "        for box in result.boxes:\n",
    "            x1, y1, x2, y2 = map(int, box.xyxy[0])\n",
    "            confidence = box.conf[0]\n",
    "\n",
    "            cv2.rectangle(image, (x1, y1), (x2, y2), (0, 255, 0), 2)\n",
    "            cv2.putText(image, f'{confidence*100:.2f}%', (x1, y1 - 10), \n",
    "                        cv2.FONT_HERSHEY_SIMPLEX, 0.9, (255, 0, 0), 2)\n",
    "\n",
    "    plt.imshow(image)\n",
    "    plt.axis('off')\n",
    "    plt.show()"
   ],
   "metadata": {
    "collapsed": false,
    "ExecuteTime": {
     "end_time": "2024-06-30T20:49:58.731764500Z",
     "start_time": "2024-06-30T20:49:58.717513300Z"
    }
   },
   "id": "e121bbece738bf51",
   "execution_count": 25
  },
  {
   "cell_type": "code",
   "outputs": [
    {
     "name": "stdout",
     "output_type": "stream",
     "text": [
      "image 1/1 C:\\Users\\nikod\\PycharmProjects\\carPlateDetector\\datasets\\cars_license_plate_new\\test\\images\\Cars323.png: 384x640 1 car, 346.1ms\n",
      "Speed: 2.0ms preprocess, 346.1ms inference, 1.0ms postprocess per image at shape (1, 3, 384, 640)\n",
      "Detected text: N . A\n",
      "—\n",
      "w TNSSF 2378 &\n",
      "———=\n",
      "SS eee\n"
     ]
    },
    {
     "data": {
      "text/plain": "<Figure size 640x480 with 1 Axes>",
      "image/png": "[encoded data removed]"
     },
     "metadata": {},
     "output_type": "display_data"
    }
   ],
   "source": [
    "predict_and_plot('datasets/cars_license_plate_new/test/images/Cars323.png')"
   ],
   "metadata": {
    "collapsed": false,
    "ExecuteTime": {
     "end_time": "2024-06-30T20:54:21.208672600Z",
     "start_time": "2024-06-30T20:54:20.413083700Z"
    }
   },
   "id": "405eaf3477e3fd9e",
   "execution_count": 52
  },
  {
   "cell_type": "code",
   "outputs": [],
   "source": [
    "import cv2\n",
    "import matplotlib.pyplot as plt\n",
    "from ultralytics import YOLO\n",
    "import pytesseract\n",
    "from pytesseract import Output\n",
    "\n",
    "\n",
    "def predict_and_plot(path_test_car):\n",
    "\n",
    "    results = model.predict(path_test_car, device='cpu')\n",
    "\n",
    "    image = cv2.imread(path_test_car)\n",
    "    image = cv2.cvtColor(image, cv2.COLOR_BGR2RGB)\n",
    "    gray_image = cv2.cvtColor(image, cv2.COLOR_BGR2GRAY)\n",
    "\n",
    "    for result in results:\n",
    "        for box in result.boxes:\n",
    "            x1, y1, x2, y2 = map(int, box.xyxy[0])\n",
    "            confidence = box.conf[0]\n",
    "\n",
    "            cv2.rectangle(image, (x1, y1), (x2, y2), (0, 255, 0), 2)\n",
    "            cv2.putText(image, f'{confidence*100:.2f}%', (x1, y1 - 10), \n",
    "                        cv2.FONT_HERSHEY_SIMPLEX, 0.5, (255, 0, 0), 2)\n",
    "\n",
    "            roi = gray_image[y1:y2, x1:x2]\n",
    "\n",
    "            text = pytesseract.image_to_string(roi,lang='eng', config = r'--oem 3 --psm 6')\n",
    "            cv2.putText(image, f'{text}', (x1, y1 + y2), \n",
    "                        cv2.FONT_HERSHEY_SIMPLEX, 0.5, (255, 123, 0), 2)\n",
    "            print(f\"Detected text: {text}\")\n",
    "\n",
    "    plt.imshow(image)\n",
    "    plt.axis('off')\n",
    "    plt.show()"
   ],
   "metadata": {
    "collapsed": false,
    "ExecuteTime": {
     "end_time": "2024-06-30T20:51:49.443938500Z",
     "start_time": "2024-06-30T20:51:49.433615100Z"
    }
   },
   "id": "5ce5731005f56263",
   "execution_count": 37
  },
  {
   "cell_type": "code",
   "outputs": [
    {
     "name": "stdout",
     "output_type": "stream",
     "text": []
    },
    {
     "ename": "FileNotFoundError",
     "evalue": "datasets/cars_license_plate_new/test/images/Cars329.png does not exist",
     "output_type": "error",
     "traceback": [
      "\u001B[1;31m---------------------------------------------------------------------------\u001B[0m",
      "\u001B[1;31mFileNotFoundError\u001B[0m                         Traceback (most recent call last)",
      "Cell \u001B[1;32mIn[50], line 1\u001B[0m\n\u001B[1;32m----> 1\u001B[0m \u001B[43mpredict_and_plot\u001B[49m\u001B[43m(\u001B[49m\u001B[38;5;124;43m'\u001B[39;49m\u001B[38;5;124;43mdatasets/cars_license_plate_new/test/images/Cars329.png\u001B[39;49m\u001B[38;5;124;43m'\u001B[39;49m\u001B[43m)\u001B[49m\n",
      "Cell \u001B[1;32mIn[37], line 10\u001B[0m, in \u001B[0;36mpredict_and_plot\u001B[1;34m(path_test_car)\u001B[0m\n\u001B[0;32m      8\u001B[0m \u001B[38;5;28;01mdef\u001B[39;00m \u001B[38;5;21mpredict_and_plot\u001B[39m(path_test_car):\n\u001B[1;32m---> 10\u001B[0m     results \u001B[38;5;241m=\u001B[39m \u001B[43mmodel\u001B[49m\u001B[38;5;241;43m.\u001B[39;49m\u001B[43mpredict\u001B[49m\u001B[43m(\u001B[49m\u001B[43mpath_test_car\u001B[49m\u001B[43m,\u001B[49m\u001B[43m \u001B[49m\u001B[43mdevice\u001B[49m\u001B[38;5;241;43m=\u001B[39;49m\u001B[38;5;124;43m'\u001B[39;49m\u001B[38;5;124;43mcpu\u001B[39;49m\u001B[38;5;124;43m'\u001B[39;49m\u001B[43m)\u001B[49m\n\u001B[0;32m     12\u001B[0m     image \u001B[38;5;241m=\u001B[39m cv2\u001B[38;5;241m.\u001B[39mimread(path_test_car)\n\u001B[0;32m     13\u001B[0m     image \u001B[38;5;241m=\u001B[39m cv2\u001B[38;5;241m.\u001B[39mcvtColor(image, cv2\u001B[38;5;241m.\u001B[39mCOLOR_BGR2RGB)\n",
      "File \u001B[1;32m~\\AppData\\Local\\pypoetry\\Cache\\virtualenvs\\platedetector-wry3MBKo-py3.12\\Lib\\site-packages\\ultralytics\\engine\\model.py:442\u001B[0m, in \u001B[0;36mModel.predict\u001B[1;34m(self, source, stream, predictor, **kwargs)\u001B[0m\n\u001B[0;32m    440\u001B[0m \u001B[38;5;28;01mif\u001B[39;00m prompts \u001B[38;5;129;01mand\u001B[39;00m \u001B[38;5;28mhasattr\u001B[39m(\u001B[38;5;28mself\u001B[39m\u001B[38;5;241m.\u001B[39mpredictor, \u001B[38;5;124m\"\u001B[39m\u001B[38;5;124mset_prompts\u001B[39m\u001B[38;5;124m\"\u001B[39m):  \u001B[38;5;66;03m# for SAM-type models\u001B[39;00m\n\u001B[0;32m    441\u001B[0m     \u001B[38;5;28mself\u001B[39m\u001B[38;5;241m.\u001B[39mpredictor\u001B[38;5;241m.\u001B[39mset_prompts(prompts)\n\u001B[1;32m--> 442\u001B[0m \u001B[38;5;28;01mreturn\u001B[39;00m \u001B[38;5;28mself\u001B[39m\u001B[38;5;241m.\u001B[39mpredictor\u001B[38;5;241m.\u001B[39mpredict_cli(source\u001B[38;5;241m=\u001B[39msource) \u001B[38;5;28;01mif\u001B[39;00m is_cli \u001B[38;5;28;01melse\u001B[39;00m \u001B[38;5;28;43mself\u001B[39;49m\u001B[38;5;241;43m.\u001B[39;49m\u001B[43mpredictor\u001B[49m\u001B[43m(\u001B[49m\u001B[43msource\u001B[49m\u001B[38;5;241;43m=\u001B[39;49m\u001B[43msource\u001B[49m\u001B[43m,\u001B[49m\u001B[43m \u001B[49m\u001B[43mstream\u001B[49m\u001B[38;5;241;43m=\u001B[39;49m\u001B[43mstream\u001B[49m\u001B[43m)\u001B[49m\n",
      "File \u001B[1;32m~\\AppData\\Local\\pypoetry\\Cache\\virtualenvs\\platedetector-wry3MBKo-py3.12\\Lib\\site-packages\\ultralytics\\engine\\predictor.py:168\u001B[0m, in \u001B[0;36mBasePredictor.__call__\u001B[1;34m(self, source, model, stream, *args, **kwargs)\u001B[0m\n\u001B[0;32m    166\u001B[0m     \u001B[38;5;28;01mreturn\u001B[39;00m \u001B[38;5;28mself\u001B[39m\u001B[38;5;241m.\u001B[39mstream_inference(source, model, \u001B[38;5;241m*\u001B[39margs, \u001B[38;5;241m*\u001B[39m\u001B[38;5;241m*\u001B[39mkwargs)\n\u001B[0;32m    167\u001B[0m \u001B[38;5;28;01melse\u001B[39;00m:\n\u001B[1;32m--> 168\u001B[0m     \u001B[38;5;28;01mreturn\u001B[39;00m \u001B[38;5;28;43mlist\u001B[39;49m\u001B[43m(\u001B[49m\u001B[38;5;28;43mself\u001B[39;49m\u001B[38;5;241;43m.\u001B[39;49m\u001B[43mstream_inference\u001B[49m\u001B[43m(\u001B[49m\u001B[43msource\u001B[49m\u001B[43m,\u001B[49m\u001B[43m \u001B[49m\u001B[43mmodel\u001B[49m\u001B[43m,\u001B[49m\u001B[43m \u001B[49m\u001B[38;5;241;43m*\u001B[39;49m\u001B[43margs\u001B[49m\u001B[43m,\u001B[49m\u001B[43m \u001B[49m\u001B[38;5;241;43m*\u001B[39;49m\u001B[38;5;241;43m*\u001B[39;49m\u001B[43mkwargs\u001B[49m\u001B[43m)\u001B[49m\u001B[43m)\u001B[49m\n",
      "File \u001B[1;32m~\\AppData\\Local\\pypoetry\\Cache\\virtualenvs\\platedetector-wry3MBKo-py3.12\\Lib\\site-packages\\torch\\utils\\_contextlib.py:35\u001B[0m, in \u001B[0;36m_wrap_generator.<locals>.generator_context\u001B[1;34m(*args, **kwargs)\u001B[0m\n\u001B[0;32m     32\u001B[0m \u001B[38;5;28;01mtry\u001B[39;00m:\n\u001B[0;32m     33\u001B[0m     \u001B[38;5;66;03m# Issuing `None` to a generator fires it up\u001B[39;00m\n\u001B[0;32m     34\u001B[0m     \u001B[38;5;28;01mwith\u001B[39;00m ctx_factory():\n\u001B[1;32m---> 35\u001B[0m         response \u001B[38;5;241m=\u001B[39m \u001B[43mgen\u001B[49m\u001B[38;5;241;43m.\u001B[39;49m\u001B[43msend\u001B[49m\u001B[43m(\u001B[49m\u001B[38;5;28;43;01mNone\u001B[39;49;00m\u001B[43m)\u001B[49m\n\u001B[0;32m     37\u001B[0m     \u001B[38;5;28;01mwhile\u001B[39;00m \u001B[38;5;28;01mTrue\u001B[39;00m:\n\u001B[0;32m     38\u001B[0m         \u001B[38;5;28;01mtry\u001B[39;00m:\n\u001B[0;32m     39\u001B[0m             \u001B[38;5;66;03m# Forward the response to our caller and get its next request\u001B[39;00m\n",
      "File \u001B[1;32m~\\AppData\\Local\\pypoetry\\Cache\\virtualenvs\\platedetector-wry3MBKo-py3.12\\Lib\\site-packages\\ultralytics\\engine\\predictor.py:226\u001B[0m, in \u001B[0;36mBasePredictor.stream_inference\u001B[1;34m(self, source, model, *args, **kwargs)\u001B[0m\n\u001B[0;32m    222\u001B[0m     \u001B[38;5;28mself\u001B[39m\u001B[38;5;241m.\u001B[39msetup_model(model)\n\u001B[0;32m    224\u001B[0m \u001B[38;5;28;01mwith\u001B[39;00m \u001B[38;5;28mself\u001B[39m\u001B[38;5;241m.\u001B[39m_lock:  \u001B[38;5;66;03m# for thread-safe inference\u001B[39;00m\n\u001B[0;32m    225\u001B[0m     \u001B[38;5;66;03m# Setup source every time predict is called\u001B[39;00m\n\u001B[1;32m--> 226\u001B[0m     \u001B[38;5;28;43mself\u001B[39;49m\u001B[38;5;241;43m.\u001B[39;49m\u001B[43msetup_source\u001B[49m\u001B[43m(\u001B[49m\u001B[43msource\u001B[49m\u001B[43m \u001B[49m\u001B[38;5;28;43;01mif\u001B[39;49;00m\u001B[43m \u001B[49m\u001B[43msource\u001B[49m\u001B[43m \u001B[49m\u001B[38;5;129;43;01mis\u001B[39;49;00m\u001B[43m \u001B[49m\u001B[38;5;129;43;01mnot\u001B[39;49;00m\u001B[43m \u001B[49m\u001B[38;5;28;43;01mNone\u001B[39;49;00m\u001B[43m \u001B[49m\u001B[38;5;28;43;01melse\u001B[39;49;00m\u001B[43m \u001B[49m\u001B[38;5;28;43mself\u001B[39;49m\u001B[38;5;241;43m.\u001B[39;49m\u001B[43margs\u001B[49m\u001B[38;5;241;43m.\u001B[39;49m\u001B[43msource\u001B[49m\u001B[43m)\u001B[49m\n\u001B[0;32m    228\u001B[0m     \u001B[38;5;66;03m# Check if save_dir/ label file exists\u001B[39;00m\n\u001B[0;32m    229\u001B[0m     \u001B[38;5;28;01mif\u001B[39;00m \u001B[38;5;28mself\u001B[39m\u001B[38;5;241m.\u001B[39margs\u001B[38;5;241m.\u001B[39msave \u001B[38;5;129;01mor\u001B[39;00m \u001B[38;5;28mself\u001B[39m\u001B[38;5;241m.\u001B[39margs\u001B[38;5;241m.\u001B[39msave_txt:\n",
      "File \u001B[1;32m~\\AppData\\Local\\pypoetry\\Cache\\virtualenvs\\platedetector-wry3MBKo-py3.12\\Lib\\site-packages\\ultralytics\\engine\\predictor.py:198\u001B[0m, in \u001B[0;36mBasePredictor.setup_source\u001B[1;34m(self, source)\u001B[0m\n\u001B[0;32m    188\u001B[0m \u001B[38;5;28mself\u001B[39m\u001B[38;5;241m.\u001B[39mimgsz \u001B[38;5;241m=\u001B[39m check_imgsz(\u001B[38;5;28mself\u001B[39m\u001B[38;5;241m.\u001B[39margs\u001B[38;5;241m.\u001B[39mimgsz, stride\u001B[38;5;241m=\u001B[39m\u001B[38;5;28mself\u001B[39m\u001B[38;5;241m.\u001B[39mmodel\u001B[38;5;241m.\u001B[39mstride, min_dim\u001B[38;5;241m=\u001B[39m\u001B[38;5;241m2\u001B[39m)  \u001B[38;5;66;03m# check image size\u001B[39;00m\n\u001B[0;32m    189\u001B[0m \u001B[38;5;28mself\u001B[39m\u001B[38;5;241m.\u001B[39mtransforms \u001B[38;5;241m=\u001B[39m (\n\u001B[0;32m    190\u001B[0m     \u001B[38;5;28mgetattr\u001B[39m(\n\u001B[0;32m    191\u001B[0m         \u001B[38;5;28mself\u001B[39m\u001B[38;5;241m.\u001B[39mmodel\u001B[38;5;241m.\u001B[39mmodel,\n\u001B[1;32m   (...)\u001B[0m\n\u001B[0;32m    196\u001B[0m     \u001B[38;5;28;01melse\u001B[39;00m \u001B[38;5;28;01mNone\u001B[39;00m\n\u001B[0;32m    197\u001B[0m )\n\u001B[1;32m--> 198\u001B[0m \u001B[38;5;28mself\u001B[39m\u001B[38;5;241m.\u001B[39mdataset \u001B[38;5;241m=\u001B[39m \u001B[43mload_inference_source\u001B[49m\u001B[43m(\u001B[49m\n\u001B[0;32m    199\u001B[0m \u001B[43m    \u001B[49m\u001B[43msource\u001B[49m\u001B[38;5;241;43m=\u001B[39;49m\u001B[43msource\u001B[49m\u001B[43m,\u001B[49m\n\u001B[0;32m    200\u001B[0m \u001B[43m    \u001B[49m\u001B[43mbatch\u001B[49m\u001B[38;5;241;43m=\u001B[39;49m\u001B[38;5;28;43mself\u001B[39;49m\u001B[38;5;241;43m.\u001B[39;49m\u001B[43margs\u001B[49m\u001B[38;5;241;43m.\u001B[39;49m\u001B[43mbatch\u001B[49m\u001B[43m,\u001B[49m\n\u001B[0;32m    201\u001B[0m \u001B[43m    \u001B[49m\u001B[43mvid_stride\u001B[49m\u001B[38;5;241;43m=\u001B[39;49m\u001B[38;5;28;43mself\u001B[39;49m\u001B[38;5;241;43m.\u001B[39;49m\u001B[43margs\u001B[49m\u001B[38;5;241;43m.\u001B[39;49m\u001B[43mvid_stride\u001B[49m\u001B[43m,\u001B[49m\n\u001B[0;32m    202\u001B[0m \u001B[43m    \u001B[49m\u001B[43mbuffer\u001B[49m\u001B[38;5;241;43m=\u001B[39;49m\u001B[38;5;28;43mself\u001B[39;49m\u001B[38;5;241;43m.\u001B[39;49m\u001B[43margs\u001B[49m\u001B[38;5;241;43m.\u001B[39;49m\u001B[43mstream_buffer\u001B[49m\u001B[43m,\u001B[49m\n\u001B[0;32m    203\u001B[0m \u001B[43m\u001B[49m\u001B[43m)\u001B[49m\n\u001B[0;32m    204\u001B[0m \u001B[38;5;28mself\u001B[39m\u001B[38;5;241m.\u001B[39msource_type \u001B[38;5;241m=\u001B[39m \u001B[38;5;28mself\u001B[39m\u001B[38;5;241m.\u001B[39mdataset\u001B[38;5;241m.\u001B[39msource_type\n\u001B[0;32m    205\u001B[0m \u001B[38;5;28;01mif\u001B[39;00m \u001B[38;5;129;01mnot\u001B[39;00m \u001B[38;5;28mgetattr\u001B[39m(\u001B[38;5;28mself\u001B[39m, \u001B[38;5;124m\"\u001B[39m\u001B[38;5;124mstream\u001B[39m\u001B[38;5;124m\"\u001B[39m, \u001B[38;5;28;01mTrue\u001B[39;00m) \u001B[38;5;129;01mand\u001B[39;00m (\n\u001B[0;32m    206\u001B[0m     \u001B[38;5;28mself\u001B[39m\u001B[38;5;241m.\u001B[39msource_type\u001B[38;5;241m.\u001B[39mstream\n\u001B[0;32m    207\u001B[0m     \u001B[38;5;129;01mor\u001B[39;00m \u001B[38;5;28mself\u001B[39m\u001B[38;5;241m.\u001B[39msource_type\u001B[38;5;241m.\u001B[39mscreenshot\n\u001B[0;32m    208\u001B[0m     \u001B[38;5;129;01mor\u001B[39;00m \u001B[38;5;28mlen\u001B[39m(\u001B[38;5;28mself\u001B[39m\u001B[38;5;241m.\u001B[39mdataset) \u001B[38;5;241m>\u001B[39m \u001B[38;5;241m1000\u001B[39m  \u001B[38;5;66;03m# many images\u001B[39;00m\n\u001B[0;32m    209\u001B[0m     \u001B[38;5;129;01mor\u001B[39;00m \u001B[38;5;28many\u001B[39m(\u001B[38;5;28mgetattr\u001B[39m(\u001B[38;5;28mself\u001B[39m\u001B[38;5;241m.\u001B[39mdataset, \u001B[38;5;124m\"\u001B[39m\u001B[38;5;124mvideo_flag\u001B[39m\u001B[38;5;124m\"\u001B[39m, [\u001B[38;5;28;01mFalse\u001B[39;00m]))\n\u001B[0;32m    210\u001B[0m ):  \u001B[38;5;66;03m# videos\u001B[39;00m\n",
      "File \u001B[1;32m~\\AppData\\Local\\pypoetry\\Cache\\virtualenvs\\platedetector-wry3MBKo-py3.12\\Lib\\site-packages\\ultralytics\\data\\build.py:202\u001B[0m, in \u001B[0;36mload_inference_source\u001B[1;34m(source, batch, vid_stride, buffer)\u001B[0m\n\u001B[0;32m    200\u001B[0m     dataset \u001B[38;5;241m=\u001B[39m LoadPilAndNumpy(source)\n\u001B[0;32m    201\u001B[0m \u001B[38;5;28;01melse\u001B[39;00m:\n\u001B[1;32m--> 202\u001B[0m     dataset \u001B[38;5;241m=\u001B[39m \u001B[43mLoadImagesAndVideos\u001B[49m\u001B[43m(\u001B[49m\u001B[43msource\u001B[49m\u001B[43m,\u001B[49m\u001B[43m \u001B[49m\u001B[43mbatch\u001B[49m\u001B[38;5;241;43m=\u001B[39;49m\u001B[43mbatch\u001B[49m\u001B[43m,\u001B[49m\u001B[43m \u001B[49m\u001B[43mvid_stride\u001B[49m\u001B[38;5;241;43m=\u001B[39;49m\u001B[43mvid_stride\u001B[49m\u001B[43m)\u001B[49m\n\u001B[0;32m    204\u001B[0m \u001B[38;5;66;03m# Attach source types to the dataset\u001B[39;00m\n\u001B[0;32m    205\u001B[0m \u001B[38;5;28msetattr\u001B[39m(dataset, \u001B[38;5;124m\"\u001B[39m\u001B[38;5;124msource_type\u001B[39m\u001B[38;5;124m\"\u001B[39m, source_type)\n",
      "File \u001B[1;32m~\\AppData\\Local\\pypoetry\\Cache\\virtualenvs\\platedetector-wry3MBKo-py3.12\\Lib\\site-packages\\ultralytics\\data\\loaders.py:292\u001B[0m, in \u001B[0;36mLoadImagesAndVideos.__init__\u001B[1;34m(self, path, batch, vid_stride)\u001B[0m\n\u001B[0;32m    290\u001B[0m         files\u001B[38;5;241m.\u001B[39mappend(\u001B[38;5;28mstr\u001B[39m((parent \u001B[38;5;241m/\u001B[39m p)\u001B[38;5;241m.\u001B[39mabsolute()))  \u001B[38;5;66;03m# files (relative to *.txt file parent)\u001B[39;00m\n\u001B[0;32m    291\u001B[0m     \u001B[38;5;28;01melse\u001B[39;00m:\n\u001B[1;32m--> 292\u001B[0m         \u001B[38;5;28;01mraise\u001B[39;00m \u001B[38;5;167;01mFileNotFoundError\u001B[39;00m(\u001B[38;5;124mf\u001B[39m\u001B[38;5;124m\"\u001B[39m\u001B[38;5;132;01m{\u001B[39;00mp\u001B[38;5;132;01m}\u001B[39;00m\u001B[38;5;124m does not exist\u001B[39m\u001B[38;5;124m\"\u001B[39m)\n\u001B[0;32m    294\u001B[0m \u001B[38;5;66;03m# Define files as images or videos\u001B[39;00m\n\u001B[0;32m    295\u001B[0m images, videos \u001B[38;5;241m=\u001B[39m [], []\n",
      "\u001B[1;31mFileNotFoundError\u001B[0m: datasets/cars_license_plate_new/test/images/Cars329.png does not exist"
     ]
    }
   ],
   "source": [
    "predict_and_plot('datasets/cars_license_plate_new/test/images/Cars329.png')"
   ],
   "metadata": {
    "collapsed": false,
    "ExecuteTime": {
     "end_time": "2024-06-30T20:54:10.760447800Z",
     "start_time": "2024-06-30T20:54:10.677207Z"
    }
   },
   "id": "232a12e8394af583",
   "execution_count": 50
  }
 ],
 "metadata": {
  "kernelspec": {
   "display_name": "Python 3 (ipykernel)",
   "language": "python",
   "name": "python3"
  },
  "language_info": {
   "codemirror_mode": {
    "name": "ipython",
    "version": 3
   },
   "file_extension": ".py",
   "mimetype": "text/x-python",
   "name": "python",
   "nbconvert_exporter": "python",
   "pygments_lexer": "ipython3",
   "version": "3.12.4"
  }
 },
 "nbformat": 4,
 "nbformat_minor": 5
}
